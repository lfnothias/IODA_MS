{
 "cells": [
  {
   "cell_type": "markdown",
   "metadata": {},
   "source": [
    "# <span style=\"color:red\"> PathFinder-from-mzML notebook </span>\n",
    "\n",
    "**Purpose**: Run PathFinder in all modes\n",
    "\n",
    "\n",
    "**Usage**: Select the data and run the cells\n"
   ]
  },
  {
   "cell_type": "markdown",
   "metadata": {},
   "source": [
    "# SELECT DATA"
   ]
  },
  {
   "cell_type": "markdown",
   "metadata": {},
   "source": [
    "## Euphorbia data"
   ]
  },
  {
   "cell_type": "code",
   "execution_count": 17,
   "metadata": {},
   "outputs": [],
   "source": [
    "# Blank sample\n",
    "input_BLANK = \"tests/Euphorbia/Targeted/toppas_input/Euphorbia_rogers_latex_Blank_MS1_2uL.mzML\"\n",
    "# Reference sample\n",
    "input_SAMPLE = \"tests/Euphorbia/Targeted/toppas_input/Euphorbia_rogers_latex_latex_MS1_2uL.mzML\"\n",
    "# OpenMS results\n",
    "input_mzTab = 'TOPPAS_Workflow/toppas_output/TOPPAS_out/Targeted_MzTab/Euphorbia_rogers_latex_Blank_MS1_2uL_to_Euphorbia_rogers_latex_latex_MS1_2uL_mrgd.mzTab'\n",
    "input_filename_curve = 'TOPPAS_Workflow/toppas_output/TOPPAS_out/PathFinder_mzTab/Euphorbia_rogers_latex_latex_MS1_2uL.mzTab'"
   ]
  },
  {
   "cell_type": "markdown",
   "metadata": {},
   "source": [
    "## SA113 Test data"
   ]
  },
  {
   "cell_type": "code",
   "execution_count": 9,
   "metadata": {},
   "outputs": [],
   "source": [
    "# Blank sample\n",
    "input_BLANK = \"tests/BP_mzTab/SA113_SPE_MeOH_MS1.mzML\"\n",
    "# Reference sample\n",
    "input_SAMPLE = \"tests/BP_mzTab/SA113_Media_SPE_MeOH_MS1.mzML\"\n",
    "# OpenMS results\n",
    "input_mzTab = 'TOPPAS_Workflow/toppas_output/TOPPAS_out/Targeted_MzTab/SA113_SPE_MeOH_MS1_to_SA113_Media_SPE_MeOH_MS1_mrgd.mzTab'\n",
    "input_filename_curve = 'TOPPAS_Workflow/toppas_output/TOPPAS_out/'"
   ]
  },
  {
   "cell_type": "code",
   "execution_count": 3,
   "metadata": {},
   "outputs": [],
   "source": [
    "# OpenMS FeatureFinderMetabolomics parameters\n",
    "ppm_error = 10\n",
    "noise_level = 1E6"
   ]
  },
  {
   "cell_type": "code",
   "execution_count": 4,
   "metadata": {},
   "outputs": [
    {
     "name": "stderr",
     "output_type": "stream",
     "text": [
      "[I 200817 19:12:21 IODA_run_OpenMS_targeted:40] 2020-08-17 19:12:21.745492\n",
      "[I 200817 19:12:21 IODA_run_OpenMS_targeted:41] STARTING the IODA-targeted WORKFLOW\n",
      "[I 200817 19:12:21 IODA_run_OpenMS_targeted:42] ======\n",
      "[I 200817 19:12:21 IODA_run_OpenMS_targeted:43] Path to the input files: \n",
      "[I 200817 19:12:21 IODA_run_OpenMS_targeted:44] Blank: tests/Euphorbia/Targeted/toppas_input/Euphorbia_rogers_latex_Blank_MS1_2uL.mzML\n",
      "[I 200817 19:12:21 IODA_run_OpenMS_targeted:45] Sample: tests/Euphorbia/Targeted/toppas_input/Euphorbia_rogers_latex_latex_MS1_2uL.mzML\n",
      "[I 200817 19:12:21 IODA_run_OpenMS_targeted:96] Copying the mzML files ...\n",
      "[I 200817 19:12:21 IODA_run_OpenMS_targeted:83] Path to uploaded file: tests/Euphorbia/Targeted/toppas_input/Euphorbia_rogers_latex_Blank_MS1_2uL.mzML\n",
      "[I 200817 19:12:21 IODA_run_OpenMS_targeted:93] The mzML file was found\n",
      "[I 200817 19:12:21 IODA_run_OpenMS_targeted:83] Path to uploaded file: tests/Euphorbia/Targeted/toppas_input/Euphorbia_rogers_latex_latex_MS1_2uL.mzML\n",
      "[I 200817 19:12:21 IODA_run_OpenMS_targeted:93] The mzML file was found\n",
      "[I 200817 19:12:21 IODA_run_OpenMS_targeted:100] ======\n",
      "[I 200817 19:12:21 IODA_run_OpenMS_targeted:101] Changing the variables of the OpenMS workflow ...\n",
      "[I 200817 19:12:21 IODA_run_OpenMS_targeted:102]    ppm error = 10\n",
      "[I 200817 19:12:21 IODA_run_OpenMS_targeted:103]    noise threshold = 1.00e+06\n",
      "[I 200817 19:12:22 IODA_run_OpenMS_targeted:145] ======\n",
      "[I 200817 19:12:22 IODA_run_OpenMS_targeted:146] Initializing the OpenMS workflow\n",
      "[I 200817 19:12:31 IODA_run_OpenMS_targeted:154] ======\n",
      "[I 200817 19:12:31 IODA_run_OpenMS_targeted:155] Running the OpenMS workflow, this usually takes less than a minute, please wait ...\n",
      "[I 200817 19:12:31 IODA_run_OpenMS_targeted:156] If this takes longer, increase the noise treshold value ...\n",
      "[I 200817 19:12:37 IODA_run_OpenMS_targeted:182] ======\n",
      "[I 200817 19:12:37 IODA_run_OpenMS_targeted:183] Completed the OpenMS workflow\n",
      "[I 200817 19:12:37 IODA_run_OpenMS_targeted:184] ======\n",
      "[I 200817 19:12:37 IODA_run_OpenMS_targeted:185] Zipping up the OpenMS workflow results ..\n",
      "[I 200817 19:12:37 IODA_exclusion_workflow:156] All files zipped successfully!\n",
      "[I 200817 19:12:37 IODA_run_OpenMS_targeted:188] ======\n",
      "[I 200817 19:12:37 IODA_run_OpenMS_targeted:189] Completed zipping up the OpenMS workflow result files\n",
      "[I 200817 19:12:37 IODA_run_OpenMS_targeted:191] ======\n",
      "[I 200817 19:12:37 IODA_run_OpenMS_targeted:192] NOW CONTINUE WITH THE REST OF THE IODA-targeted WORKFLOW\n"
     ]
    }
   ],
   "source": [
    "from IODA_run_OpenMS_targeted import *\n",
    "IODA_targeted_workflow(input_BLANK,input_SAMPLE,ppm_error,noise_level)"
   ]
  },
  {
   "cell_type": "markdown",
   "metadata": {},
   "source": [
    "## Run PathFinder"
   ]
  },
  {
   "cell_type": "code",
   "execution_count": 5,
   "metadata": {},
   "outputs": [],
   "source": [
    "from IODA_BestPath_workflow import *"
   ]
  },
  {
   "cell_type": "markdown",
   "metadata": {},
   "source": [
    "### Shared parameters for the modes (baseline/apex/curve)"
   ]
  },
  {
   "cell_type": "code",
   "execution_count": 6,
   "metadata": {},
   "outputs": [],
   "source": [
    "# Best Path shared parameters\n",
    "min_ratio_value = 3\n",
    "min_intensity_value = 3E4\n",
    "experiment_number = 4\n",
    "isolation = 1.5\n",
    "delay = 0.1 #sec\n",
    "\n",
    "# Target ion list parameters\n",
    "rt_margin = 0.3"
   ]
  },
  {
   "cell_type": "markdown",
   "metadata": {},
   "source": [
    "### PathFinder in Baseline mode"
   ]
  },
  {
   "cell_type": "code",
   "execution_count": 7,
   "metadata": {},
   "outputs": [],
   "source": [
    "# Baseline parameter\n",
    "win_len = 0.5"
   ]
  },
  {
   "cell_type": "code",
   "execution_count": 9,
   "metadata": {},
   "outputs": [
    {
     "name": "stderr",
     "output_type": "stream",
     "text": [
      "[I 200817 19:13:03 IODA_BestPath_workflow:131] STARTING THE PathFinder WORKFLOW\n",
      "[I 200817 19:13:03 IODA_BestPath_workflow:141] the input_filename variable should be a valid path/download link or must be: 'OpenMS_generated', when using the OpenMS workflow online\n",
      "[I 200817 19:13:03 IODA_BestPath_workflow:144] 2020-08-17 19:13:03.858165\n",
      "[I 200817 19:13:03 IODA_BestPath_workflow:146] ======\n",
      "[I 200817 19:13:03 IODA_BestPath_workflow:147] Getting the mzTab\n",
      "[I 200817 19:13:03 IODA_BestPath_workflow:163] This is the input file path: TOPPAS_Workflow/toppas_output/TOPPAS_out/Targeted_MzTab/Euphorbia_rogers_latex_Blank_MS1_2uL_to_Euphorbia_rogers_latex_latex_MS1_2uL_mrgd.mzTab\n",
      "[I 200817 19:13:03 IODA_BestPath_workflow:164] This is the output file path: results_targeted_pathfinder_baseline/Euphorbia_rogers_latex_Blank_MS1_2uL_to_Euphorbia_rogers_latex_latex_MS1_2uL_mrgd.csv\n",
      "[I 200817 19:13:03 IODA_BestPath_workflow:168] ======\n",
      "[I 200817 19:13:03 IODA_BestPath_workflow:169] Converting mzTab to intermediate table format ...\n",
      "[I 200817 19:13:03 IODA_BestPath_workflow:76] - For sample Euphorbia_rogers_latex_Blank_MS1_2uL the sum of feature intensities is = 5.65e+08\n",
      "[I 200817 19:13:03 IODA_BestPath_workflow:78] - For sample Euphorbia_rogers_latex_latex_MS1_2uL the sum of feature intensities = 5.63e+10\n",
      "[I 200817 19:13:03 IODA_BestPath_workflow:171] ======\n",
      "[I 200817 19:13:03 IODA_BestPath_workflow:176] Assumed sample filename: Euphorbia_rogers_latex_latex_MS1_2uL\n",
      "[I 200817 19:13:03 IODA_BestPath_workflow:178] Assumed blank filename: Euphorbia_rogers_latex_Blank_MS1_2uL\n",
      "[I 200817 19:13:03 IODA_BestPath_workflow:179] ======\n",
      "[I 200817 19:13:03 IODA_BestPath_workflow:182] User-defined parameters\n",
      "[I 200817 19:13:03 IODA_BestPath_workflow:184]     Ratio between sample/blank for ion filtering = 3\n",
      "[I 200817 19:13:03 IODA_BestPath_workflow:186]     Minimum intensity for ion filtering in sample = 3.00e+04\n",
      "[I 200817 19:13:03 IODA_BestPath_workflow:187]     Retention time window (min.) for binning target ions = 0.5\n",
      "[I 200817 19:13:03 IODA_BestPath_workflow:188]     Isolation window (m/z) = 1.5\n",
      "[I 200817 19:13:03 IODA_BestPath_workflow:189]     Retention time margin (sec.) = 0.3\n",
      "[I 200817 19:13:03 IODA_BestPath_workflow:191]     Number of iterative experiment(s) = 4\n",
      "[I 200817 19:13:03 IODA_BestPath_workflow:192] ======\n",
      "[I 200817 19:13:03 IODA_BestPath_workflow:195] Running Path Finder in Baseline mode ...\n",
      "[I 200817 19:13:03 IODA_BestPath_workflow:601] Command: python3 path_finder.py baseline results_targeted_pathfinder_baseline/Euphorbia_rogers_latex_Blank_MS1_2uL_to_Euphorbia_rogers_latex_latex_MS1_2uL_mrgd.csv results_targeted_pathfinder_baseline/Euphorbia_rogers_latex_Blank_MS1_2uL_to_Euphorbia_rogers_latex_latex_MS1_2uL_mrgd_PathFinder.csv 30000.0 3 4 -win_len 0.5 -isolation 1.5\n",
      "[I 200817 19:13:05 IODA_BestPath_workflow:197] ======\n",
      "[I 200817 19:13:05 IODA_BestPath_workflow:202] Best Path output found\n",
      "[I 200817 19:13:05 IODA_BestPath_workflow:211] Preparing results ...\n",
      "[I 200817 19:13:05 IODA_BestPath_workflow:213] Preparing results ...\n",
      "[I 200817 19:13:05 IODA_BestPath_workflow:563] File processed: results_targeted_pathfinder_baseline/Euphorbia_rogers_latex_Blank_MS1_2uL_to_Euphorbia_rogers_latex_latex_MS1_2uL_mrgd_PathFinder.csv\n",
      "[I 200817 19:13:05 IODA_BestPath_workflow:564] ======\n",
      "[I 200817 19:13:05 IODA_BestPath_workflow:556] Valid target ions in path1 = 344\n",
      "[I 200817 19:13:05 IODA_BestPath_workflow:573] Formatting to XCalibur format ...\n",
      "[I 200817 19:13:05 IODA_BestPath_workflow:576] Formatting for MaxQuant.Live ...\n",
      "[I 200817 19:13:05 IODA_BestPath_workflow:579] =======\n",
      "[I 200817 19:13:05 IODA_BestPath_workflow:556] Valid target ions in path2 = 204\n",
      "[I 200817 19:13:05 IODA_BestPath_workflow:573] Formatting to XCalibur format ...\n",
      "[I 200817 19:13:05 IODA_BestPath_workflow:576] Formatting for MaxQuant.Live ...\n",
      "[I 200817 19:13:05 IODA_BestPath_workflow:579] =======\n",
      "[I 200817 19:13:05 IODA_BestPath_workflow:556] Valid target ions in path3 = 129\n",
      "[I 200817 19:13:05 IODA_BestPath_workflow:573] Formatting to XCalibur format ...\n",
      "[I 200817 19:13:05 IODA_BestPath_workflow:576] Formatting for MaxQuant.Live ...\n",
      "[I 200817 19:13:05 IODA_BestPath_workflow:579] =======\n",
      "[I 200817 19:13:05 IODA_BestPath_workflow:556] Valid target ions in path4 = 94\n",
      "[I 200817 19:13:05 IODA_BestPath_workflow:573] Formatting to XCalibur format ...\n",
      "[I 200817 19:13:06 IODA_BestPath_workflow:576] Formatting for MaxQuant.Live ...\n",
      "[I 200817 19:13:06 IODA_BestPath_workflow:579] =======\n",
      "[I 200817 19:13:06 IODA_BestPath_workflow:587] Plotting results ...\n",
      "[I 200817 19:13:09 IODA_BestPath_workflow:215] ======\n",
      "[I 200817 19:13:09 IODA_BestPath_workflow:217] Cleaning and zipping workflow results files ...\n",
      "[I 200817 19:13:09 IODA_BestPath_workflow:119] All files zipped successfully!\n",
      "[I 200817 19:13:09 IODA_BestPath_workflow:245] ======\n",
      "[I 200817 19:13:09 IODA_BestPath_workflow:246] END OF THE Path Finder WORKFLOW\n",
      "[I 200817 19:13:09 IODA_BestPath_workflow:247] ======\n"
     ]
    },
    {
     "name": "stdout",
     "output_type": "stream",
     "text": [
      " \n"
     ]
    },
    {
     "data": {
      "text/plain": [
       "<Figure size 432x288 with 0 Axes>"
      ]
     },
     "metadata": {},
     "output_type": "display_data"
    }
   ],
   "source": [
    "# Run Path Finder with Baseline method \n",
    "run_path_finder_baseline_from_mzTab(input_mzTab, experiment_number, min_ratio_value, min_intensity_value, win_len, isolation, rt_margin)"
   ]
  },
  {
   "cell_type": "markdown",
   "metadata": {},
   "source": [
    "### PathFinder in Apex mode"
   ]
  },
  {
   "cell_type": "code",
   "execution_count": 19,
   "metadata": {},
   "outputs": [],
   "source": [
    "# Apex parameters\n",
    "intensity_accu = 1e6\n",
    "delay = 0.1"
   ]
  },
  {
   "cell_type": "code",
   "execution_count": 11,
   "metadata": {},
   "outputs": [
    {
     "name": "stderr",
     "output_type": "stream",
     "text": [
      "[I 200817 19:13:09 IODA_BestPath_workflow:262] STARTING THE PathFinder WORKFLOW\n",
      "[I 200817 19:13:09 IODA_BestPath_workflow:272] the input_filename variable should be a valid path/download link or must be: 'OpenMS_generated', when using the OpenMS workflow online\n",
      "[I 200817 19:13:09 IODA_BestPath_workflow:275] 2020-08-17 19:13:09.900186\n",
      "[I 200817 19:13:09 IODA_BestPath_workflow:277] ======\n",
      "[I 200817 19:13:09 IODA_BestPath_workflow:278] Getting the mzTab\n",
      "[I 200817 19:13:09 IODA_BestPath_workflow:294] This is the input file path: TOPPAS_Workflow/toppas_output/TOPPAS_out/Targeted_MzTab/Euphorbia_rogers_latex_Blank_MS1_2uL_to_Euphorbia_rogers_latex_latex_MS1_2uL_mrgd.mzTab\n",
      "[I 200817 19:13:09 IODA_BestPath_workflow:295] This is the output file path: results_targeted_pathfinder_apex/Euphorbia_rogers_latex_Blank_MS1_2uL_to_Euphorbia_rogers_latex_latex_MS1_2uL_mrgd.csv\n",
      "[I 200817 19:13:09 IODA_BestPath_workflow:299] ======\n",
      "[I 200817 19:13:09 IODA_BestPath_workflow:300] Converting mzTab to intermediate table format ...\n",
      "[I 200817 19:13:09 IODA_BestPath_workflow:76] - For sample Euphorbia_rogers_latex_Blank_MS1_2uL the sum of feature intensities is = 5.65e+08\n",
      "[I 200817 19:13:09 IODA_BestPath_workflow:78] - For sample Euphorbia_rogers_latex_latex_MS1_2uL the sum of feature intensities = 5.63e+10\n",
      "[I 200817 19:13:09 IODA_BestPath_workflow:302] ======\n",
      "[I 200817 19:13:09 IODA_BestPath_workflow:307] Assumed sample filename: Euphorbia_rogers_latex_latex_MS1_2uL\n",
      "[I 200817 19:13:09 IODA_BestPath_workflow:309] Assumed blank filename: Euphorbia_rogers_latex_Blank_MS1_2uL\n",
      "[I 200817 19:13:09 IODA_BestPath_workflow:310] ======\n",
      "[I 200817 19:13:09 IODA_BestPath_workflow:313] User-defined parameters\n",
      "[I 200817 19:13:09 IODA_BestPath_workflow:315]     Ratio between sample/blank for ion filtering = 3\n",
      "[I 200817 19:13:09 IODA_BestPath_workflow:317]     Minimum intensity for ion filtering in sample = 3.00e+04\n",
      "[I 200817 19:13:09 IODA_BestPath_workflow:318]     Precursor ion intensity to accumulate in the MS2 scan = 3.00e+05\n",
      "[I 200817 19:13:09 IODA_BestPath_workflow:319]     Isolation window (m/z) = 1.5\n",
      "[I 200817 19:13:09 IODA_BestPath_workflow:320]     Retention time margin (sec.) = 0.3\n",
      "[I 200817 19:13:09 IODA_BestPath_workflow:321]     Delay between targeted MS2 scans (sec)= 0.1\n",
      "[I 200817 19:13:09 IODA_BestPath_workflow:323]     Number of iterative experiment(s) = 4\n",
      "[I 200817 19:13:09 IODA_BestPath_workflow:324] ======\n",
      "[I 200817 19:13:09 IODA_BestPath_workflow:327] Running Path Finder in Apex mode ...\n",
      "[I 200817 19:13:09 IODA_BestPath_workflow:606] Command: python3 path_finder.py apex results_targeted_pathfinder_apex/Euphorbia_rogers_latex_Blank_MS1_2uL_to_Euphorbia_rogers_latex_latex_MS1_2uL_mrgd.csv results_targeted_pathfinder_apex/Euphorbia_rogers_latex_Blank_MS1_2uL_to_Euphorbia_rogers_latex_latex_MS1_2uL_mrgd_PathFinder.csv 30000.0 3 4 -intensity_accu 300000.0 -isolation 1.5 -delta 0.1\n",
      "[I 200817 19:13:11 IODA_BestPath_workflow:329] ======\n",
      "[I 200817 19:13:11 IODA_BestPath_workflow:334] Best Path output found\n",
      "[I 200817 19:13:11 IODA_BestPath_workflow:344] Preparing results ...\n",
      "[I 200817 19:13:11 IODA_BestPath_workflow:563] File processed: results_targeted_pathfinder_apex/Euphorbia_rogers_latex_Blank_MS1_2uL_to_Euphorbia_rogers_latex_latex_MS1_2uL_mrgd_PathFinder.csv\n",
      "[I 200817 19:13:11 IODA_BestPath_workflow:564] ======\n",
      "[I 200817 19:13:11 IODA_BestPath_workflow:556] Valid target ions in path1 = 270\n",
      "[I 200817 19:13:11 IODA_BestPath_workflow:573] Formatting to XCalibur format ...\n",
      "[I 200817 19:13:11 IODA_BestPath_workflow:576] Formatting for MaxQuant.Live ...\n",
      "[I 200817 19:13:11 IODA_BestPath_workflow:579] =======\n",
      "[I 200817 19:13:11 IODA_BestPath_workflow:556] Valid target ions in path2 = 172\n",
      "[I 200817 19:13:11 IODA_BestPath_workflow:573] Formatting to XCalibur format ...\n",
      "[I 200817 19:13:11 IODA_BestPath_workflow:576] Formatting for MaxQuant.Live ...\n",
      "[I 200817 19:13:11 IODA_BestPath_workflow:579] =======\n",
      "[I 200817 19:13:11 IODA_BestPath_workflow:556] Valid target ions in path3 = 131\n",
      "[I 200817 19:13:11 IODA_BestPath_workflow:573] Formatting to XCalibur format ...\n",
      "[I 200817 19:13:11 IODA_BestPath_workflow:576] Formatting for MaxQuant.Live ...\n",
      "[I 200817 19:13:11 IODA_BestPath_workflow:579] =======\n",
      "[I 200817 19:13:11 IODA_BestPath_workflow:556] Valid target ions in path4 = 88\n",
      "[I 200817 19:13:11 IODA_BestPath_workflow:573] Formatting to XCalibur format ...\n",
      "[I 200817 19:13:11 IODA_BestPath_workflow:576] Formatting for MaxQuant.Live ...\n",
      "[I 200817 19:13:11 IODA_BestPath_workflow:579] =======\n",
      "[I 200817 19:13:11 IODA_BestPath_workflow:587] Plotting results ...\n",
      "[I 200817 19:13:15 IODA_BestPath_workflow:346] ======\n",
      "[I 200817 19:13:15 IODA_BestPath_workflow:348] Cleaning and zipping workflow results files ...\n",
      "[I 200817 19:13:15 IODA_BestPath_workflow:119] All files zipped successfully!\n",
      "[I 200817 19:13:15 IODA_BestPath_workflow:376] ======\n",
      "[I 200817 19:13:15 IODA_BestPath_workflow:377] END OF THE Path Finder WORKFLOW\n",
      "[I 200817 19:13:15 IODA_BestPath_workflow:378] ======\n"
     ]
    },
    {
     "name": "stdout",
     "output_type": "stream",
     "text": [
      " \n"
     ]
    },
    {
     "data": {
      "text/plain": [
       "<Figure size 432x288 with 0 Axes>"
      ]
     },
     "metadata": {},
     "output_type": "display_data"
    }
   ],
   "source": [
    "# Run Path Finder with Apex method\n",
    "run_path_finder_apex_from_mzTab(input_mzTab, experiment_number, min_ratio_value, min_intensity_value, intensity_accu, isolation, delay, rt_margin,)"
   ]
  },
  {
   "cell_type": "markdown",
   "metadata": {},
   "source": [
    "### PathFinder in Curve mode"
   ]
  },
  {
   "cell_type": "code",
   "execution_count": 20,
   "metadata": {},
   "outputs": [
    {
     "name": "stdout",
     "output_type": "stream",
     "text": [
      "tests/Euphorbia/Targeted/toppas_input/Euphorbia_rogers_latex_latex_MS1_2uL.mzML\n"
     ]
    },
    {
     "name": "stderr",
     "output_type": "stream",
     "text": [
      "[I 200817 19:25:33 IODA_run_OpenMS_targeted:222] 2020-08-17 19:25:33.638029\n",
      "[I 200817 19:25:33 IODA_run_OpenMS_targeted:223] STARTING the Path Finder Curve processing\n",
      "[I 200817 19:25:33 IODA_run_OpenMS_targeted:224] ======\n",
      "[I 200817 19:25:33 IODA_run_OpenMS_targeted:225] Path to the input files: \n",
      "[I 200817 19:25:33 IODA_run_OpenMS_targeted:226]     Sample: tests/Euphorbia/Targeted/toppas_input/Euphorbia_rogers_latex_latex_MS1_2uL.mzML\n",
      "[I 200817 19:25:33 IODA_run_OpenMS_targeted:228] ======\n",
      "[I 200817 19:25:33 IODA_run_OpenMS_targeted:229] Download the latest version of the workflow from the repository ...\n",
      "[I 200817 19:25:33 IODA_run_OpenMS_targeted:233] wget https://github.com/lfnothias/IODA_MS/raw/MS2Planner_master/TOPPAS_Workflow/MS1_PathFinder_Curve_mzTab.toppas -O TOPPAS_Workflow/MS1_PathFinder_Curve_mzTab.toppas\n",
      "[I 200817 19:25:34 IODA_run_OpenMS_targeted:255] ======\n",
      "[I 200817 19:25:34 IODA_run_OpenMS_targeted:256] Initializing the OpenMS workflow\n",
      "[I 200817 19:25:34 IODA_run_OpenMS_targeted:264] ======\n",
      "[I 200817 19:25:34 IODA_run_OpenMS_targeted:265] Running the OpenMS workflow, this usually takes couple minutes, please wait ...\n",
      "[I 200817 19:26:53 IODA_run_OpenMS_targeted:293] ======\n",
      "[I 200817 19:26:53 IODA_run_OpenMS_targeted:294] Completed the OpenMS workflow\n",
      "[I 200817 19:26:53 IODA_run_OpenMS_targeted:295] ======\n",
      "[I 200817 19:26:53 IODA_run_OpenMS_targeted:296] Zipping up the OpenMS workflow results ..\n",
      "[I 200817 19:26:54 IODA_exclusion_workflow:156] All files zipped successfully!\n",
      "[I 200817 19:26:54 IODA_run_OpenMS_targeted:307] ======\n",
      "[I 200817 19:26:54 IODA_run_OpenMS_targeted:308] Completed zipping up the OpenMS workflow result files\n",
      "[I 200817 19:26:54 IODA_run_OpenMS_targeted:310] ======\n",
      "[I 200817 19:26:54 IODA_run_OpenMS_targeted:311] NOW CONTINUE WITH THE REST OF THE WORKFLOW\n"
     ]
    }
   ],
   "source": [
    "print(input_SAMPLE)\n",
    "Path_Finder_Curve_OpenMS(input_SAMPLE,ppm_error,noise_level)"
   ]
  },
  {
   "cell_type": "code",
   "execution_count": 21,
   "metadata": {},
   "outputs": [],
   "source": [
    "# Curve parameters\n",
    "delay = 0.1\n",
    "restriction = 2 \n",
    "mz_accuracy = 0.02 ### TEMPORARY NAME, SEE MY EMAIL\n",
    "# Target ion list parameters\n",
    "transient_time = 100 #ms"
   ]
  },
  {
   "cell_type": "code",
   "execution_count": 22,
   "metadata": {},
   "outputs": [
    {
     "name": "stderr",
     "output_type": "stream",
     "text": [
      "[I 200817 19:26:54 IODA_BestPath_workflow:393] STARTING THE PathFinder WORKFLOW\n",
      "[I 200817 19:26:54 IODA_BestPath_workflow:403] the input_filename variable should be a valid path/download link or must be: 'OpenMS_generated', when using the OpenMS workflow online\n",
      "[I 200817 19:26:54 IODA_BestPath_workflow:406] 2020-08-17 19:26:54.904364\n",
      "[I 200817 19:26:54 IODA_BestPath_workflow:408] ======\n",
      "[I 200817 19:26:54 IODA_BestPath_workflow:409] Getting the mzTab\n",
      "[I 200817 19:26:54 IODA_BestPath_workflow:425] This is the input file path: TOPPAS_Workflow/toppas_output/TOPPAS_out/Targeted_MzTab/Euphorbia_rogers_latex_Blank_MS1_2uL_to_Euphorbia_rogers_latex_latex_MS1_2uL_mrgd.mzTab\n",
      "[I 200817 19:26:54 IODA_BestPath_workflow:426] This is the output file path: results_targeted_pathfinder_curve/Euphorbia_rogers_latex_Blank_MS1_2uL_to_Euphorbia_rogers_latex_latex_MS1_2uL_mrgd.csv\n",
      "[I 200817 19:26:54 IODA_BestPath_workflow:429] ======\n",
      "[I 200817 19:26:54 IODA_BestPath_workflow:430] Converting mzTab to intermediate table format ...\n",
      "[I 200817 19:26:54 IODA_BestPath_workflow:76] - For sample Euphorbia_rogers_latex_Blank_MS1_2uL the sum of feature intensities is = 5.65e+08\n",
      "[I 200817 19:26:54 IODA_BestPath_workflow:78] - For sample Euphorbia_rogers_latex_latex_MS1_2uL the sum of feature intensities = 5.63e+10\n",
      "[I 200817 19:26:54 IODA_BestPath_workflow:432] ======\n",
      "[I 200817 19:26:54 IODA_BestPath_workflow:437] Assumed sample filename: Euphorbia_rogers_latex_latex_MS1_2uL\n",
      "[I 200817 19:26:54 IODA_BestPath_workflow:439] Assumed blank filename: Euphorbia_rogers_latex_Blank_MS1_2uL\n",
      "[I 200817 19:26:54 IODA_BestPath_workflow:440] ======\n",
      "[I 200817 19:26:54 IODA_BestPath_workflow:443] User-defined parameters\n",
      "[I 200817 19:26:54 IODA_BestPath_workflow:445]     Ratio between sample/blank for ion filtering = 3\n",
      "[I 200817 19:26:54 IODA_BestPath_workflow:447]     Minimum intensity for ion filtering in sample = 3.00e+04\n",
      "[I 200817 19:26:54 IODA_BestPath_workflow:448]     Precursor ion intensity to accumulate in the MS2 scan = 1.00e+06\n",
      "[I 200817 19:26:54 IODA_BestPath_workflow:449]     Transient time and overhead (ms) = 100\n",
      "[I 200817 19:26:54 IODA_BestPath_workflow:450]     Input file for curve data : TOPPAS_Workflow/toppas_output/TOPPAS_out/PathFinder_mzTab/Euphorbia_rogers_latex_latex_MS1_2uL.mzTab\n",
      "[I 200817 19:26:54 IODA_BestPath_workflow:451]     Retention time margin (sec.) = 0.3\n",
      "[I 200817 19:26:54 IODA_BestPath_workflow:452]     Restriction parameter : 2\n",
      "[I 200817 19:26:54 IODA_BestPath_workflow:453]     Mass accuracy (m/z): 0.02\n",
      "[I 200817 19:26:54 IODA_BestPath_workflow:454]     Delay between targeted MS2 scans (sec)= 0.1\n",
      "[I 200817 19:26:54 IODA_BestPath_workflow:456]     Number of iterative experiment(s) = 4\n",
      "[I 200817 19:26:54 IODA_BestPath_workflow:457] ======\n",
      "[I 200817 19:26:54 IODA_BestPath_workflow:463] mzTab for the Curve mode found\n",
      "[I 200817 19:26:54 IODA_BestPath_workflow:473] Running PathFinder in Curve mode ...\n",
      "[I 200817 19:26:54 IODA_BestPath_workflow:611] Command: python3 path_finder.py curve results_targeted_pathfinder_curve/Euphorbia_rogers_latex_Blank_MS1_2uL_to_Euphorbia_rogers_latex_latex_MS1_2uL_mrgd.csv results_targeted_pathfinder_curve/Euphorbia_rogers_latex_Blank_MS1_2uL_to_Euphorbia_rogers_latex_latex_MS1_2uL_mrgd_PathFinder.csv 30000.0 3 4 -infile_raw TOPPAS_Workflow/toppas_output/TOPPAS_out/PathFinder_mzTab/Euphorbia_rogers_latex_latex_MS1_2uL.mzTab -intensity_accu 1000000.0 -restriction 2 0.02 -delta 0.1\n",
      "[I 200817 19:26:54 IODA_BestPath_workflow:612] Path Finder in Curve mode can take up to 10 minutes to complete ... please wait\n",
      "[I 200817 19:29:05 IODA_BestPath_workflow:482] PathFinder output found\n",
      "[I 200817 19:29:05 IODA_BestPath_workflow:491] ======\n",
      "[I 200817 19:29:05 IODA_BestPath_workflow:492] Preparing results ...\n",
      "[I 200817 19:29:05 IODA_BestPath_workflow:563] File processed: results_targeted_pathfinder_curve/Euphorbia_rogers_latex_Blank_MS1_2uL_to_Euphorbia_rogers_latex_latex_MS1_2uL_mrgd_PathFinder.csv\n",
      "[I 200817 19:29:05 IODA_BestPath_workflow:564] ======\n",
      "[I 200817 19:29:05 IODA_BestPath_workflow:556] Valid target ions in path1 = 1029\n",
      "[I 200817 19:29:05 IODA_BestPath_workflow:573] Formatting to XCalibur format ...\n",
      "[I 200817 19:29:05 IODA_BestPath_workflow:576] Formatting for MaxQuant.Live ...\n",
      "[I 200817 19:29:05 IODA_BestPath_workflow:579] =======\n",
      "[I 200817 19:29:05 IODA_BestPath_workflow:556] Valid target ions in path2 = 84\n",
      "[I 200817 19:29:05 IODA_BestPath_workflow:573] Formatting to XCalibur format ...\n",
      "[I 200817 19:29:05 IODA_BestPath_workflow:576] Formatting for MaxQuant.Live ...\n",
      "[I 200817 19:29:05 IODA_BestPath_workflow:579] =======\n",
      "[I 200817 19:29:05 IODA_BestPath_workflow:556] Valid target ions in path3 = 13\n",
      "[I 200817 19:29:05 IODA_BestPath_workflow:573] Formatting to XCalibur format ...\n",
      "[I 200817 19:29:05 IODA_BestPath_workflow:576] Formatting for MaxQuant.Live ...\n",
      "[I 200817 19:29:05 IODA_BestPath_workflow:579] =======\n",
      "[I 200817 19:29:05 IODA_BestPath_workflow:587] Plotting results ...\n",
      "[I 200817 19:29:09 IODA_BestPath_workflow:494] ======\n",
      "[I 200817 19:29:09 IODA_BestPath_workflow:496] Cleaning and zipping workflow results files ...\n",
      "[I 200817 19:29:09 IODA_BestPath_workflow:119] All files zipped successfully!\n",
      "[I 200817 19:29:09 IODA_BestPath_workflow:524] ======\n",
      "[I 200817 19:29:09 IODA_BestPath_workflow:525] END OF THE Path Finder WORKFLOW\n",
      "[I 200817 19:29:09 IODA_BestPath_workflow:526] ======\n"
     ]
    },
    {
     "name": "stdout",
     "output_type": "stream",
     "text": [
      " \n"
     ]
    },
    {
     "data": {
      "text/plain": [
       "<Figure size 432x288 with 0 Axes>"
      ]
     },
     "metadata": {},
     "output_type": "display_data"
    }
   ],
   "source": [
    "# Run Path Finder with Curve method\n",
    "run_path_finder_curve_from_mzTab(input_mzTab, experiment_number, min_ratio_value, min_intensity_value, input_filename_curve, intensity_accu, restriction, mz_accuracy, delay, rt_margin, transient_time)"
   ]
  },
  {
   "cell_type": "code",
   "execution_count": null,
   "metadata": {},
   "outputs": [],
   "source": [
    "#This is to see the log of PathFinder\n",
    "!python3 path_finder.py curve results_targeted_pathfinder_curve/Euphorbia_rogers_latex_Blank_MS1_2uL_to_Euphorbia_rogers_latex_latex_MS1_2uL_mrgd.csv results_targeted_pathfinder_curve/Euphorbia_rogers_latex_Blank_MS1_2uL_to_Euphorbia_rogers_latex_latex_MS1_2uL_mrgd_PathFinder.csv 30000.0 1 5 -infile_raw TOPPAS_Workflow/toppas_output/TOPPAS_out/Targeted_MzTab/Euphorbia_rogers_latex_Blank_MS1_2uL_to_Euphorbia_rogers_latex_latex_MS1_2uL_mrgd.mzTab -intensity_accu 300000.0 -restriction 2 0.02 -delta 0.1"
   ]
  },
  {
   "cell_type": "code",
   "execution_count": null,
   "metadata": {},
   "outputs": [],
   "source": []
  },
  {
   "cell_type": "code",
   "execution_count": null,
   "metadata": {},
   "outputs": [],
   "source": []
  },
  {
   "cell_type": "code",
   "execution_count": null,
   "metadata": {},
   "outputs": [],
   "source": []
  },
  {
   "cell_type": "code",
   "execution_count": null,
   "metadata": {},
   "outputs": [],
   "source": []
  },
  {
   "cell_type": "markdown",
   "metadata": {},
   "source": [
    "# <span style=\"color:red\"> Targeted-from-mzTab notebook for IODA </span>\n",
    "\n",
    "**Purpose**: The IODA targeted-from-mzTab workflow takes allows to generate list of target ions for iterative optimise data acquisition (IODA) of fragmentation spectra in LC-MS. It accepts as input an mzTab file with results for two samples: the \"reference\" sample and the \"blank\" sample. The targets are detected in the \"reference\" sample, and background ions are detected in the \"blank\" sample. Background ions are excluded from the targets. The targets can be acquired by IODA in one or multiple experiments for higher coverage.\n",
    "\n",
    "\n",
    "**Usage**: This notebook requires the user to provide an mzTab. If you need to process your LC-MS data, you can use our [IODA targeted-from-mzML notebook](IODA_targeted_from_mzML.ipynb), or refer to our documentation for more informations. The IODA targeted workflow defines the target ions, and these targets are then formatted for XCalibur or [MaxQuant.Live]\n",
    "\n",
    "**Documentation**: Please refer to the documentation page [See here](link).\n",
    "\n",
    "**Instructions**: Follow the instructions below and run the notebook cells accordingly."
   ]
  },
  {
   "cell_type": "markdown",
   "metadata": {},
   "source": [
    "### Step 0 - Generate an mzTab file\n",
    "\n",
    "The mzTab file must contain results from feature detection and alignment for the two samples: the \"reference\" sample and the \"blank' sample. Please refer to the [documentation page](link) for more information.\n",
    "\n",
    "### Step 1 - Upload the mzTab file\n",
    "\n",
    "##### <span style=\"color:brown\">Method 1 - Upload your mzTab file </span>\n",
    "\n",
    "Upload your mzML files on the Binder server with the Jupyter lab interface (drag-and-drop the file in the left panel or use the \"Upload\" icon). \n",
    "\n",
    "##### <span style=\"color:brown\">Method 2 - Web-sharing links</span>\n",
    "We support retrieving the files from the following cloud sharing services:\n",
    "> **Google Drive** : copy the sharing the link (make sure the sharing setting is set to 'Anyone with the link can download').\n",
    "\n",
    "> **MassIVE/GNPS repository** : copy the link for the file.\n",
    "\n",
    "\n",
    "### Step 3 - Specify the link or path to the mzTab file\n",
    "\n",
    "In the cell below, indicate the filename for the mzTab file. The filename must be into parenthesis,  such as: *\"myfile.mzTab\"*. If applicable change the path, such *\"input_folder/myfile.mzTab\"*."
   ]
  },
  {
   "cell_type": "code",
   "execution_count": null,
   "metadata": {},
   "outputs": [],
   "source": [
    "input_mzTab = 'https://drive.google.com/file/d/1NGVzhrw-xZ4nMJserIQ7v4tYgcmraZ6g/view?usp=sharing'"
   ]
  },
  {
   "cell_type": "markdown",
   "metadata": {},
   "source": [
    "### Step 4 - Specify the parameters of the IODA-targeted workflow\n",
    "Specify the parameter values for IODA-targeted workflow in the cell below:\n",
    "\n",
    "*min_ratio_value*: minimum ratio for the intensity of an ion/feature (peak height) between the reference and blank samples (reference/blank). Only ions above that ratio will be valid ion targets. (Default = 5).\n",
    "\n",
    "*min_intensity_value*: the minimum intensity (peak height) of an ion/feature in the reference sample to be considered as valid ion targets. (Default = 1E5).\n",
    "\n",
    "*experiment_number*: define the number of iterative experiment(s) to perform for the IODA-targeted workflow. If >2, the valid target ions will be splitted into (multiple) experiments (Default = 3, range 1-10)\n"
   ]
  },
  {
   "cell_type": "code",
   "execution_count": null,
   "metadata": {},
   "outputs": [],
   "source": [
    "min_ratio_value = 5\n",
    "min_intensity_value = 1E5\n",
    "experiment_number = 3"
   ]
  },
  {
   "cell_type": "markdown",
   "metadata": {},
   "source": [
    "### Step 5 - Run the IODA-targeted workflow\n",
    "\n",
    "Simply run the cell below to start the IODA-targeted workflow"
   ]
  },
  {
   "cell_type": "code",
   "execution_count": null,
   "metadata": {},
   "outputs": [],
   "source": [
    "from IODA_targeted_workflow import *\n",
    "make_targeted_list_from_mzTab(input_mzTab, experiment_number, min_ratio_value, min_intensity_value)"
   ]
  },
  {
   "cell_type": "markdown",
   "metadata": {},
   "source": [
    "### Step 6 - Examine the results\n",
    "\n",
    "**Visualise** : Run the cell below to show the scatter plot for the IODA-targeted workflow results. Valid targets in the reference sample are represented into experiment(s). The ion/features from the blank sample are also shown. Verify that the OpenMS parameter variables and IODA-targeted workflows are adapted to level you want to apply, and your sample(s) complexity.\n",
    "\n",
    "- Examine the IODA-targeted worflow log and the plots in order to verify that the 'min_intensity' parameter is adapted to exclusion level you want to apply, and your sample(s) complexity.\n",
    "- Note that, at this stage, it cannot be evaluated if ion detection was done optimally. This should be examinated during the generation of the mzTab file (such as with TOPPAS/OpenMS)."
   ]
  },
  {
   "cell_type": "code",
   "execution_count": null,
   "metadata": {},
   "outputs": [],
   "source": [
    "from IPython.display import Image\n",
    "Image(\"results_targeted/intermediate_files/experiment_blank_shared_TARGETED_RATIO_scatter_view.png\")\n",
    "Image(\"results_targeted/intermediate_files/experiment_blank_shared_TARGETED_INTENSITY_scatter_view.png\")"
   ]
  },
  {
   "cell_type": "markdown",
   "metadata": {},
   "source": [
    "### Step 7 - Download the results\n",
    "\n",
    "Download the IODA-targeted workflow results ->\n",
    "[download-results/IODA_targeted_results.zip](download-results/IODA_targeted_results.zip?download=1).\n",
    "\n",
    "### Step 8 - Prepare your IODA experiment\n",
    "Prepare the iterative mass spectrometry acquisition. For instructions on how to load and configure an exclusion list with XCalibur or MaxQuant.Live please refer to [the following documentation](nothing)."
   ]
  },
  {
   "cell_type": "code",
   "execution_count": null,
   "metadata": {},
   "outputs": [],
   "source": []
  }
 ],
 "metadata": {
  "kernelspec": {
   "display_name": "Python 3",
   "language": "python",
   "name": "python3"
  },
  "language_info": {
   "codemirror_mode": {
    "name": "ipython",
    "version": 3
   },
   "file_extension": ".py",
   "mimetype": "text/x-python",
   "name": "python",
   "nbconvert_exporter": "python",
   "pygments_lexer": "ipython3",
   "version": "3.6.9"
  }
 },
 "nbformat": 4,
 "nbformat_minor": 4
}
