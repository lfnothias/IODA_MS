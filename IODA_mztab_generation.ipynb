{
 "cells": [
  {
   "cell_type": "code",
   "execution_count": 1,
   "metadata": {},
   "outputs": [
    {
     "ename": "SyntaxError",
     "evalue": "invalid syntax (<ipython-input-1-7956ee3a9323>, line 4)",
     "output_type": "error",
     "traceback": [
      "\u001b[0;36m  File \u001b[0;32m\"<ipython-input-1-7956ee3a9323>\"\u001b[0;36m, line \u001b[0;32m4\u001b[0m\n\u001b[0;31m    rm /tmp/.X1-lock || true\u001b[0m\n\u001b[0m            ^\u001b[0m\n\u001b[0;31mSyntaxError\u001b[0m\u001b[0;31m:\u001b[0m invalid syntax\n"
     ]
    }
   ],
   "source": [
    "# Setting up environment \n",
    "\n",
    "#Trying to remove X1 lock\n",
    "rm /tmp/.X1-lock || true\n",
    "\n",
    "#Running  Virtual Buffer\n",
    "Xvfb :1 &\n",
    "sleep 1\n",
    "export DISPLAY=:1"
   ]
  },
  {
   "cell_type": "code",
   "execution_count": 4,
   "metadata": {},
   "outputs": [
    {
     "name": "stdout",
     "output_type": "stream",
     "text": [
      "--2020-06-26 13:41:01--  https://raw.githubusercontent.com/lfnothias/IODA_MS/test2/tests/Euphorbia/exclusion/toppas_input/Blank.mzML\n",
      "Resolving raw.githubusercontent.com (raw.githubusercontent.com)... 151.101.196.133\n",
      "Connecting to raw.githubusercontent.com (raw.githubusercontent.com)|151.101.196.133|:443... connected.\n",
      "HTTP request sent, awaiting response... 200 OK\n",
      "Length: 46571167 (44M) [text/plain]\n",
      "Saving to: 'Blank.mzML'\n",
      "\n",
      "Blank.mzML          100%[===================>]  44.41M  91.5MB/s    in 0.5s    \n",
      "\n",
      "2020-06-26 13:41:02 (91.5 MB/s) - 'Blank.mzML' saved [46571167/46571167]\n",
      "\n"
     ]
    }
   ],
   "source": [
    "# Downloading data\n",
    "source_file = \"https://raw.githubusercontent.com/lfnothias/IODA_MS/test2/tests/Euphorbia/exclusion/toppas_input/Blank.mzML\"\n",
    "!cd \"TOPPAS_Workflow/toppas_output\" && wget $source_file --output-document=\"Blank.mzML\""
   ]
  },
  {
   "cell_type": "code",
   "execution_count": 5,
   "metadata": {},
   "outputs": [
    {
     "name": "stdout",
     "output_type": "stream",
     "text": [
      "/bin/sh: 1: /openms-build/bin/ExecutePipeline: not found\n"
     ]
    }
   ],
   "source": [
    "output_dir = \"./toppas_output\"\n",
    "input_dir = \"./toppas_input\"\n",
    "cmd = \"/openms-build/bin/ExecutePipeline -in ./toppas_Exclusion_workflow.toppas -out_dir {}\".format(output_dir)\n",
    "\n",
    "!cd \"TOPPAS_Workflow\" && $cmd"
   ]
  },
  {
   "cell_type": "code",
   "execution_count": null,
   "metadata": {},
   "outputs": [],
   "source": []
  }
 ],
 "metadata": {
  "kernelspec": {
   "display_name": "Python 3",
   "language": "python",
   "name": "python3"
  },
  "language_info": {
   "codemirror_mode": {
    "name": "ipython",
    "version": 3
   },
   "file_extension": ".py",
   "mimetype": "text/x-python",
   "name": "python",
   "nbconvert_exporter": "python",
   "pygments_lexer": "ipython3",
   "version": "3.7.3"
  }
 },
 "nbformat": 4,
 "nbformat_minor": 4
}
