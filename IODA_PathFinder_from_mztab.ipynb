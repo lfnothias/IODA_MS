{
 "cells": [
  {
   "cell_type": "markdown",
   "metadata": {},
   "source": [
    "# <span style=\"color:red\"> Targeted-from-mzTab notebook for IODA </span>\n",
    "\n",
    "**Purpose**: The IODA targeted-from-mzTab workflow takes allows to generate list of target ions for iterative optimise data acquisition (IODA) of fragmentation spectra in LC-MS. It accepts as input an mzTab file with results for two samples: the \"reference\" sample and the \"blank\" sample. The targets are detected in the \"reference\" sample, and background ions are detected in the \"blank\" sample. Background ions are excluded from the targets. The targets can be acquired by IODA in one or multiple experiments for higher coverage.\n",
    "\n",
    "\n",
    "**Usage**: This notebook requires the user to provide an mzTab. If you need to process your LC-MS data, you can use our [IODA targeted-from-mzML notebook](IODA_targeted_from_mzML.ipynb), or refer to our documentation for more informations. The IODA targeted workflow defines the target ions, and these targets are then formatted for XCalibur or [MaxQuant.Live]\n",
    "\n",
    "**Documentation**: Please refer to the documentation page [See here](link).\n",
    "\n",
    "**Instructions**: Follow the instructions below and run the notebook cells accordingly."
   ]
  },
  {
   "cell_type": "code",
   "execution_count": 1,
   "metadata": {},
   "outputs": [],
   "source": []
  },
  {
   "cell_type": "code",
   "execution_count": 1,
   "metadata": {},
   "outputs": [],
   "source": [
    "# Blank sample\n",
    "input_BLANK = \"path_to_blank_sample_mzML\"\n",
    "# Reference sample\n",
    "input_SAMPLE = \"path_to_reference_mzML\"\n",
    "\n",
    "input_BLANK = \"tests/Euphorbia/Targeted/toppas_input/Euphorbia_rogers_latex_Blank_MS1_2uL.mzML\"\n",
    "input_SAMPLE = \"tests/Euphorbia/Targeted/toppas_input/Euphorbia_rogers_latex_latex_MS1_2uL.mzML\""
   ]
  },
  {
   "cell_type": "code",
   "execution_count": 16,
   "metadata": {},
   "outputs": [],
   "source": [
    "ppm_error = 10\n",
    "noise_level = 1E6"
   ]
  },
  {
   "cell_type": "code",
   "execution_count": 3,
   "metadata": {},
   "outputs": [
    {
     "name": "stderr",
     "output_type": "stream",
     "text": [
      "[I 200817 01:10:13 IODA_run_OpenMS_targeted:40] 2020-08-17 01:10:13.469281\n",
      "[I 200817 01:10:13 IODA_run_OpenMS_targeted:41] STARTING the IODA-targeted WORKFLOW\n",
      "[I 200817 01:10:13 IODA_run_OpenMS_targeted:42] ======\n",
      "[I 200817 01:10:13 IODA_run_OpenMS_targeted:43] Path to the input files: \n",
      "[I 200817 01:10:13 IODA_run_OpenMS_targeted:44] Blank: tests/Euphorbia/Targeted/toppas_input/Euphorbia_rogers_latex_Blank_MS1_2uL.mzML\n",
      "[I 200817 01:10:13 IODA_run_OpenMS_targeted:45] Sample: tests/Euphorbia/Targeted/toppas_input/Euphorbia_rogers_latex_latex_MS1_2uL.mzML\n",
      "[I 200817 01:10:13 IODA_run_OpenMS_targeted:96] Copying the mzML files ...\n",
      "[I 200817 01:10:13 IODA_run_OpenMS_targeted:83] Path to uploaded file: tests/Euphorbia/Targeted/toppas_input/Euphorbia_rogers_latex_Blank_MS1_2uL.mzML\n",
      "[I 200817 01:10:13 IODA_run_OpenMS_targeted:93] The mzML file was found\n",
      "[I 200817 01:10:13 IODA_run_OpenMS_targeted:83] Path to uploaded file: tests/Euphorbia/Targeted/toppas_input/Euphorbia_rogers_latex_latex_MS1_2uL.mzML\n",
      "[I 200817 01:10:13 IODA_run_OpenMS_targeted:93] The mzML file was found\n",
      "[I 200817 01:10:13 IODA_run_OpenMS_targeted:100] ======\n",
      "[I 200817 01:10:13 IODA_run_OpenMS_targeted:101] Changing the variables of the OpenMS workflow ...\n",
      "[I 200817 01:10:13 IODA_run_OpenMS_targeted:102]    ppm error = 10\n",
      "[I 200817 01:10:13 IODA_run_OpenMS_targeted:103]    noise threshold = 1.00e+06\n",
      "[I 200817 01:10:13 IODA_run_OpenMS_targeted:145] ======\n",
      "[I 200817 01:10:13 IODA_run_OpenMS_targeted:146] Initializing the OpenMS workflow\n",
      "[I 200817 01:10:14 IODA_run_OpenMS_targeted:154] ======\n",
      "[I 200817 01:10:14 IODA_run_OpenMS_targeted:155] Running the OpenMS workflow, this usually takes less than a minute, please wait ...\n",
      "[I 200817 01:10:14 IODA_run_OpenMS_targeted:156] If this takes longer, increase the noise treshold value ...\n",
      "[I 200817 01:10:41 IODA_run_OpenMS_targeted:177] ======\n",
      "[I 200817 01:10:41 IODA_run_OpenMS_targeted:178] Completed the OpenMS workflow\n",
      "[I 200817 01:10:41 IODA_run_OpenMS_targeted:179] ======\n",
      "[I 200817 01:10:41 IODA_run_OpenMS_targeted:180] Zipping up the OpenMS workflow results ..\n",
      "[I 200817 01:10:42 IODA_exclusion_workflow:156] All files zipped successfully!\n",
      "[I 200817 01:10:42 IODA_run_OpenMS_targeted:183] ======\n",
      "[I 200817 01:10:42 IODA_run_OpenMS_targeted:184] Completed zipping up the OpenMS workflow result files\n",
      "[I 200817 01:10:42 IODA_run_OpenMS_targeted:186] ======\n",
      "[I 200817 01:10:42 IODA_run_OpenMS_targeted:187] NOW CONTINUE WITH THE REST OF THE IODA-targeted WORKFLOW\n"
     ]
    }
   ],
   "source": [
    "from IODA_run_OpenMS_targeted import *\n",
    "IODA_targeted_workflow(input_BLANK,input_SAMPLE,ppm_error,noise_level)"
   ]
  },
  {
   "cell_type": "code",
   "execution_count": null,
   "metadata": {},
   "outputs": [],
   "source": []
  },
  {
   "cell_type": "code",
   "execution_count": 4,
   "metadata": {},
   "outputs": [],
   "source": [
    "input_mzTab = 'tests/BP_mzTab/SA113_Media_SPE_MeOH_MS1_to_SA113_SPE_MeOH_MS1_mrgd.mzTab'\n",
    "input_mzTab = 'TOPPAS_Workflow/toppas_output/TOPPAS_out/Targeted_MzTab/Euphorbia_rogers_latex_Blank_MS1_2uL_to_Euphorbia_rogers_latex_latex_MS1_2uL_mrgd.mzTab'\n",
    "#input_filename = 'tests/BP_mzTab/SA113_Media_SPE_MeOH_MS1_to_SA113_SPE_MeOH_MS1_mrgd.mzTab'\n",
    "#output_filename = 'tests/BP_mzTab/TEMP_Media_SPE_MeOH_MS1_to_SA113_SPE_MeOH_MS1_mrgd.csv'\n",
    "#convert_mzTab_to_table(input_filename,output_filename)"
   ]
  },
  {
   "cell_type": "code",
   "execution_count": 5,
   "metadata": {},
   "outputs": [],
   "source": [
    "from IODA_BestPath_workflow import *"
   ]
  },
  {
   "cell_type": "code",
   "execution_count": 6,
   "metadata": {},
   "outputs": [],
   "source": [
    "# Best Path shared parameters\n",
    "min_ratio_value = 10\n",
    "min_intensity_value = 3E6\n",
    "experiment_number = 5\n",
    "isolation = 1.5\n",
    "delay = 0.1 #sec\n",
    "\n",
    "# Target ion list parameters\n",
    "rt_margin = 0.3"
   ]
  },
  {
   "cell_type": "markdown",
   "metadata": {},
   "source": [
    "## Baseline mode"
   ]
  },
  {
   "cell_type": "code",
   "execution_count": 7,
   "metadata": {},
   "outputs": [],
   "source": [
    "# Baseline parameter\n",
    "win_len = 0.5"
   ]
  },
  {
   "cell_type": "code",
   "execution_count": 8,
   "metadata": {},
   "outputs": [
    {
     "name": "stderr",
     "output_type": "stream",
     "text": [
      "[I 200817 01:10:48 IODA_BestPath_workflow:131] STARTING THE IODA targeted-from-mzTab WORKFLOW\n",
      "[I 200817 01:10:48 IODA_BestPath_workflow:141] the input_filename variable should be a valid path/download link or must be: 'OpenMS_generated', when using the OpenMS workflow online\n",
      "[I 200817 01:10:48 IODA_BestPath_workflow:144] 2020-08-17 01:10:48.153626\n",
      "[I 200817 01:10:48 IODA_BestPath_workflow:146] ======\n",
      "[I 200817 01:10:48 IODA_BestPath_workflow:147] Getting the mzTab\n",
      "[I 200817 01:10:48 IODA_BestPath_workflow:163] This is the input file path: TOPPAS_Workflow/toppas_output/TOPPAS_out/Targeted_MzTab/Euphorbia_rogers_latex_Blank_MS1_2uL_to_Euphorbia_rogers_latex_latex_MS1_2uL_mrgd.mzTab\n",
      "[I 200817 01:10:48 IODA_BestPath_workflow:164] This is the output file path: results_targeted_pathfinder_baseline/Euphorbia_rogers_latex_Blank_MS1_2uL_to_Euphorbia_rogers_latex_latex_MS1_2uL_mrgd.csv\n",
      "[I 200817 01:10:48 IODA_BestPath_workflow:168] ======\n",
      "[I 200817 01:10:48 IODA_BestPath_workflow:169] Converting mzTab to intermediate table format ...\n",
      "[I 200817 01:10:48 IODA_BestPath_workflow:76] - For sample Euphorbia_rogers_latex_Blank_MS1_2uL the sum of feature intensities is = 2.77e+09\n",
      "[I 200817 01:10:48 IODA_BestPath_workflow:78] - For sample Euphorbia_rogers_latex_latex_MS1_2uL the sum of feature intensities = 9.21e+10\n",
      "[I 200817 01:10:48 IODA_BestPath_workflow:171] ======\n",
      "[I 200817 01:10:48 IODA_BestPath_workflow:176] Assumed sample filename: Euphorbia_rogers_latex_latex_MS1_2uL\n",
      "[I 200817 01:10:48 IODA_BestPath_workflow:178] Assumed blank filename: Euphorbia_rogers_latex_Blank_MS1_2uL\n",
      "[I 200817 01:10:48 IODA_BestPath_workflow:179] ======\n",
      "[I 200817 01:10:48 IODA_BestPath_workflow:182] User-defined parameters\n",
      "[I 200817 01:10:48 IODA_BestPath_workflow:184] Ratio between sample/blank for ion filtering = 10\n",
      "[I 200817 01:10:48 IODA_BestPath_workflow:186] Minimum intensity for ion filtering in sample = 3.00e+06\n",
      "[I 200817 01:10:48 IODA_BestPath_workflow:187] Retention time window (min.) for binning target ions = 0.5\n",
      "[I 200817 01:10:48 IODA_BestPath_workflow:188] Isolation window (m/z) = 1.5\n",
      "[I 200817 01:10:48 IODA_BestPath_workflow:189] Retention time margin (sec.) = 0.3\n",
      "[I 200817 01:10:48 IODA_BestPath_workflow:191] Number of iterative experiment(s) = 5\n",
      "[I 200817 01:10:48 IODA_BestPath_workflow:192] ======\n",
      "[I 200817 01:10:48 IODA_BestPath_workflow:195] Running Path Finder in Baseline mode ...\n",
      "[I 200817 01:10:48 IODA_BestPath_workflow:603] Command: python3 path_finder.py baseline results_targeted_pathfinder_baseline/Euphorbia_rogers_latex_Blank_MS1_2uL_to_Euphorbia_rogers_latex_latex_MS1_2uL_mrgd.csv results_targeted_pathfinder_baseline/Euphorbia_rogers_latex_Blank_MS1_2uL_to_Euphorbia_rogers_latex_latex_MS1_2uL_mrgd_PathFinder.csv 3000000.0 10 5 -win_len 0.5 -isolation 1.5\n",
      "[I 200817 01:10:49 IODA_BestPath_workflow:197] ======\n",
      "[I 200817 01:10:49 IODA_BestPath_workflow:202] Best Path output found\n",
      "[I 200817 01:10:49 IODA_BestPath_workflow:211] Preparing results ...\n",
      "[I 200817 01:10:49 IODA_BestPath_workflow:213] Preparing results ...\n",
      "[I 200817 01:10:49 IODA_BestPath_workflow:565] File processed: results_targeted_pathfinder_baseline/Euphorbia_rogers_latex_Blank_MS1_2uL_to_Euphorbia_rogers_latex_latex_MS1_2uL_mrgd_PathFinder.csv\n",
      "[I 200817 01:10:49 IODA_BestPath_workflow:566] ======\n",
      "[I 200817 01:10:49 IODA_BestPath_workflow:558] Valid target ions in path1 = 442\n",
      "[I 200817 01:10:49 IODA_BestPath_workflow:575] Formatting to XCalibur format ...\n",
      "[I 200817 01:10:49 IODA_BestPath_workflow:578] Formatting for MaxQuant.Live ...\n",
      "[I 200817 01:10:49 IODA_BestPath_workflow:581] =======\n",
      "[I 200817 01:10:49 IODA_BestPath_workflow:558] Valid target ions in path2 = 262\n",
      "[I 200817 01:10:49 IODA_BestPath_workflow:575] Formatting to XCalibur format ...\n",
      "[I 200817 01:10:49 IODA_BestPath_workflow:578] Formatting for MaxQuant.Live ...\n",
      "[I 200817 01:10:49 IODA_BestPath_workflow:581] =======\n",
      "[I 200817 01:10:49 IODA_BestPath_workflow:558] Valid target ions in path3 = 155\n",
      "[I 200817 01:10:49 IODA_BestPath_workflow:575] Formatting to XCalibur format ...\n",
      "[I 200817 01:10:49 IODA_BestPath_workflow:578] Formatting for MaxQuant.Live ...\n",
      "[I 200817 01:10:49 IODA_BestPath_workflow:581] =======\n",
      "[I 200817 01:10:49 IODA_BestPath_workflow:589] Plotting results ...\n",
      "[I 200817 01:10:52 IODA_BestPath_workflow:215] ======\n",
      "[I 200817 01:10:52 IODA_BestPath_workflow:217] Cleaning and zipping workflow results files ...\n",
      "[I 200817 01:10:52 IODA_BestPath_workflow:119] All files zipped successfully!\n",
      "[I 200817 01:10:52 IODA_BestPath_workflow:245] ======\n",
      "[I 200817 01:10:52 IODA_BestPath_workflow:246] END OF THE IODA-Path-Finder-Baseline-from-mzTab WORKFLOW\n",
      "[I 200817 01:10:52 IODA_BestPath_workflow:247] ======\n"
     ]
    },
    {
     "name": "stdout",
     "output_type": "stream",
     "text": [
      " \n"
     ]
    },
    {
     "data": {
      "text/plain": [
       "<Figure size 432x288 with 0 Axes>"
      ]
     },
     "metadata": {},
     "output_type": "display_data"
    }
   ],
   "source": [
    "# Run Path Finder with Baseline method \n",
    "run_path_finder_baseline_from_mzTab(input_mzTab, experiment_number, min_ratio_value, min_intensity_value, win_len, isolation, rt_margin)"
   ]
  },
  {
   "cell_type": "markdown",
   "metadata": {},
   "source": [
    "## Apex mode"
   ]
  },
  {
   "cell_type": "code",
   "execution_count": 9,
   "metadata": {},
   "outputs": [],
   "source": [
    "# Apex parameters\n",
    "intensity_accu = 3e5\n",
    "delay = 0.1"
   ]
  },
  {
   "cell_type": "code",
   "execution_count": 10,
   "metadata": {},
   "outputs": [
    {
     "name": "stderr",
     "output_type": "stream",
     "text": [
      "[I 200817 01:10:56 IODA_BestPath_workflow:262] STARTING THE IODA targeted-from-mzTab WORKFLOW\n",
      "[I 200817 01:10:57 IODA_BestPath_workflow:272] the input_filename variable should be a valid path/download link or must be: 'OpenMS_generated', when using the OpenMS workflow online\n",
      "[I 200817 01:10:57 IODA_BestPath_workflow:275] 2020-08-17 01:10:57.005002\n",
      "[I 200817 01:10:57 IODA_BestPath_workflow:277] ======\n",
      "[I 200817 01:10:57 IODA_BestPath_workflow:278] Getting the mzTab\n",
      "[I 200817 01:10:57 IODA_BestPath_workflow:294] This is the input file path: TOPPAS_Workflow/toppas_output/TOPPAS_out/Targeted_MzTab/Euphorbia_rogers_latex_Blank_MS1_2uL_to_Euphorbia_rogers_latex_latex_MS1_2uL_mrgd.mzTab\n",
      "[I 200817 01:10:57 IODA_BestPath_workflow:295] This is the output file path: results_targeted_pathfinder_apex/Euphorbia_rogers_latex_Blank_MS1_2uL_to_Euphorbia_rogers_latex_latex_MS1_2uL_mrgd.csv\n",
      "[I 200817 01:10:57 IODA_BestPath_workflow:299] ======\n",
      "[I 200817 01:10:57 IODA_BestPath_workflow:300] Converting mzTab to intermediate table format ...\n",
      "[I 200817 01:10:57 IODA_BestPath_workflow:76] - For sample Euphorbia_rogers_latex_Blank_MS1_2uL the sum of feature intensities is = 2.77e+09\n",
      "[I 200817 01:10:57 IODA_BestPath_workflow:78] - For sample Euphorbia_rogers_latex_latex_MS1_2uL the sum of feature intensities = 9.21e+10\n",
      "[I 200817 01:10:57 IODA_BestPath_workflow:302] ======\n",
      "[I 200817 01:10:57 IODA_BestPath_workflow:307] Assumed sample filename: Euphorbia_rogers_latex_latex_MS1_2uL\n",
      "[I 200817 01:10:57 IODA_BestPath_workflow:309] Assumed blank filename: Euphorbia_rogers_latex_Blank_MS1_2uL\n",
      "[I 200817 01:10:57 IODA_BestPath_workflow:310] ======\n",
      "[I 200817 01:10:57 IODA_BestPath_workflow:313] User-defined parameters\n",
      "[I 200817 01:10:57 IODA_BestPath_workflow:315] Ratio between sample/blank for ion filtering = 10\n",
      "[I 200817 01:10:57 IODA_BestPath_workflow:317] Minimum intensity for ion filtering in sample = 3.00e+06\n",
      "[I 200817 01:10:57 IODA_BestPath_workflow:318] Precursor ion intensity to accumulate in the MS2 scan = 3.00e+05\n",
      "[I 200817 01:10:57 IODA_BestPath_workflow:319] Isolation window (m/z) = 1.5\n",
      "[I 200817 01:10:57 IODA_BestPath_workflow:320] Retention time margin (sec.) = 0.3\n",
      "[I 200817 01:10:57 IODA_BestPath_workflow:323] Delay between targeted MS2 scans (sec)= 0.1\n",
      "[I 200817 01:10:57 IODA_BestPath_workflow:325] Number of iterative experiment(s) = 5\n",
      "[I 200817 01:10:57 IODA_BestPath_workflow:326] ======\n",
      "[I 200817 01:10:57 IODA_BestPath_workflow:329] Running Path Finder in Apex mode ...\n",
      "[I 200817 01:10:57 IODA_BestPath_workflow:608] Command: python3 path_finder.py apex results_targeted_pathfinder_apex/Euphorbia_rogers_latex_Blank_MS1_2uL_to_Euphorbia_rogers_latex_latex_MS1_2uL_mrgd.csv results_targeted_pathfinder_apex/Euphorbia_rogers_latex_Blank_MS1_2uL_to_Euphorbia_rogers_latex_latex_MS1_2uL_mrgd_PathFinder.csv 3000000.0 10 5 -intensity_accu 300000.0 -isolation 1.5 -delta 0.1\n",
      "[I 200817 01:10:57 IODA_BestPath_workflow:331] ======\n",
      "[I 200817 01:10:57 IODA_BestPath_workflow:336] Best Path output found\n",
      "[I 200817 01:10:57 IODA_BestPath_workflow:346] Preparing results ...\n",
      "[I 200817 01:10:57 IODA_BestPath_workflow:565] File processed: results_targeted_pathfinder_apex/Euphorbia_rogers_latex_Blank_MS1_2uL_to_Euphorbia_rogers_latex_latex_MS1_2uL_mrgd_PathFinder.csv\n",
      "[I 200817 01:10:57 IODA_BestPath_workflow:566] ======\n",
      "[I 200817 01:10:58 IODA_BestPath_workflow:558] Valid target ions in path1 = 368\n",
      "[I 200817 01:10:58 IODA_BestPath_workflow:575] Formatting to XCalibur format ...\n",
      "[I 200817 01:10:58 IODA_BestPath_workflow:578] Formatting for MaxQuant.Live ...\n",
      "[I 200817 01:10:58 IODA_BestPath_workflow:581] =======\n",
      "[I 200817 01:10:58 IODA_BestPath_workflow:558] Valid target ions in path2 = 223\n",
      "[I 200817 01:10:58 IODA_BestPath_workflow:575] Formatting to XCalibur format ...\n",
      "[I 200817 01:10:58 IODA_BestPath_workflow:578] Formatting for MaxQuant.Live ...\n",
      "[I 200817 01:10:58 IODA_BestPath_workflow:581] =======\n",
      "[I 200817 01:10:58 IODA_BestPath_workflow:558] Valid target ions in path3 = 151\n",
      "[I 200817 01:10:58 IODA_BestPath_workflow:575] Formatting to XCalibur format ...\n",
      "[I 200817 01:10:58 IODA_BestPath_workflow:578] Formatting for MaxQuant.Live ...\n",
      "[I 200817 01:10:58 IODA_BestPath_workflow:581] =======\n",
      "[I 200817 01:10:58 IODA_BestPath_workflow:558] Valid target ions in path4 = 105\n",
      "[I 200817 01:10:58 IODA_BestPath_workflow:575] Formatting to XCalibur format ...\n",
      "[I 200817 01:10:58 IODA_BestPath_workflow:578] Formatting for MaxQuant.Live ...\n",
      "[I 200817 01:10:58 IODA_BestPath_workflow:581] =======\n",
      "[I 200817 01:10:58 IODA_BestPath_workflow:558] Valid target ions in path5 = 71\n",
      "[I 200817 01:10:58 IODA_BestPath_workflow:575] Formatting to XCalibur format ...\n",
      "[I 200817 01:10:58 IODA_BestPath_workflow:578] Formatting for MaxQuant.Live ...\n",
      "[I 200817 01:10:58 IODA_BestPath_workflow:581] =======\n",
      "[I 200817 01:10:58 IODA_BestPath_workflow:589] Plotting results ...\n",
      "[I 200817 01:11:01 IODA_BestPath_workflow:348] ======\n",
      "[I 200817 01:11:01 IODA_BestPath_workflow:350] Cleaning and zipping workflow results files ...\n",
      "[I 200817 01:11:02 IODA_BestPath_workflow:119] All files zipped successfully!\n",
      "[I 200817 01:11:02 IODA_BestPath_workflow:378] ======\n",
      "[I 200817 01:11:02 IODA_BestPath_workflow:379] END OF THE IODA-Path-Finder-Apex-from-mzTab WORKFLOW\n",
      "[I 200817 01:11:02 IODA_BestPath_workflow:380] ======\n"
     ]
    },
    {
     "name": "stdout",
     "output_type": "stream",
     "text": [
      " \n"
     ]
    },
    {
     "data": {
      "text/plain": [
       "<Figure size 432x288 with 0 Axes>"
      ]
     },
     "metadata": {},
     "output_type": "display_data"
    }
   ],
   "source": [
    "# Run Path Finder with Apex method\n",
    "run_path_finder_apex_from_mzTab(input_mzTab, experiment_number, min_ratio_value, min_intensity_value, intensity_accu, isolation, delay, rt_margin,)"
   ]
  },
  {
   "cell_type": "markdown",
   "metadata": {},
   "source": [
    "## Curve mode"
   ]
  },
  {
   "cell_type": "code",
   "execution_count": 17,
   "metadata": {},
   "outputs": [
    {
     "name": "stderr",
     "output_type": "stream",
     "text": [
      "[I 200817 01:12:53 IODA_run_OpenMS_targeted:216] 2020-08-17 01:12:53.315329\n",
      "[I 200817 01:12:53 IODA_run_OpenMS_targeted:217] STARTING the Path Finder Curve processing\n",
      "[I 200817 01:12:53 IODA_run_OpenMS_targeted:218] ======\n",
      "[I 200817 01:12:53 IODA_run_OpenMS_targeted:219] Path to the input files: \n",
      "[I 200817 01:12:53 IODA_run_OpenMS_targeted:220]     Sample: tests/Euphorbia/Targeted/toppas_input/Euphorbia_rogers_latex_latex_MS1_2uL.mzML\n",
      "[I 200817 01:12:53 IODA_run_OpenMS_targeted:271] Copying the mzML files ...\n",
      "[I 200817 01:12:53 IODA_run_OpenMS_targeted:258] Path to uploaded file: tests/Euphorbia/Targeted/toppas_input/Euphorbia_rogers_latex_latex_MS1_2uL.mzML\n",
      "[I 200817 01:12:53 IODA_run_OpenMS_targeted:268] The mzML file was found\n",
      "[I 200817 01:12:53 IODA_run_OpenMS_targeted:274] ======\n",
      "[I 200817 01:12:53 IODA_run_OpenMS_targeted:275] Changing the variables of the OpenMS workflow ...\n",
      "[I 200817 01:12:53 IODA_run_OpenMS_targeted:276]    ppm error = 10\n",
      "[I 200817 01:12:53 IODA_run_OpenMS_targeted:277]    noise threshold = 1.00e+06\n"
     ]
    },
    {
     "name": "stdout",
     "output_type": "stream",
     "text": [
      "tests/Euphorbia/Targeted/toppas_input/Euphorbia_rogers_latex_latex_MS1_2uL.mzML\n"
     ]
    },
    {
     "ename": "NameError",
     "evalue": "name 'blank_mzML' is not defined",
     "output_type": "error",
     "traceback": [
      "\u001b[0;31m---------------------------------------------------------------------------\u001b[0m",
      "\u001b[0;31mNameError\u001b[0m                                 Traceback (most recent call last)",
      "\u001b[0;32m<ipython-input-17-c07ac16ad27e>\u001b[0m in \u001b[0;36m<module>\u001b[0;34m\u001b[0m\n\u001b[1;32m      1\u001b[0m \u001b[0mprint\u001b[0m\u001b[0;34m(\u001b[0m\u001b[0minput_SAMPLE\u001b[0m\u001b[0;34m)\u001b[0m\u001b[0;34m\u001b[0m\u001b[0;34m\u001b[0m\u001b[0m\n\u001b[0;32m----> 2\u001b[0;31m \u001b[0mPath_Finder_Curve_OpenMS\u001b[0m\u001b[0;34m(\u001b[0m\u001b[0minput_SAMPLE\u001b[0m\u001b[0;34m,\u001b[0m\u001b[0mppm_error\u001b[0m\u001b[0;34m,\u001b[0m\u001b[0mnoise_level\u001b[0m\u001b[0;34m)\u001b[0m\u001b[0;34m\u001b[0m\u001b[0;34m\u001b[0m\u001b[0m\n\u001b[0m",
      "\u001b[0;32m~/IODA_run_OpenMS_targeted.py\u001b[0m in \u001b[0;36mPath_Finder_Curve_OpenMS\u001b[0;34m(sample_mzML, ppm_tolerance, noise_level)\u001b[0m\n\u001b[1;32m    304\u001b[0m             \u001b[0;32mpass\u001b[0m\u001b[0;34m\u001b[0m\u001b[0;34m\u001b[0m\u001b[0m\n\u001b[1;32m    305\u001b[0m     \u001b[0;32melse\u001b[0m\u001b[0;34m:\u001b[0m\u001b[0;34m\u001b[0m\u001b[0;34m\u001b[0m\u001b[0m\n\u001b[0;32m--> 306\u001b[0;31m         \u001b[0mblank_filename\u001b[0m \u001b[0;34m=\u001b[0m \u001b[0mstr\u001b[0m\u001b[0;34m(\u001b[0m\u001b[0mblank_mzML\u001b[0m\u001b[0;34m.\u001b[0m\u001b[0msplit\u001b[0m\u001b[0;34m(\u001b[0m\u001b[0;34m'/'\u001b[0m\u001b[0;34m,\u001b[0m \u001b[0;36m10\u001b[0m\u001b[0;34m)\u001b[0m\u001b[0;34m[\u001b[0m\u001b[0;34m-\u001b[0m\u001b[0;36m1\u001b[0m\u001b[0;34m]\u001b[0m\u001b[0;34m)\u001b[0m\u001b[0;34m\u001b[0m\u001b[0;34m\u001b[0m\u001b[0m\n\u001b[0m\u001b[1;32m    307\u001b[0m         \u001b[0msample_filename\u001b[0m \u001b[0;34m=\u001b[0m \u001b[0mstr\u001b[0m\u001b[0;34m(\u001b[0m\u001b[0msample_mzML\u001b[0m\u001b[0;34m.\u001b[0m\u001b[0msplit\u001b[0m\u001b[0;34m(\u001b[0m\u001b[0;34m'/'\u001b[0m\u001b[0;34m,\u001b[0m \u001b[0;36m10\u001b[0m\u001b[0;34m)\u001b[0m\u001b[0;34m[\u001b[0m\u001b[0;34m-\u001b[0m\u001b[0;36m1\u001b[0m\u001b[0;34m]\u001b[0m\u001b[0;34m)\u001b[0m\u001b[0;34m\u001b[0m\u001b[0;34m\u001b[0m\u001b[0m\n\u001b[1;32m    308\u001b[0m         \u001b[0mlist_of_lines\u001b[0m \u001b[0;34m=\u001b[0m \u001b[0;34m[\u001b[0m\u001b[0msub\u001b[0m\u001b[0;34m.\u001b[0m\u001b[0mreplace\u001b[0m\u001b[0;34m(\u001b[0m\u001b[0;34m'LISTITEM value=\"toppas_input/Blank.mzML'\u001b[0m\u001b[0;34m,\u001b[0m \u001b[0;34m'LISTITEM value=\"'\u001b[0m\u001b[0;34m+\u001b[0m\u001b[0mTOPPAS_input_folder\u001b[0m\u001b[0;34m+\u001b[0m\u001b[0;34m'/'\u001b[0m\u001b[0;34m+\u001b[0m\u001b[0mblank_filename\u001b[0m\u001b[0;34m)\u001b[0m \u001b[0;32mfor\u001b[0m \u001b[0msub\u001b[0m \u001b[0;32min\u001b[0m \u001b[0mlist_of_lines\u001b[0m\u001b[0;34m]\u001b[0m\u001b[0;34m\u001b[0m\u001b[0;34m\u001b[0m\u001b[0m\n",
      "\u001b[0;31mNameError\u001b[0m: name 'blank_mzML' is not defined"
     ]
    }
   ],
   "source": [
    "print(input_SAMPLE)\n",
    "Path_Finder_Curve_OpenMS(input_SAMPLE,ppm_error,noise_level)"
   ]
  },
  {
   "cell_type": "code",
   "execution_count": 11,
   "metadata": {},
   "outputs": [],
   "source": [
    "# Curve parameters\n",
    "input_filename_curve = 'tests/BP_mzTab/test_SA113_SPE_MeOH_MS1.mzTab'\n",
    "intensity_accu = 3e5\n",
    "delay = 0.1\n",
    "restriction = 2\n",
    "mz_accuracy = 0.02\n",
    "transient_time = 100 #ms"
   ]
  },
  {
   "cell_type": "code",
   "execution_count": 10,
   "metadata": {},
   "outputs": [
    {
     "name": "stderr",
     "output_type": "stream",
     "text": [
      "[I 200817 00:33:00 IODA_BestPath_workflow:395] STARTING THE IODA targeted-from-mzTab WORKFLOW\n",
      "[I 200817 00:33:00 IODA_BestPath_workflow:405] the input_filename variable should be a valid path/download link or must be: 'OpenMS_generated', when using the OpenMS workflow online\n",
      "[I 200817 00:33:00 IODA_BestPath_workflow:408] 2020-08-17 00:33:00.523547\n",
      "[I 200817 00:33:00 IODA_BestPath_workflow:410] ======\n",
      "[I 200817 00:33:00 IODA_BestPath_workflow:411] Getting the mzTab\n",
      "[I 200817 00:33:00 IODA_BestPath_workflow:427] This is the input file path: tests/BP_mzTab/SA113_Media_SPE_MeOH_MS1_to_SA113_SPE_MeOH_MS1_mrgd.mzTab\n",
      "[I 200817 00:33:00 IODA_BestPath_workflow:428] This is the output file path: results_targeted_pathfinder_curve/SA113_Media_SPE_MeOH_MS1_to_SA113_SPE_MeOH_MS1_mrgd.csv\n",
      "[I 200817 00:33:00 IODA_BestPath_workflow:431] ======\n",
      "[I 200817 00:33:00 IODA_BestPath_workflow:432] Converting mzTab to intermediate table format ...\n",
      "[I 200817 00:33:00 IODA_BestPath_workflow:76] - For sample SA113_Media_SPE_MeOH_MS the sum of feature intensities is = 2.54e+11\n",
      "[I 200817 00:33:00 IODA_BestPath_workflow:78] - For sample SA113_SPE_MeOH_MS the sum of feature intensities = 6.25e+10\n",
      "[I 200817 00:33:00 IODA_BestPath_workflow:434] ======\n",
      "[I 200817 00:33:00 IODA_BestPath_workflow:439] Assumed sample filename: SA113_Media_SPE_MeOH_MS\n",
      "[I 200817 00:33:00 IODA_BestPath_workflow:441] Assumed blank filename: SA113_SPE_MeOH_MS\n",
      "[I 200817 00:33:00 IODA_BestPath_workflow:442] ======\n",
      "[I 200817 00:33:00 IODA_BestPath_workflow:445] User-defined parameters\n",
      "[I 200817 00:33:00 IODA_BestPath_workflow:447] Ratio between sample/blank for ion filtering = 10\n",
      "[I 200817 00:33:00 IODA_BestPath_workflow:449] Minimum intensity for ion filtering in sample = 3.00e+06\n",
      "[I 200817 00:33:00 IODA_BestPath_workflow:450] Precursor ion intensity to accumulate in the MS2 scan = 3.00e+05\n",
      "[I 200817 00:33:00 IODA_BestPath_workflow:451] Transient time and overhead (ms) = 100\n",
      "[I 200817 00:33:00 IODA_BestPath_workflow:452] Input file for curve data : tests/BP_mzTab/test_SA113_SPE_MeOH_MS1.mzTab\n",
      "[I 200817 00:33:00 IODA_BestPath_workflow:453] Retention time margin (sec.) = 0.3\n",
      "[I 200817 00:33:00 IODA_BestPath_workflow:454] Restriction parameter : 2\n",
      "[I 200817 00:33:00 IODA_BestPath_workflow:455] Mass accuracy (m/z): 0.02\n",
      "[I 200817 00:33:00 IODA_BestPath_workflow:456] Delay between targeted MS2 scans (sec)= 0.1\n",
      "[I 200817 00:33:00 IODA_BestPath_workflow:458] Number of iterative experiment(s) = 5\n",
      "[I 200817 00:33:00 IODA_BestPath_workflow:459] ======\n",
      "[I 200817 00:33:00 IODA_BestPath_workflow:470] Problem with the mzTab file or file path ! Please verify\n",
      "[I 200817 00:33:00 IODA_BestPath_workflow:475] Running Path Finder in Curve mode ...\n",
      "[I 200817 00:33:00 IODA_BestPath_workflow:607] Command: python3 path_finder.py curve results_targeted_pathfinder_curve/SA113_Media_SPE_MeOH_MS1_to_SA113_SPE_MeOH_MS1_mrgd.csv results_targeted_pathfinder_curve/SA113_Media_SPE_MeOH_MS1_to_SA113_SPE_MeOH_MS1_mrgd_PathFinder.csv 3000000.0 10 5 -infile_raw tests/BP_mzTab/test_SA113_SPE_MeOH_MS1.mzTab -intensity_accu 300000.0 -restriction 2 0.02 -delta 0.1\n",
      "[I 200817 00:33:00 IODA_BestPath_workflow:608] Path Finder in Curve mode can take up to 10 minutes to complete ... please wait\n"
     ]
    },
    {
     "name": "stdout",
     "output_type": "stream",
     "text": [
      "<---------- !!!!!!!!!!!!!!!!!! ---------->\n",
      "Problem with the mzTab file or file path ! Please verify\n",
      "<---------- !!!!!!!!!!!!!!!!!! ---------->\n"
     ]
    },
    {
     "name": "stderr",
     "output_type": "stream",
     "text": [
      "[I 200817 00:33:01 IODA_BestPath_workflow:489] Problem when running Best Path !!!\n",
      "[I 200817 00:33:01 IODA_BestPath_workflow:493] ======\n",
      "[I 200817 00:33:01 IODA_BestPath_workflow:494] Preparing results ...\n",
      "[I 200817 00:33:01 IODA_BestPath_workflow:565] File processed: results_targeted_pathfinder_curve/SA113_Media_SPE_MeOH_MS1_to_SA113_SPE_MeOH_MS1_mrgd_PathFinder.csv\n",
      "[I 200817 00:33:01 IODA_BestPath_workflow:566] ======\n"
     ]
    },
    {
     "name": "stdout",
     "output_type": "stream",
     "text": [
      "<---------- !!!!!!!!!!!!!!!!!! ---------->\n",
      "Problem when running Best Path !!!\n",
      "<---------- !!!!!!!!!!!!!!!!!! ---------->\n"
     ]
    },
    {
     "ename": "FileNotFoundError",
     "evalue": "[Errno 2] No such file or directory: 'results_targeted_pathfinder_curve/SA113_Media_SPE_MeOH_MS1_to_SA113_SPE_MeOH_MS1_mrgd_PathFinder.csv'",
     "output_type": "error",
     "traceback": [
      "\u001b[0;31m---------------------------------------------------------------------------\u001b[0m",
      "\u001b[0;31mFileNotFoundError\u001b[0m                         Traceback (most recent call last)",
      "\u001b[0;32m<ipython-input-10-b85bd5f9f0e2>\u001b[0m in \u001b[0;36m<module>\u001b[0;34m\u001b[0m\n\u001b[1;32m      1\u001b[0m \u001b[0;31m# Run Path Finder with Curve method\u001b[0m\u001b[0;34m\u001b[0m\u001b[0;34m\u001b[0m\u001b[0;34m\u001b[0m\u001b[0m\n\u001b[0;32m----> 2\u001b[0;31m \u001b[0mrun_path_finder_curve_from_mzTab\u001b[0m\u001b[0;34m(\u001b[0m\u001b[0minput_mzTab\u001b[0m\u001b[0;34m,\u001b[0m \u001b[0mexperiment_number\u001b[0m\u001b[0;34m,\u001b[0m \u001b[0mmin_ratio_value\u001b[0m\u001b[0;34m,\u001b[0m \u001b[0mmin_intensity_value\u001b[0m\u001b[0;34m,\u001b[0m \u001b[0minput_filename_curve\u001b[0m\u001b[0;34m,\u001b[0m \u001b[0mintensity_accu\u001b[0m\u001b[0;34m,\u001b[0m \u001b[0mrestriction\u001b[0m\u001b[0;34m,\u001b[0m \u001b[0mmz_accuracy\u001b[0m\u001b[0;34m,\u001b[0m \u001b[0mdelay\u001b[0m\u001b[0;34m,\u001b[0m \u001b[0mrt_margin\u001b[0m\u001b[0;34m,\u001b[0m \u001b[0mtransient_time\u001b[0m\u001b[0;34m)\u001b[0m\u001b[0;34m\u001b[0m\u001b[0;34m\u001b[0m\u001b[0m\n\u001b[0m",
      "\u001b[0;32m~/IODA_BestPath_workflow.py\u001b[0m in \u001b[0;36mrun_path_finder_curve_from_mzTab\u001b[0;34m(input_filename, num_path, intensity_ratio, intensity_threshold, input_filename_curve, intensity_accu, restriction, mz_accuracy, delta, rt_margin, transient_time)\u001b[0m\n\u001b[1;32m    493\u001b[0m     \u001b[0mlogger\u001b[0m\u001b[0;34m.\u001b[0m\u001b[0minfo\u001b[0m\u001b[0;34m(\u001b[0m\u001b[0;34m'======'\u001b[0m\u001b[0;34m)\u001b[0m\u001b[0;34m\u001b[0m\u001b[0;34m\u001b[0m\u001b[0m\n\u001b[1;32m    494\u001b[0m     \u001b[0mlogger\u001b[0m\u001b[0;34m.\u001b[0m\u001b[0minfo\u001b[0m\u001b[0;34m(\u001b[0m\u001b[0;34m'Preparing results ...'\u001b[0m\u001b[0;34m)\u001b[0m\u001b[0;34m\u001b[0m\u001b[0;34m\u001b[0m\u001b[0m\n\u001b[0;32m--> 495\u001b[0;31m     \u001b[0mmake_bestpath_targeted_lists_from_table\u001b[0m\u001b[0;34m(\u001b[0m\u001b[0moutput_filename\u001b[0m\u001b[0;34m[\u001b[0m\u001b[0;34m:\u001b[0m\u001b[0;34m-\u001b[0m\u001b[0;36m4\u001b[0m\u001b[0;34m]\u001b[0m\u001b[0;34m+\u001b[0m\u001b[0;34m'_PathFinder.csv'\u001b[0m\u001b[0;34m,\u001b[0m \u001b[0mrt_margin\u001b[0m\u001b[0;34m,\u001b[0m \u001b[0mtransient_time\u001b[0m\u001b[0;34m)\u001b[0m\u001b[0;34m\u001b[0m\u001b[0;34m\u001b[0m\u001b[0m\n\u001b[0m\u001b[1;32m    496\u001b[0m     \u001b[0mlogger\u001b[0m\u001b[0;34m.\u001b[0m\u001b[0minfo\u001b[0m\u001b[0;34m(\u001b[0m\u001b[0;34m'======'\u001b[0m\u001b[0;34m)\u001b[0m\u001b[0;34m\u001b[0m\u001b[0;34m\u001b[0m\u001b[0m\n\u001b[1;32m    497\u001b[0m \u001b[0;34m\u001b[0m\u001b[0m\n",
      "\u001b[0;32m~/IODA_BestPath_workflow.py\u001b[0m in \u001b[0;36mmake_bestpath_targeted_lists_from_table\u001b[0;34m(input_filename, rt_margin, transient_time)\u001b[0m\n\u001b[1;32m    565\u001b[0m     \u001b[0mlogger\u001b[0m\u001b[0;34m.\u001b[0m\u001b[0minfo\u001b[0m\u001b[0;34m(\u001b[0m\u001b[0;34m'File processed: '\u001b[0m\u001b[0;34m+\u001b[0m\u001b[0minput_filename\u001b[0m\u001b[0;34m)\u001b[0m\u001b[0;34m\u001b[0m\u001b[0;34m\u001b[0m\u001b[0m\n\u001b[1;32m    566\u001b[0m     \u001b[0mlogger\u001b[0m\u001b[0;34m.\u001b[0m\u001b[0minfo\u001b[0m\u001b[0;34m(\u001b[0m\u001b[0;34m'======'\u001b[0m\u001b[0;34m)\u001b[0m\u001b[0;34m\u001b[0m\u001b[0;34m\u001b[0m\u001b[0m\n\u001b[0;32m--> 567\u001b[0;31m     \u001b[0;32mwith\u001b[0m \u001b[0mopen\u001b[0m\u001b[0;34m(\u001b[0m\u001b[0minput_filename\u001b[0m\u001b[0;34m)\u001b[0m \u001b[0;32mas\u001b[0m \u001b[0mfile\u001b[0m\u001b[0;34m:\u001b[0m\u001b[0;34m\u001b[0m\u001b[0;34m\u001b[0m\u001b[0m\n\u001b[0m\u001b[1;32m    568\u001b[0m         \u001b[0mcounter\u001b[0m \u001b[0;34m=\u001b[0m \u001b[0;34m-\u001b[0m\u001b[0;36m1\u001b[0m\u001b[0;34m\u001b[0m\u001b[0;34m\u001b[0m\u001b[0m\n\u001b[1;32m    569\u001b[0m         \u001b[0;32mfor\u001b[0m \u001b[0mline\u001b[0m \u001b[0;32min\u001b[0m \u001b[0mfile\u001b[0m\u001b[0;34m:\u001b[0m\u001b[0;34m\u001b[0m\u001b[0;34m\u001b[0m\u001b[0m\n",
      "\u001b[0;31mFileNotFoundError\u001b[0m: [Errno 2] No such file or directory: 'results_targeted_pathfinder_curve/SA113_Media_SPE_MeOH_MS1_to_SA113_SPE_MeOH_MS1_mrgd_PathFinder.csv'"
     ]
    }
   ],
   "source": [
    "# Run Path Finder with Curve method\n",
    "run_path_finder_curve_from_mzTab(input_mzTab, experiment_number, min_ratio_value, min_intensity_value, input_filename_curve, intensity_accu, restriction, mz_accuracy, delay, rt_margin, transient_time)"
   ]
  },
  {
   "cell_type": "code",
   "execution_count": 15,
   "metadata": {},
   "outputs": [
    {
     "name": "stdout",
     "output_type": "stream",
     "text": [
      "=============\n",
      "Curve mode begin\n",
      "Killed\n"
     ]
    }
   ],
   "source": [
    "!python3 path_finder.py curve results_targeted_pathfinder_curve/SA113_Media_SPE_MeOH_MS1_to_SA113_SPE_MeOH_MS1_mrgd.csv results_targeted_pathfinder_curve/SA113_Media_SPE_MeOH_MS1_to_SA113_SPE_MeOH_MS1_mrgd_PathFinder.csv 300000.0 3 5 -infile_raw tests/BP_mzTab/test_SA113_SPE_MeOH_MS1.mzTab -intensity_accu 300000.0 -restriction 2 0.02 -delta 0.1"
   ]
  },
  {
   "cell_type": "code",
   "execution_count": null,
   "metadata": {},
   "outputs": [],
   "source": []
  },
  {
   "cell_type": "code",
   "execution_count": null,
   "metadata": {},
   "outputs": [],
   "source": []
  },
  {
   "cell_type": "code",
   "execution_count": null,
   "metadata": {},
   "outputs": [],
   "source": []
  },
  {
   "cell_type": "code",
   "execution_count": null,
   "metadata": {},
   "outputs": [],
   "source": []
  },
  {
   "cell_type": "code",
   "execution_count": null,
   "metadata": {},
   "outputs": [],
   "source": []
  },
  {
   "cell_type": "code",
   "execution_count": null,
   "metadata": {},
   "outputs": [],
   "source": []
  },
  {
   "cell_type": "code",
   "execution_count": null,
   "metadata": {},
   "outputs": [],
   "source": []
  },
  {
   "cell_type": "code",
   "execution_count": null,
   "metadata": {},
   "outputs": [],
   "source": []
  },
  {
   "cell_type": "code",
   "execution_count": null,
   "metadata": {},
   "outputs": [],
   "source": []
  },
  {
   "cell_type": "code",
   "execution_count": null,
   "metadata": {},
   "outputs": [],
   "source": []
  },
  {
   "cell_type": "code",
   "execution_count": null,
   "metadata": {},
   "outputs": [],
   "source": []
  },
  {
   "cell_type": "code",
   "execution_count": null,
   "metadata": {},
   "outputs": [],
   "source": []
  },
  {
   "cell_type": "code",
   "execution_count": null,
   "metadata": {},
   "outputs": [],
   "source": []
  },
  {
   "cell_type": "markdown",
   "metadata": {},
   "source": [
    "### Step 0 - Generate an mzTab file\n",
    "\n",
    "The mzTab file must contain results from feature detection and alignment for the two samples: the \"reference\" sample and the \"blank' sample. Please refer to the [documentation page](link) for more information.\n",
    "\n",
    "### Step 1 - Upload the mzTab file\n",
    "\n",
    "##### <span style=\"color:brown\">Method 1 - Upload your mzTab file </span>\n",
    "\n",
    "Upload your mzML files on the Binder server with the Jupyter lab interface (drag-and-drop the file in the left panel or use the \"Upload\" icon). \n",
    "\n",
    "##### <span style=\"color:brown\">Method 2 - Web-sharing links</span>\n",
    "We support retrieving the files from the following cloud sharing services:\n",
    "> **Google Drive** : copy the sharing the link (make sure the sharing setting is set to 'Anyone with the link can download').\n",
    "\n",
    "> **MassIVE/GNPS repository** : copy the link for the file.\n",
    "\n",
    "\n",
    "### Step 3 - Specify the link or path to the mzTab file\n",
    "\n",
    "In the cell below, indicate the filename for the mzTab file. The filename must be into parenthesis,  such as: *\"myfile.mzTab\"*. If applicable change the path, such *\"input_folder/myfile.mzTab\"*."
   ]
  },
  {
   "cell_type": "code",
   "execution_count": null,
   "metadata": {},
   "outputs": [],
   "source": [
    "input_mzTab = 'https://drive.google.com/file/d/1NGVzhrw-xZ4nMJserIQ7v4tYgcmraZ6g/view?usp=sharing'"
   ]
  },
  {
   "cell_type": "markdown",
   "metadata": {},
   "source": [
    "### Step 4 - Specify the parameters of the IODA-targeted workflow\n",
    "Specify the parameter values for IODA-targeted workflow in the cell below:\n",
    "\n",
    "*min_ratio_value*: minimum ratio for the intensity of an ion/feature (peak height) between the reference and blank samples (reference/blank). Only ions above that ratio will be valid ion targets. (Default = 5).\n",
    "\n",
    "*min_intensity_value*: the minimum intensity (peak height) of an ion/feature in the reference sample to be considered as valid ion targets. (Default = 1E5).\n",
    "\n",
    "*experiment_number*: define the number of iterative experiment(s) to perform for the IODA-targeted workflow. If >2, the valid target ions will be splitted into (multiple) experiments (Default = 3, range 1-10)\n"
   ]
  },
  {
   "cell_type": "code",
   "execution_count": null,
   "metadata": {},
   "outputs": [],
   "source": [
    "min_ratio_value = 5\n",
    "min_intensity_value = 1E5\n",
    "experiment_number = 3"
   ]
  },
  {
   "cell_type": "markdown",
   "metadata": {},
   "source": [
    "### Step 5 - Run the IODA-targeted workflow\n",
    "\n",
    "Simply run the cell below to start the IODA-targeted workflow"
   ]
  },
  {
   "cell_type": "code",
   "execution_count": null,
   "metadata": {},
   "outputs": [],
   "source": [
    "from IODA_targeted_workflow import *\n",
    "make_targeted_list_from_mzTab(input_mzTab, experiment_number, min_ratio_value, min_intensity_value)"
   ]
  },
  {
   "cell_type": "markdown",
   "metadata": {},
   "source": [
    "### Step 6 - Examine the results\n",
    "\n",
    "**Visualise** : Run the cell below to show the scatter plot for the IODA-targeted workflow results. Valid targets in the reference sample are represented into experiment(s). The ion/features from the blank sample are also shown. Verify that the OpenMS parameter variables and IODA-targeted workflows are adapted to level you want to apply, and your sample(s) complexity.\n",
    "\n",
    "- Examine the IODA-targeted worflow log and the plots in order to verify that the 'min_intensity' parameter is adapted to exclusion level you want to apply, and your sample(s) complexity.\n",
    "- Note that, at this stage, it cannot be evaluated if ion detection was done optimally. This should be examinated during the generation of the mzTab file (such as with TOPPAS/OpenMS)."
   ]
  },
  {
   "cell_type": "code",
   "execution_count": null,
   "metadata": {},
   "outputs": [],
   "source": [
    "from IPython.display import Image\n",
    "Image(\"results_targeted/intermediate_files/experiment_blank_shared_TARGETED_RATIO_scatter_view.png\")\n",
    "Image(\"results_targeted/intermediate_files/experiment_blank_shared_TARGETED_INTENSITY_scatter_view.png\")"
   ]
  },
  {
   "cell_type": "markdown",
   "metadata": {},
   "source": [
    "### Step 7 - Download the results\n",
    "\n",
    "Download the IODA-targeted workflow results ->\n",
    "[download-results/IODA_targeted_results.zip](download-results/IODA_targeted_results.zip?download=1).\n",
    "\n",
    "### Step 8 - Prepare your IODA experiment\n",
    "Prepare the iterative mass spectrometry acquisition. For instructions on how to load and configure an exclusion list with XCalibur or MaxQuant.Live please refer to [the following documentation](nothing)."
   ]
  },
  {
   "cell_type": "code",
   "execution_count": null,
   "metadata": {},
   "outputs": [],
   "source": []
  }
 ],
 "metadata": {
  "kernelspec": {
   "display_name": "Python 3",
   "language": "python",
   "name": "python3"
  },
  "language_info": {
   "codemirror_mode": {
    "name": "ipython",
    "version": 3
   },
   "file_extension": ".py",
   "mimetype": "text/x-python",
   "name": "python",
   "nbconvert_exporter": "python",
   "pygments_lexer": "ipython3",
   "version": "3.6.9"
  }
 },
 "nbformat": 4,
 "nbformat_minor": 4
}
