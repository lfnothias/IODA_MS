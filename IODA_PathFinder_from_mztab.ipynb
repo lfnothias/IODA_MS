{
 "cells": [
  {
   "cell_type": "markdown",
   "metadata": {},
   "source": [
    "# <span style=\"color:red\"> Targeted-from-mzTab notebook for IODA </span>\n",
    "\n",
    "**Purpose**: The IODA targeted-from-mzTab workflow takes allows to generate list of target ions for iterative optimise data acquisition (IODA) of fragmentation spectra in LC-MS. It accepts as input an mzTab file with results for two samples: the \"reference\" sample and the \"blank\" sample. The targets are detected in the \"reference\" sample, and background ions are detected in the \"blank\" sample. Background ions are excluded from the targets. The targets can be acquired by IODA in one or multiple experiments for higher coverage.\n",
    "\n",
    "\n",
    "**Usage**: This notebook requires the user to provide an mzTab. If you need to process your LC-MS data, you can use our [IODA targeted-from-mzML notebook](IODA_targeted_from_mzML.ipynb), or refer to our documentation for more informations. The IODA targeted workflow defines the target ions, and these targets are then formatted for XCalibur or [MaxQuant.Live]\n",
    "\n",
    "**Documentation**: Please refer to the documentation page [See here](link).\n",
    "\n",
    "**Instructions**: Follow the instructions below and run the notebook cells accordingly."
   ]
  },
  {
   "cell_type": "code",
   "execution_count": 1,
   "metadata": {},
   "outputs": [],
   "source": [
    "input_mzTab = 'tests/BP_mzTab/SA113_Media_SPE_MeOH_MS1_to_SA113_SPE_MeOH_MS1_mrgd.mzTab'\n",
    "#input_filename = 'tests/BP_mzTab/SA113_Media_SPE_MeOH_MS1_to_SA113_SPE_MeOH_MS1_mrgd.mzTab'\n",
    "#output_filename = 'tests/BP_mzTab/TEMP_Media_SPE_MeOH_MS1_to_SA113_SPE_MeOH_MS1_mrgd.csv'\n",
    "#convert_mzTab_to_table(input_filename,output_filename)"
   ]
  },
  {
   "cell_type": "code",
   "execution_count": 2,
   "metadata": {},
   "outputs": [],
   "source": [
    "from IODA_BestPath_workflow import *"
   ]
  },
  {
   "cell_type": "code",
   "execution_count": 3,
   "metadata": {},
   "outputs": [],
   "source": [
    "#Shared parameters\n",
    "min_ratio_value = 25\n",
    "min_intensity_value = 1E6\n",
    "experiment_number = 5\n",
    "isolation = 1.5"
   ]
  },
  {
   "cell_type": "code",
   "execution_count": 4,
   "metadata": {},
   "outputs": [],
   "source": [
    "# Baseline parameter\n",
    "win_len = 0.5"
   ]
  },
  {
   "cell_type": "code",
   "execution_count": 5,
   "metadata": {},
   "outputs": [
    {
     "name": "stderr",
     "output_type": "stream",
     "text": [
      "[I 200816 01:46:24 IODA_BestPath_workflow:131] STARTING THE IODA targeted-from-mzTab WORKFLOW\n",
      "[I 200816 01:46:24 IODA_BestPath_workflow:141] the input_filename variable should be a valid path/download link or must be: 'OpenMS_generated', when using the OpenMS workflow online\n",
      "[I 200816 01:46:24 IODA_BestPath_workflow:144] 2020-08-16 01:46:24.299843\n",
      "[I 200816 01:46:24 IODA_BestPath_workflow:146] ======\n",
      "[I 200816 01:46:24 IODA_BestPath_workflow:147] Getting the mzTab\n",
      "[I 200816 01:46:24 IODA_BestPath_workflow:163] This is the input file path: tests/BP_mzTab/SA113_Media_SPE_MeOH_MS1_to_SA113_SPE_MeOH_MS1_mrgd.mzTab\n",
      "[I 200816 01:46:24 IODA_BestPath_workflow:164] This is the output file path: results_targeted_pathfinder_baseline/SA113_Media_SPE_MeOH_MS1_to_SA113_SPE_MeOH_MS1_mrgd.csv\n",
      "[I 200816 01:46:24 IODA_BestPath_workflow:168] ======\n",
      "[I 200816 01:46:24 IODA_BestPath_workflow:169] Converting mzTab to intermediate table format ...\n",
      "[I 200816 01:46:24 IODA_BestPath_workflow:76] - For sample SA113_Media_SPE_MeOH_MS the sum of feature intensities is = 2.54e+11\n",
      "[I 200816 01:46:24 IODA_BestPath_workflow:78] - For sample SA113_SPE_MeOH_MS the sum of feature intensities = 6.25e+10\n",
      "[I 200816 01:46:24 IODA_BestPath_workflow:171] ======\n",
      "[I 200816 01:46:24 IODA_BestPath_workflow:176] Assumed sample filename: SA113_Media_SPE_MeOH_MS\n",
      "[I 200816 01:46:24 IODA_BestPath_workflow:178] Assumed blank filename: SA113_SPE_MeOH_MS\n",
      "[I 200816 01:46:24 IODA_BestPath_workflow:179] ======\n",
      "[I 200816 01:46:24 IODA_BestPath_workflow:182] User-defined parameters\n",
      "[I 200816 01:46:24 IODA_BestPath_workflow:184] Ratio between sample/blank for ion filtering = 25\n",
      "[I 200816 01:46:24 IODA_BestPath_workflow:186] Minimum intensity for ion filtering in sample = 1.00e+06\n",
      "[I 200816 01:46:24 IODA_BestPath_workflow:187] Retention time window (sec.) for binning target ions = 0.5\n",
      "[I 200816 01:46:24 IODA_BestPath_workflow:188] Isolation window (m/z) = 1.5\n",
      "[I 200816 01:46:24 IODA_BestPath_workflow:190] Number of iterative experiment(s) = 5\n",
      "[I 200816 01:46:24 IODA_BestPath_workflow:191] ======\n",
      "[I 200816 01:46:24 IODA_BestPath_workflow:194] Running Path Finder in Baseline mode ...\n",
      "[I 200816 01:46:24 IODA_BestPath_workflow:552] Command: python3 path_finder.py baseline results_targeted_pathfinder_baseline/SA113_Media_SPE_MeOH_MS1_to_SA113_SPE_MeOH_MS1_mrgd.csv results_targeted_pathfinder_baseline/SA113_Media_SPE_MeOH_MS1_to_SA113_SPE_MeOH_MS1_mrgd_PathFinder.csv 1000000.0 25 5 -win_len 0.5 -isolation 1.5\n",
      "[I 200816 01:46:25 IODA_BestPath_workflow:196] ======\n",
      "[I 200816 01:46:25 IODA_BestPath_workflow:197] Preparing results ...\n",
      "[I 200816 01:46:25 IODA_BestPath_workflow:521] File processed: results_targeted_pathfinder_baseline/SA113_Media_SPE_MeOH_MS1_to_SA113_SPE_MeOH_MS1_mrgd_PathFinder.csv\n",
      "[I 200816 01:46:25 IODA_BestPath_workflow:522] ======\n",
      "[I 200816 01:46:26 IODA_BestPath_workflow:514] Valid target ions in path1 = 528\n",
      "[I 200816 01:46:26 IODA_BestPath_workflow:531] Formatting to XCalibur format ...\n",
      "[I 200816 01:46:26 IODA_BestPath_workflow:534] Formatting for MaxQuant.Live ...\n",
      "[I 200816 01:46:26 IODA_BestPath_workflow:536] =======\n",
      "[I 200816 01:46:26 IODA_BestPath_workflow:514] Valid target ions in path2 = 330\n",
      "[I 200816 01:46:26 IODA_BestPath_workflow:531] Formatting to XCalibur format ...\n",
      "[I 200816 01:46:26 IODA_BestPath_workflow:534] Formatting for MaxQuant.Live ...\n",
      "[I 200816 01:46:26 IODA_BestPath_workflow:536] =======\n",
      "[I 200816 01:46:26 IODA_BestPath_workflow:514] Valid target ions in path3 = 219\n",
      "[I 200816 01:46:26 IODA_BestPath_workflow:531] Formatting to XCalibur format ...\n",
      "[I 200816 01:46:26 IODA_BestPath_workflow:534] Formatting for MaxQuant.Live ...\n",
      "[I 200816 01:46:26 IODA_BestPath_workflow:536] =======\n",
      "[I 200816 01:46:26 IODA_BestPath_workflow:514] Valid target ions in path4 = 161\n",
      "[I 200816 01:46:26 IODA_BestPath_workflow:531] Formatting to XCalibur format ...\n",
      "[I 200816 01:46:26 IODA_BestPath_workflow:534] Formatting for MaxQuant.Live ...\n",
      "[I 200816 01:46:26 IODA_BestPath_workflow:536] =======\n",
      "[I 200816 01:46:26 IODA_BestPath_workflow:514] Valid target ions in path5 = 114\n",
      "[I 200816 01:46:26 IODA_BestPath_workflow:531] Formatting to XCalibur format ...\n",
      "[I 200816 01:46:26 IODA_BestPath_workflow:534] Formatting for MaxQuant.Live ...\n",
      "[I 200816 01:46:26 IODA_BestPath_workflow:536] =======\n",
      "[I 200816 01:46:26 IODA_BestPath_workflow:544] Plotting results ...\n",
      "[I 200816 01:46:31 IODA_BestPath_workflow:199] ======\n",
      "[I 200816 01:46:31 IODA_BestPath_workflow:201] Cleaning and zipping workflow results files ...\n",
      "[I 200816 01:46:34 IODA_BestPath_workflow:119] All files zipped successfully!\n",
      "[I 200816 01:46:34 IODA_BestPath_workflow:229] ======\n",
      "[I 200816 01:46:34 IODA_BestPath_workflow:230] END OF THE IODA-Path-Finder-Baseline-from-mzTab WORKFLOW\n",
      "[I 200816 01:46:34 IODA_BestPath_workflow:231] ======\n"
     ]
    },
    {
     "name": "stdout",
     "output_type": "stream",
     "text": [
      " \n"
     ]
    },
    {
     "data": {
      "text/plain": [
       "<Figure size 432x288 with 0 Axes>"
      ]
     },
     "metadata": {},
     "output_type": "display_data"
    }
   ],
   "source": [
    "# Run Path Finder with Baseline method \n",
    "run_path_finder_baseline_from_mzTab(input_mzTab, experiment_number, min_ratio_value, min_intensity_value, win_len,isolation)"
   ]
  },
  {
   "cell_type": "code",
   "execution_count": 6,
   "metadata": {},
   "outputs": [],
   "source": [
    "# Apex parameters\n",
    "intensity_accu = 3e5\n",
    "delay = 0.1"
   ]
  },
  {
   "cell_type": "code",
   "execution_count": 7,
   "metadata": {},
   "outputs": [
    {
     "name": "stderr",
     "output_type": "stream",
     "text": [
      "[I 200816 01:46:35 IODA_BestPath_workflow:246] STARTING THE IODA targeted-from-mzTab WORKFLOW\n",
      "[I 200816 01:46:35 IODA_BestPath_workflow:256] the input_filename variable should be a valid path/download link or must be: 'OpenMS_generated', when using the OpenMS workflow online\n",
      "[I 200816 01:46:35 IODA_BestPath_workflow:259] 2020-08-16 01:46:35.607335\n",
      "[I 200816 01:46:35 IODA_BestPath_workflow:261] ======\n",
      "[I 200816 01:46:35 IODA_BestPath_workflow:262] Getting the mzTab\n",
      "[I 200816 01:46:35 IODA_BestPath_workflow:278] This is the input file path: tests/BP_mzTab/SA113_Media_SPE_MeOH_MS1_to_SA113_SPE_MeOH_MS1_mrgd.mzTab\n",
      "[I 200816 01:46:35 IODA_BestPath_workflow:279] This is the output file path: results_targeted_pathfinder_apex/SA113_Media_SPE_MeOH_MS1_to_SA113_SPE_MeOH_MS1_mrgd.csv\n",
      "[I 200816 01:46:35 IODA_BestPath_workflow:283] ======\n",
      "[I 200816 01:46:35 IODA_BestPath_workflow:284] Converting mzTab to intermediate table format ...\n",
      "[I 200816 01:46:35 IODA_BestPath_workflow:76] - For sample SA113_Media_SPE_MeOH_MS the sum of feature intensities is = 2.54e+11\n",
      "[I 200816 01:46:35 IODA_BestPath_workflow:78] - For sample SA113_SPE_MeOH_MS the sum of feature intensities = 6.25e+10\n",
      "[I 200816 01:46:35 IODA_BestPath_workflow:286] ======\n",
      "[I 200816 01:46:35 IODA_BestPath_workflow:291] Assumed sample filename: SA113_Media_SPE_MeOH_MS\n",
      "[I 200816 01:46:35 IODA_BestPath_workflow:293] Assumed blank filename: SA113_SPE_MeOH_MS\n",
      "[I 200816 01:46:35 IODA_BestPath_workflow:294] ======\n",
      "[I 200816 01:46:35 IODA_BestPath_workflow:297] User-defined parameters\n",
      "[I 200816 01:46:35 IODA_BestPath_workflow:299] Ratio between sample/blank for ion filtering = 25\n",
      "[I 200816 01:46:35 IODA_BestPath_workflow:301] Minimum intensity for ion filtering in sample = 1.00e+06\n",
      "[I 200816 01:46:35 IODA_BestPath_workflow:302] Precursor ion intensity to accumulate in the MS2 scan = 3.00e+05\n",
      "[I 200816 01:46:35 IODA_BestPath_workflow:303] Isolation window (m/z) = 1.5\n",
      "[I 200816 01:46:35 IODA_BestPath_workflow:304] Delay between targeted MS2 scans (sec)= 0.1\n",
      "[I 200816 01:46:35 IODA_BestPath_workflow:306] Number of iterative experiment(s) = 5\n",
      "[I 200816 01:46:35 IODA_BestPath_workflow:307] ======\n",
      "[I 200816 01:46:35 IODA_BestPath_workflow:310] Running Path Finder in Apex mode ...\n",
      "[I 200816 01:46:35 IODA_BestPath_workflow:557] Command: python3 path_finder.py apex results_targeted_pathfinder_apex/SA113_Media_SPE_MeOH_MS1_to_SA113_SPE_MeOH_MS1_mrgd.csv results_targeted_pathfinder_apex/SA113_Media_SPE_MeOH_MS1_to_SA113_SPE_MeOH_MS1_mrgd_PathFinder.csv 1000000.0 25 5 -intensity_accu 300000.0 -isolation 1.5 -delta 0.1\n",
      "[I 200816 01:46:37 IODA_BestPath_workflow:312] ======\n",
      "[I 200816 01:46:37 IODA_BestPath_workflow:313] Preparing results ...\n",
      "[I 200816 01:46:37 IODA_BestPath_workflow:521] File processed: results_targeted_pathfinder_apex/SA113_Media_SPE_MeOH_MS1_to_SA113_SPE_MeOH_MS1_mrgd_PathFinder.csv\n",
      "[I 200816 01:46:37 IODA_BestPath_workflow:522] ======\n",
      "[I 200816 01:46:37 IODA_BestPath_workflow:514] Valid target ions in path1 = 267\n",
      "[I 200816 01:46:37 IODA_BestPath_workflow:531] Formatting to XCalibur format ...\n",
      "[I 200816 01:46:37 IODA_BestPath_workflow:534] Formatting for MaxQuant.Live ...\n",
      "[I 200816 01:46:37 IODA_BestPath_workflow:536] =======\n",
      "[I 200816 01:46:37 IODA_BestPath_workflow:514] Valid target ions in path2 = 182\n",
      "[I 200816 01:46:37 IODA_BestPath_workflow:531] Formatting to XCalibur format ...\n",
      "[I 200816 01:46:37 IODA_BestPath_workflow:534] Formatting for MaxQuant.Live ...\n",
      "[I 200816 01:46:37 IODA_BestPath_workflow:536] =======\n",
      "[I 200816 01:46:37 IODA_BestPath_workflow:514] Valid target ions in path3 = 140\n",
      "[I 200816 01:46:37 IODA_BestPath_workflow:531] Formatting to XCalibur format ...\n",
      "[I 200816 01:46:37 IODA_BestPath_workflow:534] Formatting for MaxQuant.Live ...\n",
      "[I 200816 01:46:37 IODA_BestPath_workflow:536] =======\n",
      "[I 200816 01:46:37 IODA_BestPath_workflow:514] Valid target ions in path4 = 115\n",
      "[I 200816 01:46:37 IODA_BestPath_workflow:531] Formatting to XCalibur format ...\n",
      "[I 200816 01:46:37 IODA_BestPath_workflow:534] Formatting for MaxQuant.Live ...\n",
      "[I 200816 01:46:37 IODA_BestPath_workflow:536] =======\n",
      "[I 200816 01:46:37 IODA_BestPath_workflow:514] Valid target ions in path5 = 92\n",
      "[I 200816 01:46:37 IODA_BestPath_workflow:531] Formatting to XCalibur format ...\n",
      "[I 200816 01:46:37 IODA_BestPath_workflow:534] Formatting for MaxQuant.Live ...\n",
      "[I 200816 01:46:37 IODA_BestPath_workflow:536] =======\n",
      "[I 200816 01:46:37 IODA_BestPath_workflow:544] Plotting results ...\n",
      "[I 200816 01:46:41 IODA_BestPath_workflow:315] ======\n",
      "[I 200816 01:46:41 IODA_BestPath_workflow:317] Cleaning and zipping workflow results files ...\n",
      "[I 200816 01:46:41 IODA_BestPath_workflow:119] All files zipped successfully!\n",
      "[I 200816 01:46:41 IODA_BestPath_workflow:345] ======\n",
      "[I 200816 01:46:41 IODA_BestPath_workflow:346] END OF THE IODA-Path-Finder-Apex-from-mzTab WORKFLOW\n",
      "[I 200816 01:46:41 IODA_BestPath_workflow:347] ======\n"
     ]
    },
    {
     "name": "stdout",
     "output_type": "stream",
     "text": [
      " \n"
     ]
    },
    {
     "data": {
      "text/plain": [
       "<Figure size 432x288 with 0 Axes>"
      ]
     },
     "metadata": {},
     "output_type": "display_data"
    }
   ],
   "source": [
    "# Run Path Finder with Apex method\n",
    "run_path_finder_apex_from_mzTab(input_mzTab, experiment_number, min_ratio_value, min_intensity_value, intensity_accu, isolation, delay)"
   ]
  },
  {
   "cell_type": "code",
   "execution_count": 8,
   "metadata": {},
   "outputs": [],
   "source": [
    "# Curve parameters\n",
    "input_filename_curve = 'tests/BP_mzTab/test_SA113_SPE_MeOH_MS1.mzTab'\n",
    "intensity_accu = 3e5\n",
    "delay = 0.1\n",
    "restriction = 2\n",
    "mz_accuracy = 0.02"
   ]
  },
  {
   "cell_type": "code",
   "execution_count": null,
   "metadata": {},
   "outputs": [
    {
     "name": "stderr",
     "output_type": "stream",
     "text": [
      "[I 200816 01:46:49 IODA_BestPath_workflow:362] STARTING THE IODA targeted-from-mzTab WORKFLOW\n",
      "[I 200816 01:46:49 IODA_BestPath_workflow:372] the input_filename variable should be a valid path/download link or must be: 'OpenMS_generated', when using the OpenMS workflow online\n",
      "[I 200816 01:46:49 IODA_BestPath_workflow:375] 2020-08-16 01:46:49.161087\n",
      "[I 200816 01:46:49 IODA_BestPath_workflow:377] ======\n",
      "[I 200816 01:46:49 IODA_BestPath_workflow:378] Getting the mzTab\n",
      "[I 200816 01:46:49 IODA_BestPath_workflow:394] This is the input file path: tests/BP_mzTab/SA113_Media_SPE_MeOH_MS1_to_SA113_SPE_MeOH_MS1_mrgd.mzTab\n",
      "[I 200816 01:46:49 IODA_BestPath_workflow:395] This is the output file path: results_targeted_pathfinder_curve/SA113_Media_SPE_MeOH_MS1_to_SA113_SPE_MeOH_MS1_mrgd.csv\n",
      "[I 200816 01:46:49 IODA_BestPath_workflow:398] ======\n",
      "[I 200816 01:46:49 IODA_BestPath_workflow:399] Converting mzTab to intermediate table format ...\n",
      "[I 200816 01:46:49 IODA_BestPath_workflow:76] - For sample SA113_Media_SPE_MeOH_MS the sum of feature intensities is = 2.54e+11\n",
      "[I 200816 01:46:49 IODA_BestPath_workflow:78] - For sample SA113_SPE_MeOH_MS the sum of feature intensities = 6.25e+10\n",
      "[I 200816 01:46:49 IODA_BestPath_workflow:401] ======\n",
      "[I 200816 01:46:49 IODA_BestPath_workflow:406] Assumed sample filename: SA113_Media_SPE_MeOH_MS\n",
      "[I 200816 01:46:49 IODA_BestPath_workflow:408] Assumed blank filename: SA113_SPE_MeOH_MS\n",
      "[I 200816 01:46:49 IODA_BestPath_workflow:409] ======\n",
      "[I 200816 01:46:49 IODA_BestPath_workflow:412] User-defined parameters\n",
      "[I 200816 01:46:49 IODA_BestPath_workflow:414] Ratio between sample/blank for ion filtering = 25\n",
      "[I 200816 01:46:49 IODA_BestPath_workflow:416] Minimum intensity for ion filtering in sample = 1.00e+06\n",
      "[I 200816 01:46:49 IODA_BestPath_workflow:417] Precursor ion intensity to accumulate in the MS2 scan = 3.00e+05\n",
      "[I 200816 01:46:49 IODA_BestPath_workflow:418] Input file for curve data : tests/BP_mzTab/test_SA113_SPE_MeOH_MS1.mzTab\n",
      "[I 200816 01:46:49 IODA_BestPath_workflow:419] Restriction parameter : 2\n",
      "[I 200816 01:46:49 IODA_BestPath_workflow:420] Mass accuracy (m/z): 0.02\n",
      "[I 200816 01:46:49 IODA_BestPath_workflow:421] Delay between targeted MS2 scans (sec)= 0.1\n",
      "[I 200816 01:46:49 IODA_BestPath_workflow:423] Number of iterative experiment(s) = 5\n",
      "[I 200816 01:46:49 IODA_BestPath_workflow:424] ======\n",
      "[I 200816 01:46:49 IODA_BestPath_workflow:430] mzTab for the Curve mode found\n",
      "[I 200816 01:46:49 IODA_BestPath_workflow:440] Running Path Finder in Curve mode ...\n",
      "[I 200816 01:46:49 IODA_BestPath_workflow:562] Command: python3 path_finder.py curve results_targeted_pathfinder_curve/SA113_Media_SPE_MeOH_MS1_to_SA113_SPE_MeOH_MS1_mrgd.csv results_targeted_pathfinder_curve/SA113_Media_SPE_MeOH_MS1_to_SA113_SPE_MeOH_MS1_mrgd_PathFinder.csv 1000000.0 25 5 -infile_raw tests/BP_mzTab/test_SA113_SPE_MeOH_MS1.mzTab -intensity_accu 300000.0 -restriction 2 0.02 -delta 0.1\n",
      "[I 200816 01:46:49 IODA_BestPath_workflow:563] Path Finder in Curve mode can take up to 10 minutes to complete ... plz wait\n"
     ]
    }
   ],
   "source": [
    "# Run Path Finder with Curve method\n",
    "run_path_finder_curve_from_mzTab(input_mzTab, experiment_number, min_ratio_value, min_intensity_value, input_filename_curve, intensity_accu, restriction, mz_accuracy, delay)"
   ]
  },
  {
   "cell_type": "code",
   "execution_count": null,
   "metadata": {},
   "outputs": [],
   "source": []
  },
  {
   "cell_type": "code",
   "execution_count": null,
   "metadata": {},
   "outputs": [],
   "source": []
  },
  {
   "cell_type": "code",
   "execution_count": null,
   "metadata": {},
   "outputs": [],
   "source": []
  },
  {
   "cell_type": "code",
   "execution_count": null,
   "metadata": {},
   "outputs": [],
   "source": []
  },
  {
   "cell_type": "code",
   "execution_count": null,
   "metadata": {},
   "outputs": [],
   "source": []
  },
  {
   "cell_type": "code",
   "execution_count": null,
   "metadata": {},
   "outputs": [],
   "source": []
  },
  {
   "cell_type": "code",
   "execution_count": null,
   "metadata": {},
   "outputs": [],
   "source": []
  },
  {
   "cell_type": "code",
   "execution_count": null,
   "metadata": {},
   "outputs": [],
   "source": []
  },
  {
   "cell_type": "code",
   "execution_count": null,
   "metadata": {},
   "outputs": [],
   "source": []
  },
  {
   "cell_type": "code",
   "execution_count": null,
   "metadata": {},
   "outputs": [],
   "source": []
  },
  {
   "cell_type": "code",
   "execution_count": null,
   "metadata": {},
   "outputs": [],
   "source": []
  },
  {
   "cell_type": "code",
   "execution_count": null,
   "metadata": {},
   "outputs": [],
   "source": []
  },
  {
   "cell_type": "code",
   "execution_count": null,
   "metadata": {},
   "outputs": [],
   "source": []
  },
  {
   "cell_type": "code",
   "execution_count": null,
   "metadata": {},
   "outputs": [],
   "source": []
  },
  {
   "cell_type": "markdown",
   "metadata": {},
   "source": [
    "### Step 0 - Generate an mzTab file\n",
    "\n",
    "The mzTab file must contain results from feature detection and alignment for the two samples: the \"reference\" sample and the \"blank' sample. Please refer to the [documentation page](link) for more information.\n",
    "\n",
    "### Step 1 - Upload the mzTab file\n",
    "\n",
    "##### <span style=\"color:brown\">Method 1 - Upload your mzTab file </span>\n",
    "\n",
    "Upload your mzML files on the Binder server with the Jupyter lab interface (drag-and-drop the file in the left panel or use the \"Upload\" icon). \n",
    "\n",
    "##### <span style=\"color:brown\">Method 2 - Web-sharing links</span>\n",
    "We support retrieving the files from the following cloud sharing services:\n",
    "> **Google Drive** : copy the sharing the link (make sure the sharing setting is set to 'Anyone with the link can download').\n",
    "\n",
    "> **MassIVE/GNPS repository** : copy the link for the file.\n",
    "\n",
    "\n",
    "### Step 3 - Specify the link or path to the mzTab file\n",
    "\n",
    "In the cell below, indicate the filename for the mzTab file. The filename must be into parenthesis,  such as: *\"myfile.mzTab\"*. If applicable change the path, such *\"input_folder/myfile.mzTab\"*."
   ]
  },
  {
   "cell_type": "code",
   "execution_count": null,
   "metadata": {},
   "outputs": [],
   "source": [
    "input_mzTab = 'https://drive.google.com/file/d/1NGVzhrw-xZ4nMJserIQ7v4tYgcmraZ6g/view?usp=sharing'"
   ]
  },
  {
   "cell_type": "markdown",
   "metadata": {},
   "source": [
    "### Step 4 - Specify the parameters of the IODA-targeted workflow\n",
    "Specify the parameter values for IODA-targeted workflow in the cell below:\n",
    "\n",
    "*min_ratio_value*: minimum ratio for the intensity of an ion/feature (peak height) between the reference and blank samples (reference/blank). Only ions above that ratio will be valid ion targets. (Default = 5).\n",
    "\n",
    "*min_intensity_value*: the minimum intensity (peak height) of an ion/feature in the reference sample to be considered as valid ion targets. (Default = 1E5).\n",
    "\n",
    "*experiment_number*: define the number of iterative experiment(s) to perform for the IODA-targeted workflow. If >2, the valid target ions will be splitted into (multiple) experiments (Default = 3, range 1-10)\n"
   ]
  },
  {
   "cell_type": "code",
   "execution_count": null,
   "metadata": {},
   "outputs": [],
   "source": [
    "min_ratio_value = 5\n",
    "min_intensity_value = 1E5\n",
    "experiment_number = 3"
   ]
  },
  {
   "cell_type": "markdown",
   "metadata": {},
   "source": [
    "### Step 5 - Run the IODA-targeted workflow\n",
    "\n",
    "Simply run the cell below to start the IODA-targeted workflow"
   ]
  },
  {
   "cell_type": "code",
   "execution_count": null,
   "metadata": {},
   "outputs": [],
   "source": [
    "from IODA_targeted_workflow import *\n",
    "make_targeted_list_from_mzTab(input_mzTab, experiment_number, min_ratio_value, min_intensity_value)"
   ]
  },
  {
   "cell_type": "markdown",
   "metadata": {},
   "source": [
    "### Step 6 - Examine the results\n",
    "\n",
    "**Visualise** : Run the cell below to show the scatter plot for the IODA-targeted workflow results. Valid targets in the reference sample are represented into experiment(s). The ion/features from the blank sample are also shown. Verify that the OpenMS parameter variables and IODA-targeted workflows are adapted to level you want to apply, and your sample(s) complexity.\n",
    "\n",
    "- Examine the IODA-targeted worflow log and the plots in order to verify that the 'min_intensity' parameter is adapted to exclusion level you want to apply, and your sample(s) complexity.\n",
    "- Note that, at this stage, it cannot be evaluated if ion detection was done optimally. This should be examinated during the generation of the mzTab file (such as with TOPPAS/OpenMS)."
   ]
  },
  {
   "cell_type": "code",
   "execution_count": null,
   "metadata": {},
   "outputs": [],
   "source": [
    "from IPython.display import Image\n",
    "Image(\"results_targeted/intermediate_files/experiment_blank_shared_TARGETED_RATIO_scatter_view.png\")\n",
    "Image(\"results_targeted/intermediate_files/experiment_blank_shared_TARGETED_INTENSITY_scatter_view.png\")"
   ]
  },
  {
   "cell_type": "markdown",
   "metadata": {},
   "source": [
    "### Step 7 - Download the results\n",
    "\n",
    "Download the IODA-targeted workflow results ->\n",
    "[download-results/IODA_targeted_results.zip](download-results/IODA_targeted_results.zip?download=1).\n",
    "\n",
    "### Step 8 - Prepare your IODA experiment\n",
    "Prepare the iterative mass spectrometry acquisition. For instructions on how to load and configure an exclusion list with XCalibur or MaxQuant.Live please refer to [the following documentation](nothing)."
   ]
  },
  {
   "cell_type": "code",
   "execution_count": null,
   "metadata": {},
   "outputs": [],
   "source": []
  }
 ],
 "metadata": {
  "kernelspec": {
   "display_name": "Python 3",
   "language": "python",
   "name": "python3"
  },
  "language_info": {
   "codemirror_mode": {
    "name": "ipython",
    "version": 3
   },
   "file_extension": ".py",
   "mimetype": "text/x-python",
   "name": "python",
   "nbconvert_exporter": "python",
   "pygments_lexer": "ipython3",
   "version": "3.6.9"
  }
 },
 "nbformat": 4,
 "nbformat_minor": 4
}
