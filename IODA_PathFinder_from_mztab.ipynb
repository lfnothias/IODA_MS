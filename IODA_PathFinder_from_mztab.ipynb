{
 "cells": [
  {
   "cell_type": "markdown",
   "metadata": {},
   "source": [
    "# <span style=\"color:red\"> Targeted-from-mzTab notebook for IODA </span>\n",
    "\n",
    "**Purpose**: The IODA targeted-from-mzTab workflow takes allows to generate list of target ions for iterative optimise data acquisition (IODA) of fragmentation spectra in LC-MS. It accepts as input an mzTab file with results for two samples: the \"reference\" sample and the \"blank\" sample. The targets are detected in the \"reference\" sample, and background ions are detected in the \"blank\" sample. Background ions are excluded from the targets. The targets can be acquired by IODA in one or multiple experiments for higher coverage.\n",
    "\n",
    "\n",
    "**Usage**: This notebook requires the user to provide an mzTab. If you need to process your LC-MS data, you can use our [IODA targeted-from-mzML notebook](IODA_targeted_from_mzML.ipynb), or refer to our documentation for more informations. The IODA targeted workflow defines the target ions, and these targets are then formatted for XCalibur or [MaxQuant.Live]\n",
    "\n",
    "**Documentation**: Please refer to the documentation page [See here](link).\n",
    "\n",
    "**Instructions**: Follow the instructions below and run the notebook cells accordingly."
   ]
  },
  {
   "cell_type": "code",
   "execution_count": 1,
   "metadata": {},
   "outputs": [],
   "source": [
    "input_mzTab = 'tests/BP_mzTab/SA113_Media_SPE_MeOH_MS1_to_SA113_SPE_MeOH_MS1_mrgd.mzTab'\n",
    "#input_filename = 'tests/BP_mzTab/SA113_Media_SPE_MeOH_MS1_to_SA113_SPE_MeOH_MS1_mrgd.mzTab'\n",
    "#output_filename = 'tests/BP_mzTab/TEMP_Media_SPE_MeOH_MS1_to_SA113_SPE_MeOH_MS1_mrgd.csv'\n",
    "#convert_mzTab_to_table(input_filename,output_filename)"
   ]
  },
  {
   "cell_type": "code",
   "execution_count": 2,
   "metadata": {},
   "outputs": [],
   "source": [
    "from IODA_BestPath_workflow import *"
   ]
  },
  {
   "cell_type": "code",
   "execution_count": 3,
   "metadata": {},
   "outputs": [],
   "source": [
    "# Best Path shared parameters\n",
    "min_ratio_value = 10\n",
    "min_intensity_value = 3E6\n",
    "experiment_number = 5\n",
    "isolation = 1.5\n",
    "delay = 0.1 #sec\n",
    "\n",
    "# Target ion list parameters\n",
    "rt_margin = 0.3"
   ]
  },
  {
   "cell_type": "markdown",
   "metadata": {},
   "source": [
    "## Baseline mode"
   ]
  },
  {
   "cell_type": "code",
   "execution_count": 4,
   "metadata": {},
   "outputs": [],
   "source": [
    "# Baseline parameter\n",
    "win_len = 0.5"
   ]
  },
  {
   "cell_type": "code",
   "execution_count": 5,
   "metadata": {},
   "outputs": [
    {
     "name": "stderr",
     "output_type": "stream",
     "text": [
      "[I 200817 00:01:40 IODA_BestPath_workflow:131] STARTING THE IODA targeted-from-mzTab WORKFLOW\n",
      "[I 200817 00:01:40 IODA_BestPath_workflow:141] the input_filename variable should be a valid path/download link or must be: 'OpenMS_generated', when using the OpenMS workflow online\n",
      "[I 200817 00:01:40 IODA_BestPath_workflow:144] 2020-08-17 00:01:40.330372\n",
      "[I 200817 00:01:40 IODA_BestPath_workflow:146] ======\n",
      "[I 200817 00:01:40 IODA_BestPath_workflow:147] Getting the mzTab\n",
      "[I 200817 00:01:40 IODA_BestPath_workflow:163] This is the input file path: tests/BP_mzTab/SA113_Media_SPE_MeOH_MS1_to_SA113_SPE_MeOH_MS1_mrgd.mzTab\n",
      "[I 200817 00:01:40 IODA_BestPath_workflow:164] This is the output file path: results_targeted_pathfinder_baseline/SA113_Media_SPE_MeOH_MS1_to_SA113_SPE_MeOH_MS1_mrgd.csv\n",
      "[I 200817 00:01:40 IODA_BestPath_workflow:168] ======\n",
      "[I 200817 00:01:40 IODA_BestPath_workflow:169] Converting mzTab to intermediate table format ...\n",
      "[I 200817 00:01:40 IODA_BestPath_workflow:76] - For sample SA113_Media_SPE_MeOH_MS the sum of feature intensities is = 2.54e+11\n",
      "[I 200817 00:01:40 IODA_BestPath_workflow:78] - For sample SA113_SPE_MeOH_MS the sum of feature intensities = 6.25e+10\n",
      "[I 200817 00:01:40 IODA_BestPath_workflow:171] ======\n",
      "[I 200817 00:01:40 IODA_BestPath_workflow:176] Assumed sample filename: SA113_Media_SPE_MeOH_MS\n",
      "[I 200817 00:01:40 IODA_BestPath_workflow:178] Assumed blank filename: SA113_SPE_MeOH_MS\n",
      "[I 200817 00:01:40 IODA_BestPath_workflow:179] ======\n",
      "[I 200817 00:01:40 IODA_BestPath_workflow:182] User-defined parameters\n",
      "[I 200817 00:01:40 IODA_BestPath_workflow:184] Ratio between sample/blank for ion filtering = 10\n",
      "[I 200817 00:01:40 IODA_BestPath_workflow:186] Minimum intensity for ion filtering in sample = 3.00e+06\n",
      "[I 200817 00:01:40 IODA_BestPath_workflow:187] Retention time window (min.) for binning target ions = 0.5\n",
      "[I 200817 00:01:40 IODA_BestPath_workflow:188] Isolation window (m/z) = 1.5\n",
      "[I 200817 00:01:40 IODA_BestPath_workflow:189] Retention time margin (sec.) = 0.3\n",
      "[I 200817 00:01:40 IODA_BestPath_workflow:191] Number of iterative experiment(s) = 5\n",
      "[I 200817 00:01:40 IODA_BestPath_workflow:192] ======\n",
      "[I 200817 00:01:40 IODA_BestPath_workflow:195] Running Path Finder in Baseline mode ...\n",
      "[I 200817 00:01:40 IODA_BestPath_workflow:597] Command: python3 path_finder.py baseline results_targeted_pathfinder_baseline/SA113_Media_SPE_MeOH_MS1_to_SA113_SPE_MeOH_MS1_mrgd.csv results_targeted_pathfinder_baseline/SA113_Media_SPE_MeOH_MS1_to_SA113_SPE_MeOH_MS1_mrgd_PathFinder.csv 3000000.0 10 5 -win_len 0.5 -isolation 1.5\n",
      "[I 200817 00:01:41 IODA_BestPath_workflow:197] ======\n",
      "[I 200817 00:01:41 IODA_BestPath_workflow:202] Best Path output found\n",
      "[I 200817 00:01:41 IODA_BestPath_workflow:211] Preparing results ...\n",
      "[I 200817 00:01:41 IODA_BestPath_workflow:213] Preparing results ...\n",
      "[I 200817 00:01:41 IODA_BestPath_workflow:565] File processed: results_targeted_pathfinder_baseline/SA113_Media_SPE_MeOH_MS1_to_SA113_SPE_MeOH_MS1_mrgd_PathFinder.csv\n",
      "[I 200817 00:01:41 IODA_BestPath_workflow:566] ======\n",
      "[I 200817 00:01:41 IODA_BestPath_workflow:558] Valid target ions in path1 = 394\n",
      "[I 200817 00:01:41 IODA_BestPath_workflow:575] Formatting to XCalibur format ...\n",
      "[I 200817 00:01:41 IODA_BestPath_workflow:578] Formatting for MaxQuant.Live ...\n",
      "[I 200817 00:01:41 IODA_BestPath_workflow:581] =======\n",
      "[I 200817 00:01:41 IODA_BestPath_workflow:558] Valid target ions in path2 = 189\n",
      "[I 200817 00:01:41 IODA_BestPath_workflow:575] Formatting to XCalibur format ...\n",
      "[I 200817 00:01:41 IODA_BestPath_workflow:578] Formatting for MaxQuant.Live ...\n",
      "[I 200817 00:01:41 IODA_BestPath_workflow:581] =======\n",
      "[I 200817 00:01:41 IODA_BestPath_workflow:558] Valid target ions in path3 = 106\n",
      "[I 200817 00:01:41 IODA_BestPath_workflow:575] Formatting to XCalibur format ...\n",
      "[I 200817 00:01:41 IODA_BestPath_workflow:578] Formatting for MaxQuant.Live ...\n",
      "[I 200817 00:01:41 IODA_BestPath_workflow:581] =======\n",
      "[I 200817 00:01:41 IODA_BestPath_workflow:558] Valid target ions in path4 = 61\n",
      "[I 200817 00:01:41 IODA_BestPath_workflow:575] Formatting to XCalibur format ...\n",
      "[I 200817 00:01:41 IODA_BestPath_workflow:578] Formatting for MaxQuant.Live ...\n",
      "[I 200817 00:01:42 IODA_BestPath_workflow:581] =======\n",
      "[I 200817 00:01:42 IODA_BestPath_workflow:558] Valid target ions in path5 = 39\n",
      "[I 200817 00:01:42 IODA_BestPath_workflow:575] Formatting to XCalibur format ...\n",
      "[I 200817 00:01:42 IODA_BestPath_workflow:578] Formatting for MaxQuant.Live ...\n",
      "[I 200817 00:01:42 IODA_BestPath_workflow:581] =======\n",
      "[I 200817 00:01:42 IODA_BestPath_workflow:589] Plotting results ...\n",
      "[I 200817 00:01:45 IODA_BestPath_workflow:215] ======\n",
      "[I 200817 00:01:45 IODA_BestPath_workflow:217] Cleaning and zipping workflow results files ...\n",
      "[I 200817 00:01:45 IODA_BestPath_workflow:119] All files zipped successfully!\n",
      "[I 200817 00:01:45 IODA_BestPath_workflow:245] ======\n",
      "[I 200817 00:01:45 IODA_BestPath_workflow:246] END OF THE IODA-Path-Finder-Baseline-from-mzTab WORKFLOW\n",
      "[I 200817 00:01:45 IODA_BestPath_workflow:247] ======\n"
     ]
    },
    {
     "name": "stdout",
     "output_type": "stream",
     "text": [
      " \n"
     ]
    },
    {
     "data": {
      "text/plain": [
       "<Figure size 432x288 with 0 Axes>"
      ]
     },
     "metadata": {},
     "output_type": "display_data"
    }
   ],
   "source": [
    "# Run Path Finder with Baseline method \n",
    "run_path_finder_baseline_from_mzTab(input_mzTab, experiment_number, min_ratio_value, min_intensity_value, win_len, isolation, rt_margin)"
   ]
  },
  {
   "cell_type": "markdown",
   "metadata": {},
   "source": [
    "## Apex mode"
   ]
  },
  {
   "cell_type": "code",
   "execution_count": 6,
   "metadata": {},
   "outputs": [],
   "source": [
    "# Apex parameters\n",
    "intensity_accu = 3e5\n",
    "delay = 0.1"
   ]
  },
  {
   "cell_type": "code",
   "execution_count": 8,
   "metadata": {},
   "outputs": [
    {
     "name": "stderr",
     "output_type": "stream",
     "text": [
      "[I 200817 00:02:02 IODA_BestPath_workflow:262] STARTING THE IODA targeted-from-mzTab WORKFLOW\n",
      "[I 200817 00:02:02 IODA_BestPath_workflow:272] the input_filename variable should be a valid path/download link or must be: 'OpenMS_generated', when using the OpenMS workflow online\n",
      "[I 200817 00:02:02 IODA_BestPath_workflow:275] 2020-08-17 00:02:02.424139\n",
      "[I 200817 00:02:02 IODA_BestPath_workflow:277] ======\n",
      "[I 200817 00:02:02 IODA_BestPath_workflow:278] Getting the mzTab\n",
      "[I 200817 00:02:02 IODA_BestPath_workflow:294] This is the input file path: tests/BP_mzTab/SA113_Media_SPE_MeOH_MS1_to_SA113_SPE_MeOH_MS1_mrgd.mzTab\n",
      "[I 200817 00:02:02 IODA_BestPath_workflow:295] This is the output file path: results_targeted_pathfinder_apex/SA113_Media_SPE_MeOH_MS1_to_SA113_SPE_MeOH_MS1_mrgd.csv\n",
      "[I 200817 00:02:02 IODA_BestPath_workflow:299] ======\n",
      "[I 200817 00:02:02 IODA_BestPath_workflow:300] Converting mzTab to intermediate table format ...\n",
      "[I 200817 00:02:02 IODA_BestPath_workflow:76] - For sample SA113_Media_SPE_MeOH_MS the sum of feature intensities is = 2.54e+11\n",
      "[I 200817 00:02:02 IODA_BestPath_workflow:78] - For sample SA113_SPE_MeOH_MS the sum of feature intensities = 6.25e+10\n",
      "[I 200817 00:02:02 IODA_BestPath_workflow:302] ======\n",
      "[I 200817 00:02:02 IODA_BestPath_workflow:307] Assumed sample filename: SA113_Media_SPE_MeOH_MS\n",
      "[I 200817 00:02:02 IODA_BestPath_workflow:309] Assumed blank filename: SA113_SPE_MeOH_MS\n",
      "[I 200817 00:02:02 IODA_BestPath_workflow:310] ======\n",
      "[I 200817 00:02:02 IODA_BestPath_workflow:313] User-defined parameters\n",
      "[I 200817 00:02:02 IODA_BestPath_workflow:315] Ratio between sample/blank for ion filtering = 10\n",
      "[I 200817 00:02:02 IODA_BestPath_workflow:317] Minimum intensity for ion filtering in sample = 3.00e+06\n",
      "[I 200817 00:02:02 IODA_BestPath_workflow:318] Precursor ion intensity to accumulate in the MS2 scan = 3.00e+05\n",
      "[I 200817 00:02:02 IODA_BestPath_workflow:319] Isolation window (m/z) = 1.5\n",
      "[I 200817 00:02:02 IODA_BestPath_workflow:320] Retention time margin (sec.) = 0.3\n",
      "[I 200817 00:02:02 IODA_BestPath_workflow:323] Delay between targeted MS2 scans (sec)= 0.1\n",
      "[I 200817 00:02:02 IODA_BestPath_workflow:325] Number of iterative experiment(s) = 5\n",
      "[I 200817 00:02:02 IODA_BestPath_workflow:326] ======\n",
      "[I 200817 00:02:02 IODA_BestPath_workflow:329] Running Path Finder in Apex mode ...\n",
      "[I 200817 00:02:02 IODA_BestPath_workflow:602] Command: python3 path_finder.py apex results_targeted_pathfinder_apex/SA113_Media_SPE_MeOH_MS1_to_SA113_SPE_MeOH_MS1_mrgd.csv results_targeted_pathfinder_apex/SA113_Media_SPE_MeOH_MS1_to_SA113_SPE_MeOH_MS1_mrgd_PathFinder.csv 3000000.0 10 5 -intensity_accu 300000.0 -isolation 1.5 -delta 0.1\n",
      "[I 200817 00:02:03 IODA_BestPath_workflow:331] ======\n",
      "[I 200817 00:02:03 IODA_BestPath_workflow:336] Best Path output found\n",
      "[I 200817 00:02:03 IODA_BestPath_workflow:346] Preparing results ...\n",
      "[I 200817 00:02:03 IODA_BestPath_workflow:565] File processed: results_targeted_pathfinder_apex/SA113_Media_SPE_MeOH_MS1_to_SA113_SPE_MeOH_MS1_mrgd_PathFinder.csv\n",
      "[I 200817 00:02:03 IODA_BestPath_workflow:566] ======\n",
      "[I 200817 00:02:03 IODA_BestPath_workflow:558] Valid target ions in path1 = 261\n",
      "[I 200817 00:02:03 IODA_BestPath_workflow:575] Formatting to XCalibur format ...\n",
      "[I 200817 00:02:03 IODA_BestPath_workflow:578] Formatting for MaxQuant.Live ...\n",
      "[I 200817 00:02:03 IODA_BestPath_workflow:581] =======\n",
      "[I 200817 00:02:03 IODA_BestPath_workflow:558] Valid target ions in path2 = 161\n",
      "[I 200817 00:02:03 IODA_BestPath_workflow:575] Formatting to XCalibur format ...\n",
      "[I 200817 00:02:03 IODA_BestPath_workflow:578] Formatting for MaxQuant.Live ...\n",
      "[I 200817 00:02:03 IODA_BestPath_workflow:581] =======\n",
      "[I 200817 00:02:03 IODA_BestPath_workflow:558] Valid target ions in path3 = 109\n",
      "[I 200817 00:02:03 IODA_BestPath_workflow:575] Formatting to XCalibur format ...\n",
      "[I 200817 00:02:03 IODA_BestPath_workflow:578] Formatting for MaxQuant.Live ...\n",
      "[I 200817 00:02:03 IODA_BestPath_workflow:581] =======\n",
      "[I 200817 00:02:04 IODA_BestPath_workflow:558] Valid target ions in path4 = 80\n",
      "[I 200817 00:02:04 IODA_BestPath_workflow:575] Formatting to XCalibur format ...\n",
      "[I 200817 00:02:04 IODA_BestPath_workflow:578] Formatting for MaxQuant.Live ...\n",
      "[I 200817 00:02:04 IODA_BestPath_workflow:581] =======\n",
      "[I 200817 00:02:04 IODA_BestPath_workflow:558] Valid target ions in path5 = 57\n",
      "[I 200817 00:02:04 IODA_BestPath_workflow:575] Formatting to XCalibur format ...\n",
      "[I 200817 00:02:04 IODA_BestPath_workflow:578] Formatting for MaxQuant.Live ...\n",
      "[I 200817 00:02:04 IODA_BestPath_workflow:581] =======\n",
      "[I 200817 00:02:04 IODA_BestPath_workflow:589] Plotting results ...\n",
      "[I 200817 00:02:07 IODA_BestPath_workflow:348] ======\n",
      "[I 200817 00:02:07 IODA_BestPath_workflow:350] Cleaning and zipping workflow results files ...\n",
      "[I 200817 00:02:07 IODA_BestPath_workflow:119] All files zipped successfully!\n",
      "[I 200817 00:02:07 IODA_BestPath_workflow:378] ======\n",
      "[I 200817 00:02:07 IODA_BestPath_workflow:379] END OF THE IODA-Path-Finder-Apex-from-mzTab WORKFLOW\n",
      "[I 200817 00:02:07 IODA_BestPath_workflow:380] ======\n"
     ]
    },
    {
     "name": "stdout",
     "output_type": "stream",
     "text": [
      " \n"
     ]
    },
    {
     "data": {
      "text/plain": [
       "<Figure size 432x288 with 0 Axes>"
      ]
     },
     "metadata": {},
     "output_type": "display_data"
    }
   ],
   "source": [
    "# Run Path Finder with Apex method\n",
    "run_path_finder_apex_from_mzTab(input_mzTab, experiment_number, min_ratio_value, min_intensity_value, intensity_accu, isolation, delay, rt_margin,)"
   ]
  },
  {
   "cell_type": "markdown",
   "metadata": {},
   "source": [
    "## Curve mode"
   ]
  },
  {
   "cell_type": "code",
   "execution_count": 10,
   "metadata": {},
   "outputs": [],
   "source": [
    "# Curve parameters\n",
    "input_filename_curve = 'tests/BP_mzTab/test_SA113_SPE_MeOH_MS1.mzTab'\n",
    "intensity_accu = 3e5\n",
    "delay = 0.1\n",
    "restriction = 2\n",
    "mz_accuracy = 0.02\n",
    "transient_time = 100 #ms"
   ]
  },
  {
   "cell_type": "code",
   "execution_count": 11,
   "metadata": {},
   "outputs": [
    {
     "name": "stderr",
     "output_type": "stream",
     "text": [
      "[I 200816 23:24:40 IODA_BestPath_workflow:394] STARTING THE IODA targeted-from-mzTab WORKFLOW\n",
      "[I 200816 23:24:40 IODA_BestPath_workflow:404] the input_filename variable should be a valid path/download link or must be: 'OpenMS_generated', when using the OpenMS workflow online\n",
      "[I 200816 23:24:40 IODA_BestPath_workflow:407] 2020-08-16 23:24:40.898738\n",
      "[I 200816 23:24:40 IODA_BestPath_workflow:409] ======\n",
      "[I 200816 23:24:40 IODA_BestPath_workflow:410] Getting the mzTab\n",
      "[I 200816 23:24:40 IODA_BestPath_workflow:426] This is the input file path: tests/BP_mzTab/SA113_Media_SPE_MeOH_MS1_to_SA113_SPE_MeOH_MS1_mrgd.mzTab\n",
      "[I 200816 23:24:40 IODA_BestPath_workflow:427] This is the output file path: results_targeted_pathfinder_curve/SA113_Media_SPE_MeOH_MS1_to_SA113_SPE_MeOH_MS1_mrgd.csv\n",
      "[I 200816 23:24:40 IODA_BestPath_workflow:430] ======\n",
      "[I 200816 23:24:40 IODA_BestPath_workflow:431] Converting mzTab to intermediate table format ...\n",
      "[I 200816 23:24:40 IODA_BestPath_workflow:76] - For sample SA113_Media_SPE_MeOH_MS the sum of feature intensities is = 2.54e+11\n",
      "[I 200816 23:24:40 IODA_BestPath_workflow:78] - For sample SA113_SPE_MeOH_MS the sum of feature intensities = 6.25e+10\n",
      "[I 200816 23:24:41 IODA_BestPath_workflow:433] ======\n",
      "[I 200816 23:24:41 IODA_BestPath_workflow:438] Assumed sample filename: SA113_Media_SPE_MeOH_MS\n",
      "[I 200816 23:24:41 IODA_BestPath_workflow:440] Assumed blank filename: SA113_SPE_MeOH_MS\n",
      "[I 200816 23:24:41 IODA_BestPath_workflow:441] ======\n",
      "[I 200816 23:24:41 IODA_BestPath_workflow:444] User-defined parameters\n",
      "[I 200816 23:24:41 IODA_BestPath_workflow:446] Ratio between sample/blank for ion filtering = 3\n",
      "[I 200816 23:24:41 IODA_BestPath_workflow:448] Minimum intensity for ion filtering in sample = 3.00e+05\n",
      "[I 200816 23:24:41 IODA_BestPath_workflow:449] Precursor ion intensity to accumulate in the MS2 scan = 3.00e+05\n",
      "[I 200816 23:24:41 IODA_BestPath_workflow:450] Transient time and overhead (ms) = 100\n",
      "[I 200816 23:24:41 IODA_BestPath_workflow:451] Input file for curve data : tests/BP_mzTab/test_SA113_SPE_MeOH_MS1.mzTab\n",
      "[I 200816 23:24:41 IODA_BestPath_workflow:452] Restriction parameter : 2\n",
      "[I 200816 23:24:41 IODA_BestPath_workflow:453] Mass accuracy (m/z): 0.02\n",
      "[I 200816 23:24:41 IODA_BestPath_workflow:454] Delay between targeted MS2 scans (sec)= 0.1\n",
      "[I 200816 23:24:41 IODA_BestPath_workflow:456] Number of iterative experiment(s) = 5\n",
      "[I 200816 23:24:41 IODA_BestPath_workflow:457] ======\n",
      "[I 200816 23:24:41 IODA_BestPath_workflow:463] mzTab for the Curve mode found\n",
      "[I 200816 23:24:41 IODA_BestPath_workflow:473] Running Path Finder in Curve mode ...\n",
      "[I 200816 23:24:41 IODA_BestPath_workflow:605] Command: python3 path_finder.py curve results_targeted_pathfinder_curve/SA113_Media_SPE_MeOH_MS1_to_SA113_SPE_MeOH_MS1_mrgd.csv results_targeted_pathfinder_curve/SA113_Media_SPE_MeOH_MS1_to_SA113_SPE_MeOH_MS1_mrgd_PathFinder.csv 300000.0 3 5 -infile_raw tests/BP_mzTab/test_SA113_SPE_MeOH_MS1.mzTab -intensity_accu 300000.0 -restriction 2 0.02 -delta 0.1\n",
      "[I 200816 23:24:41 IODA_BestPath_workflow:606] Path Finder in Curve mode can take up to 10 minutes to complete ... please wait\n",
      "[I 200816 23:24:48 IODA_BestPath_workflow:487] Problem when running Best Path !!!\n",
      "[I 200816 23:24:48 IODA_BestPath_workflow:491] ======\n",
      "[I 200816 23:24:48 IODA_BestPath_workflow:492] Preparing results ...\n",
      "[I 200816 23:24:48 IODA_BestPath_workflow:563] File processed: results_targeted_pathfinder_curve/SA113_Media_SPE_MeOH_MS1_to_SA113_SPE_MeOH_MS1_mrgd_PathFinder.csv\n",
      "[I 200816 23:24:48 IODA_BestPath_workflow:564] ======\n"
     ]
    },
    {
     "name": "stdout",
     "output_type": "stream",
     "text": [
      "<---------- !!!!!!!!!!!!!!!!!! ---------->\n",
      "Problem when running Best Path !!!\n",
      "<---------- !!!!!!!!!!!!!!!!!! ---------->\n"
     ]
    },
    {
     "ename": "FileNotFoundError",
     "evalue": "[Errno 2] No such file or directory: 'results_targeted_pathfinder_curve/SA113_Media_SPE_MeOH_MS1_to_SA113_SPE_MeOH_MS1_mrgd_PathFinder.csv'",
     "output_type": "error",
     "traceback": [
      "\u001b[0;31m---------------------------------------------------------------------------\u001b[0m",
      "\u001b[0;31mFileNotFoundError\u001b[0m                         Traceback (most recent call last)",
      "\u001b[0;32m<ipython-input-11-43040bd99219>\u001b[0m in \u001b[0;36m<module>\u001b[0;34m\u001b[0m\n\u001b[1;32m      1\u001b[0m \u001b[0;31m# Run Path Finder with Curve method\u001b[0m\u001b[0;34m\u001b[0m\u001b[0;34m\u001b[0m\u001b[0;34m\u001b[0m\u001b[0m\n\u001b[0;32m----> 2\u001b[0;31m \u001b[0mrun_path_finder_curve_from_mzTab\u001b[0m\u001b[0;34m(\u001b[0m\u001b[0minput_mzTab\u001b[0m\u001b[0;34m,\u001b[0m \u001b[0mexperiment_number\u001b[0m\u001b[0;34m,\u001b[0m \u001b[0mmin_ratio_value\u001b[0m\u001b[0;34m,\u001b[0m \u001b[0mmin_intensity_value\u001b[0m\u001b[0;34m,\u001b[0m \u001b[0minput_filename_curve\u001b[0m\u001b[0;34m,\u001b[0m \u001b[0mintensity_accu\u001b[0m\u001b[0;34m,\u001b[0m \u001b[0mrestriction\u001b[0m\u001b[0;34m,\u001b[0m \u001b[0mmz_accuracy\u001b[0m\u001b[0;34m,\u001b[0m \u001b[0mdelay\u001b[0m\u001b[0;34m,\u001b[0m \u001b[0mbase_rt_margin\u001b[0m\u001b[0;34m,\u001b[0m \u001b[0mduration_percent_margin\u001b[0m\u001b[0;34m,\u001b[0m \u001b[0mtransient_time\u001b[0m\u001b[0;34m)\u001b[0m\u001b[0;34m\u001b[0m\u001b[0;34m\u001b[0m\u001b[0m\n\u001b[0m",
      "\u001b[0;32m~/IODA_BestPath_workflow.py\u001b[0m in \u001b[0;36mrun_path_finder_curve_from_mzTab\u001b[0;34m(input_filename, num_path, intensity_ratio, intensity_threshold, input_filename_curve, intensity_accu, restriction, mz_accuracy, delta, base_rt_margin, duration_percent_margin, transient_time)\u001b[0m\n\u001b[1;32m    491\u001b[0m     \u001b[0mlogger\u001b[0m\u001b[0;34m.\u001b[0m\u001b[0minfo\u001b[0m\u001b[0;34m(\u001b[0m\u001b[0;34m'======'\u001b[0m\u001b[0;34m)\u001b[0m\u001b[0;34m\u001b[0m\u001b[0;34m\u001b[0m\u001b[0m\n\u001b[1;32m    492\u001b[0m     \u001b[0mlogger\u001b[0m\u001b[0;34m.\u001b[0m\u001b[0minfo\u001b[0m\u001b[0;34m(\u001b[0m\u001b[0;34m'Preparing results ...'\u001b[0m\u001b[0;34m)\u001b[0m\u001b[0;34m\u001b[0m\u001b[0;34m\u001b[0m\u001b[0m\n\u001b[0;32m--> 493\u001b[0;31m     \u001b[0mmake_bestpath_targeted_lists_from_table\u001b[0m\u001b[0;34m(\u001b[0m\u001b[0moutput_filename\u001b[0m\u001b[0;34m[\u001b[0m\u001b[0;34m:\u001b[0m\u001b[0;34m-\u001b[0m\u001b[0;36m4\u001b[0m\u001b[0;34m]\u001b[0m\u001b[0;34m+\u001b[0m\u001b[0;34m'_PathFinder.csv'\u001b[0m\u001b[0;34m,\u001b[0m \u001b[0mbase_rt_margin\u001b[0m\u001b[0;34m,\u001b[0m \u001b[0mduration_percent_margin\u001b[0m\u001b[0;34m,\u001b[0m \u001b[0mtransient_time\u001b[0m\u001b[0;34m)\u001b[0m\u001b[0;34m\u001b[0m\u001b[0;34m\u001b[0m\u001b[0m\n\u001b[0m\u001b[1;32m    494\u001b[0m     \u001b[0mlogger\u001b[0m\u001b[0;34m.\u001b[0m\u001b[0minfo\u001b[0m\u001b[0;34m(\u001b[0m\u001b[0;34m'======'\u001b[0m\u001b[0;34m)\u001b[0m\u001b[0;34m\u001b[0m\u001b[0;34m\u001b[0m\u001b[0m\n\u001b[1;32m    495\u001b[0m \u001b[0;34m\u001b[0m\u001b[0m\n",
      "\u001b[0;32m~/IODA_BestPath_workflow.py\u001b[0m in \u001b[0;36mmake_bestpath_targeted_lists_from_table\u001b[0;34m(input_filename, base_rt_margin, duration_percent_margin, transient_time)\u001b[0m\n\u001b[1;32m    563\u001b[0m     \u001b[0mlogger\u001b[0m\u001b[0;34m.\u001b[0m\u001b[0minfo\u001b[0m\u001b[0;34m(\u001b[0m\u001b[0;34m'File processed: '\u001b[0m\u001b[0;34m+\u001b[0m\u001b[0minput_filename\u001b[0m\u001b[0;34m)\u001b[0m\u001b[0;34m\u001b[0m\u001b[0;34m\u001b[0m\u001b[0m\n\u001b[1;32m    564\u001b[0m     \u001b[0mlogger\u001b[0m\u001b[0;34m.\u001b[0m\u001b[0minfo\u001b[0m\u001b[0;34m(\u001b[0m\u001b[0;34m'======'\u001b[0m\u001b[0;34m)\u001b[0m\u001b[0;34m\u001b[0m\u001b[0;34m\u001b[0m\u001b[0m\n\u001b[0;32m--> 565\u001b[0;31m     \u001b[0;32mwith\u001b[0m \u001b[0mopen\u001b[0m\u001b[0;34m(\u001b[0m\u001b[0minput_filename\u001b[0m\u001b[0;34m)\u001b[0m \u001b[0;32mas\u001b[0m \u001b[0mfile\u001b[0m\u001b[0;34m:\u001b[0m\u001b[0;34m\u001b[0m\u001b[0;34m\u001b[0m\u001b[0m\n\u001b[0m\u001b[1;32m    566\u001b[0m         \u001b[0mcounter\u001b[0m \u001b[0;34m=\u001b[0m \u001b[0;34m-\u001b[0m\u001b[0;36m1\u001b[0m\u001b[0;34m\u001b[0m\u001b[0;34m\u001b[0m\u001b[0m\n\u001b[1;32m    567\u001b[0m         \u001b[0;32mfor\u001b[0m \u001b[0mline\u001b[0m \u001b[0;32min\u001b[0m \u001b[0mfile\u001b[0m\u001b[0;34m:\u001b[0m\u001b[0;34m\u001b[0m\u001b[0;34m\u001b[0m\u001b[0m\n",
      "\u001b[0;31mFileNotFoundError\u001b[0m: [Errno 2] No such file or directory: 'results_targeted_pathfinder_curve/SA113_Media_SPE_MeOH_MS1_to_SA113_SPE_MeOH_MS1_mrgd_PathFinder.csv'"
     ]
    }
   ],
   "source": [
    "# Run Path Finder with Curve method\n",
    "run_path_finder_curve_from_mzTab(input_mzTab, experiment_number, min_ratio_value, min_intensity_value, input_filename_curve, intensity_accu, restriction, mz_accuracy, delay, base_rt_margin, transient_time)"
   ]
  },
  {
   "cell_type": "code",
   "execution_count": 15,
   "metadata": {},
   "outputs": [
    {
     "name": "stdout",
     "output_type": "stream",
     "text": [
      "=============\n",
      "Curve mode begin\n",
      "Killed\n"
     ]
    }
   ],
   "source": [
    "!python3 path_finder.py curve results_targeted_pathfinder_curve/SA113_Media_SPE_MeOH_MS1_to_SA113_SPE_MeOH_MS1_mrgd.csv results_targeted_pathfinder_curve/SA113_Media_SPE_MeOH_MS1_to_SA113_SPE_MeOH_MS1_mrgd_PathFinder.csv 300000.0 3 5 -infile_raw tests/BP_mzTab/test_SA113_SPE_MeOH_MS1.mzTab -intensity_accu 300000.0 -restriction 2 0.02 -delta 0.1"
   ]
  },
  {
   "cell_type": "code",
   "execution_count": null,
   "metadata": {},
   "outputs": [],
   "source": []
  },
  {
   "cell_type": "code",
   "execution_count": null,
   "metadata": {},
   "outputs": [],
   "source": []
  },
  {
   "cell_type": "code",
   "execution_count": null,
   "metadata": {},
   "outputs": [],
   "source": []
  },
  {
   "cell_type": "code",
   "execution_count": null,
   "metadata": {},
   "outputs": [],
   "source": []
  },
  {
   "cell_type": "code",
   "execution_count": null,
   "metadata": {},
   "outputs": [],
   "source": []
  },
  {
   "cell_type": "code",
   "execution_count": null,
   "metadata": {},
   "outputs": [],
   "source": []
  },
  {
   "cell_type": "code",
   "execution_count": null,
   "metadata": {},
   "outputs": [],
   "source": []
  },
  {
   "cell_type": "code",
   "execution_count": null,
   "metadata": {},
   "outputs": [],
   "source": []
  },
  {
   "cell_type": "code",
   "execution_count": null,
   "metadata": {},
   "outputs": [],
   "source": []
  },
  {
   "cell_type": "code",
   "execution_count": null,
   "metadata": {},
   "outputs": [],
   "source": []
  },
  {
   "cell_type": "code",
   "execution_count": null,
   "metadata": {},
   "outputs": [],
   "source": []
  },
  {
   "cell_type": "code",
   "execution_count": null,
   "metadata": {},
   "outputs": [],
   "source": []
  },
  {
   "cell_type": "code",
   "execution_count": null,
   "metadata": {},
   "outputs": [],
   "source": []
  },
  {
   "cell_type": "markdown",
   "metadata": {},
   "source": [
    "### Step 0 - Generate an mzTab file\n",
    "\n",
    "The mzTab file must contain results from feature detection and alignment for the two samples: the \"reference\" sample and the \"blank' sample. Please refer to the [documentation page](link) for more information.\n",
    "\n",
    "### Step 1 - Upload the mzTab file\n",
    "\n",
    "##### <span style=\"color:brown\">Method 1 - Upload your mzTab file </span>\n",
    "\n",
    "Upload your mzML files on the Binder server with the Jupyter lab interface (drag-and-drop the file in the left panel or use the \"Upload\" icon). \n",
    "\n",
    "##### <span style=\"color:brown\">Method 2 - Web-sharing links</span>\n",
    "We support retrieving the files from the following cloud sharing services:\n",
    "> **Google Drive** : copy the sharing the link (make sure the sharing setting is set to 'Anyone with the link can download').\n",
    "\n",
    "> **MassIVE/GNPS repository** : copy the link for the file.\n",
    "\n",
    "\n",
    "### Step 3 - Specify the link or path to the mzTab file\n",
    "\n",
    "In the cell below, indicate the filename for the mzTab file. The filename must be into parenthesis,  such as: *\"myfile.mzTab\"*. If applicable change the path, such *\"input_folder/myfile.mzTab\"*."
   ]
  },
  {
   "cell_type": "code",
   "execution_count": null,
   "metadata": {},
   "outputs": [],
   "source": [
    "input_mzTab = 'https://drive.google.com/file/d/1NGVzhrw-xZ4nMJserIQ7v4tYgcmraZ6g/view?usp=sharing'"
   ]
  },
  {
   "cell_type": "markdown",
   "metadata": {},
   "source": [
    "### Step 4 - Specify the parameters of the IODA-targeted workflow\n",
    "Specify the parameter values for IODA-targeted workflow in the cell below:\n",
    "\n",
    "*min_ratio_value*: minimum ratio for the intensity of an ion/feature (peak height) between the reference and blank samples (reference/blank). Only ions above that ratio will be valid ion targets. (Default = 5).\n",
    "\n",
    "*min_intensity_value*: the minimum intensity (peak height) of an ion/feature in the reference sample to be considered as valid ion targets. (Default = 1E5).\n",
    "\n",
    "*experiment_number*: define the number of iterative experiment(s) to perform for the IODA-targeted workflow. If >2, the valid target ions will be splitted into (multiple) experiments (Default = 3, range 1-10)\n"
   ]
  },
  {
   "cell_type": "code",
   "execution_count": null,
   "metadata": {},
   "outputs": [],
   "source": [
    "min_ratio_value = 5\n",
    "min_intensity_value = 1E5\n",
    "experiment_number = 3"
   ]
  },
  {
   "cell_type": "markdown",
   "metadata": {},
   "source": [
    "### Step 5 - Run the IODA-targeted workflow\n",
    "\n",
    "Simply run the cell below to start the IODA-targeted workflow"
   ]
  },
  {
   "cell_type": "code",
   "execution_count": null,
   "metadata": {},
   "outputs": [],
   "source": [
    "from IODA_targeted_workflow import *\n",
    "make_targeted_list_from_mzTab(input_mzTab, experiment_number, min_ratio_value, min_intensity_value)"
   ]
  },
  {
   "cell_type": "markdown",
   "metadata": {},
   "source": [
    "### Step 6 - Examine the results\n",
    "\n",
    "**Visualise** : Run the cell below to show the scatter plot for the IODA-targeted workflow results. Valid targets in the reference sample are represented into experiment(s). The ion/features from the blank sample are also shown. Verify that the OpenMS parameter variables and IODA-targeted workflows are adapted to level you want to apply, and your sample(s) complexity.\n",
    "\n",
    "- Examine the IODA-targeted worflow log and the plots in order to verify that the 'min_intensity' parameter is adapted to exclusion level you want to apply, and your sample(s) complexity.\n",
    "- Note that, at this stage, it cannot be evaluated if ion detection was done optimally. This should be examinated during the generation of the mzTab file (such as with TOPPAS/OpenMS)."
   ]
  },
  {
   "cell_type": "code",
   "execution_count": null,
   "metadata": {},
   "outputs": [],
   "source": [
    "from IPython.display import Image\n",
    "Image(\"results_targeted/intermediate_files/experiment_blank_shared_TARGETED_RATIO_scatter_view.png\")\n",
    "Image(\"results_targeted/intermediate_files/experiment_blank_shared_TARGETED_INTENSITY_scatter_view.png\")"
   ]
  },
  {
   "cell_type": "markdown",
   "metadata": {},
   "source": [
    "### Step 7 - Download the results\n",
    "\n",
    "Download the IODA-targeted workflow results ->\n",
    "[download-results/IODA_targeted_results.zip](download-results/IODA_targeted_results.zip?download=1).\n",
    "\n",
    "### Step 8 - Prepare your IODA experiment\n",
    "Prepare the iterative mass spectrometry acquisition. For instructions on how to load and configure an exclusion list with XCalibur or MaxQuant.Live please refer to [the following documentation](nothing)."
   ]
  },
  {
   "cell_type": "code",
   "execution_count": null,
   "metadata": {},
   "outputs": [],
   "source": []
  }
 ],
 "metadata": {
  "kernelspec": {
   "display_name": "Python 3",
   "language": "python",
   "name": "python3"
  },
  "language_info": {
   "codemirror_mode": {
    "name": "ipython",
    "version": 3
   },
   "file_extension": ".py",
   "mimetype": "text/x-python",
   "name": "python",
   "nbconvert_exporter": "python",
   "pygments_lexer": "ipython3",
   "version": "3.6.9"
  }
 },
 "nbformat": 4,
 "nbformat_minor": 4
}
