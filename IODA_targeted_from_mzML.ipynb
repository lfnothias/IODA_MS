{
 "cells": [
  {
   "cell_type": "markdown",
   "metadata": {},
   "source": [
    "# <span style=\"color:red\"> Targeted-from-mzML notebook for IODA</span>\n",
    "\n",
    "**Purpose**: The IODA targeted-from-mzML workflow detects ions to be used as targets for iterative optimised data acquisition (IODA) of fragmentation spectra in LC-MS. The targets are detected in the \"reference\" sample, and background ions are detected in the \"blank\" sample. Background ions are excluded from the targets. The targets can be acquired by IODA in one or multiple experiments for higher coverage.\n",
    "\n",
    "**Usage**: This notebook runs OpenMS processing on two mzML files uploaded by the user. The OpenMS processing performs feature detection/alignment, and outputs an mzTab file with ions/features detected. The IODA-targeted workflow defines the targets, and these are then formatted for XCalibur or [MaxQuant.Live](http://www.maxquant.live/).\n",
    "\n",
    "**Documentation**: Please refer to the main documentation page for more informations on the OpenMS worklow used. [See here](link).\n",
    "\n",
    "**Instructions**: Follow the instructions below and run the notebook cells accordingly."
   ]
  },
  {
   "cell_type": "markdown",
   "metadata": {},
   "source": [
    "### Step 0 - Run your LC-MS mass spectrometry experiments\n",
    "\n",
    "Analyse your reference and \"blank\" samples by LC-MS.\n",
    "\n",
    "<span style=\"color:brown\">**IMPORTANT**</span>: The chromatographic and mass spectrometry conditions must be identical for all the samples analyzed with IODA. Note that there is no need for MS/MS acquisition for the reference and blank, as feature detection/alignment with OpenMS is performed only on the MS1 level. The following IODA-targeted experiments requires MS/MS acquisition.\n",
    "\n",
    "\n",
    "### Step 1 - Convert from .raw to .mzML file format\n",
    "\n",
    "You can use the [GNPS Quickstart interface web-interface](https://gnps-quickstart.ucsd.edu/conversion) to convert your .raw file(s) into .mzML file(s). The GNPS documentation provides [instructions](https://ccms-ucsd.github.io/GNPSDocumentation/fileconversion/) for converting MSConvert. Note that the spectra have to be centroided. Download the converted files.\n",
    "\n",
    "\n",
    "### Step 2 - Upload the mzML files\n",
    "\n",
    "##### <span style=\"color:brown\">Method 1 - Upload your mzML files</span>\n",
    "\n",
    "Upload your mzML files on the Binder server with the Jupyter lab interface (drag-and-drop the file in the left panel or use the \"Upload\" icon). \n",
    "\n",
    "##### <span style=\"color:brown\">Method 2 - Web-sharing links</span>\n",
    "We support retrieving the files from the following cloud sharing services:\n",
    "> **Google Drive** : copy the sharing the link (make sure the sharing setting is set to 'Anyone with the link can download').\n",
    "\n",
    "> **MassIVE/GNPS repository** : copy the link for each files.\n",
    "\n",
    "### Step 3 - Specify the link or path to the mzML files\n",
    "Specificy the filename or download link for the mzML files in the cell below. The \"blank\" sample in *input_BLANK* and the \"reference\" sample in *input_SAMPLE*. The string for the link/path must be between parenthesis, such as: *\"my_reference_sample.mzML\"* or *\"input_folder/my_reference_sample.mzML\"*"
   ]
  },
  {
   "cell_type": "code",
   "execution_count": 1,
   "metadata": {},
   "outputs": [],
   "source": [
    "# Blank sample\n",
    "input_BLANK = \"Path_to_Blank_mzML_file\"\n",
    "# Reference sample\n",
    "input_SAMPLE = \"Path_to_Reference_mzML_file\""
   ]
  },
  {
   "cell_type": "code",
   "execution_count": 2,
   "metadata": {},
   "outputs": [],
   "source": [
    "# Blank sample\n",
    "input_BLANK = \"tests/Euphorbia/Targeted/toppas_input/Euphorbia_rogers_latex_Blank_MS1_2uL.mzML\"\n",
    "# Reference sample\n",
    "input_SAMPLE = \"tests/Euphorbia/Targeted/toppas_input/Euphorbia_rogers_latex_latex_MS1_2uL.mzML\""
   ]
  },
  {
   "cell_type": "markdown",
   "metadata": {},
   "source": [
    "### Step 4 - Set the variables for the OpenMS processing\n",
    "\n",
    "If needed, change the default values for the OpenMS feature finder/alignement tool depending on your experimental set-up. The *ppm_tolerance* indicates the maximum tolerance for the feature detection/alignement (default is 10 ppm), and the *feature_noise* defines the noise level for the instrument (usually between 1E5-3E6 for Q Exactive)."
   ]
  },
  {
   "cell_type": "code",
   "execution_count": 3,
   "metadata": {},
   "outputs": [],
   "source": [
    "ppm_error = 10\n",
    "noise_level = 1E6"
   ]
  },
  {
   "cell_type": "markdown",
   "metadata": {},
   "source": [
    "### Step 5 - Run the OpenMS workflow\n",
    "\n",
    "Do not change the cell just below - Just run it to start OpenMS processing."
   ]
  },
  {
   "cell_type": "code",
   "execution_count": 5,
   "metadata": {},
   "outputs": [
    {
     "name": "stderr",
     "output_type": "stream",
     "text": [
      "[I 200714 00:00:16 IODA_run_OpenMS_targeted:30] 2020-07-14 00:00:16.030509\n",
      "[I 200714 00:00:16 IODA_run_OpenMS_targeted:31] STARTING the IODA-targeted WORKFLOW with OpenMS\n",
      "[I 200714 00:00:16 IODA_run_OpenMS_targeted:32] ======\n",
      "[I 200714 00:00:16 IODA_run_OpenMS_targeted:33] Path to the input files: \n",
      "[I 200714 00:00:16 IODA_run_OpenMS_targeted:34] Blank: tests/Euphorbia/Targeted/toppas_input/Euphorbia_rogers_latex_Blank_MS1_2uL.mzML\n",
      "[I 200714 00:00:16 IODA_run_OpenMS_targeted:35] Sample: tests/Euphorbia/Targeted/toppas_input/Euphorbia_rogers_latex_latex_MS1_2uL.mzML\n",
      "[I 200714 00:00:16 IODA_run_OpenMS_targeted:62] Copying the mzML files ...\n",
      "[I 200714 00:00:16 IODA_run_OpenMS_targeted:56] Path to uploaded file: tests/Euphorbia/Targeted/toppas_input/Euphorbia_rogers_latex_Blank_MS1_2uL.mzML\n",
      "[I 200714 00:00:16 IODA_run_OpenMS_targeted:56] Path to uploaded file: tests/Euphorbia/Targeted/toppas_input/Euphorbia_rogers_latex_latex_MS1_2uL.mzML\n",
      "[I 200714 00:00:16 IODA_run_OpenMS_targeted:66] ======\n",
      "[I 200714 00:00:16 IODA_run_OpenMS_targeted:67] Changing the variables of the OpenMS workflow ...\n",
      "[I 200714 00:00:16 IODA_run_OpenMS_targeted:68]    ppm error = 10\n",
      "[I 200714 00:00:16 IODA_run_OpenMS_targeted:69]    noise threshold = 1000000.0\n",
      "[I 200714 00:00:16 IODA_run_OpenMS_targeted:109] ======\n",
      "[I 200714 00:00:16 IODA_run_OpenMS_targeted:110] Initializing the TOPPAS/OpenMS workflow\n",
      "[I 200714 00:00:17 IODA_run_OpenMS_targeted:118] ======\n",
      "[I 200714 00:00:17 IODA_run_OpenMS_targeted:119] Running the TOPPAS/OpenMS workflow, this usually takes less than a minute, please wait ...\n",
      "[I 200714 00:00:17 IODA_run_OpenMS_targeted:120] If this takes longer, increase the noise feature_noise value ...\n",
      "[I 200714 00:00:22 IODA_run_OpenMS_targeted:133] ======\n",
      "[I 200714 00:00:22 IODA_run_OpenMS_targeted:134] Completed the OpenMS workflow\n",
      "[I 200714 00:00:22 IODA_run_OpenMS_targeted:135] ======\n",
      "[I 200714 00:00:22 IODA_run_OpenMS_targeted:136] Zipping up the OpenMS workflow results ..\n",
      "[I 200714 00:00:23 IODA_run_OpenMS_targeted:139] ======\n",
      "[I 200714 00:00:23 IODA_run_OpenMS_targeted:140] Completed zipping up the OpenMS workflow result files\n",
      "[I 200714 00:00:23 IODA_run_OpenMS_targeted:142] ======\n",
      "[I 200714 00:00:23 IODA_run_OpenMS_targeted:143] NOW CONTINUE WITH THE REST OF THE IODA-targeted WORKFLOW\n"
     ]
    },
    {
     "name": "stdout",
     "output_type": "stream",
     "text": [
      "All files zipped successfully!\n"
     ]
    }
   ],
   "source": [
    "from IODA_run_OpenMS_targeted import *\n",
    "IODA_targeted_workflow(input_BLANK,input_SAMPLE,ppm_error,noise_level)"
   ]
  },
  {
   "cell_type": "markdown",
   "metadata": {},
   "source": [
    "### Step 6 - Specify the parameters of the IODA-targeted workflow\n",
    "Specify the parameter values for IODA-targeted workflow in the cell below:\n",
    "\n",
    "*min_ratio_value*: minimum ratio for the intensity of an ion/feature (peak height) between the reference and blank samples (reference/blank). Only ions above that ratio will be valid ion targets. (Default = 5).\n",
    "\n",
    "*min_intensity_value*: the minimum intensity (peak height) of an ion/feature in the reference sample to be considered as valid ion targets. (Default = 1E5).\n",
    "\n",
    "*experiment_number*: define the number of iterative experiment(s) to perform for the IODA-targeted workflow. If >2, the valid target ions will be splitted into (multiple) experiments (Default = 3, range 1-10)\n"
   ]
  },
  {
   "cell_type": "code",
   "execution_count": 6,
   "metadata": {},
   "outputs": [],
   "source": [
    "min_ratio_value = 5\n",
    "min_intensity_value = 1E5\n",
    "experiment_number = 3"
   ]
  },
  {
   "cell_type": "markdown",
   "metadata": {},
   "source": [
    "### Step 7 - Run the IODA-targeted workflow\n",
    "\n",
    "Simply run the cell below to start the IODA-targeted workflow"
   ]
  },
  {
   "cell_type": "code",
   "execution_count": 7,
   "metadata": {},
   "outputs": [
    {
     "name": "stderr",
     "output_type": "stream",
     "text": [
      "[I 200713 22:31:56 IODA_targeted_workflow:279] STARTING THE IODA targeted-from-mzTab WORKFLOW\n",
      "[I 200713 22:31:56 IODA_targeted_workflow:284] The mzTab was generated with the IODA-OpenMS workflow\n",
      "[I 200713 22:31:56 IODA_targeted_workflow:292] 2020-07-13 22:31:56.206091\n",
      "[I 200713 22:31:56 IODA_targeted_workflow:295] ======\n",
      "[I 200713 22:31:56 IODA_targeted_workflow:296] Getting the mzTab\n",
      "[I 200713 22:31:56 IODA_targeted_workflow:312] This is the input file path: TOPPAS_Workflow/toppas_output/TOPPAS_out/Targeted_MzTab/Euphorbia_rogers_latex_Blank_MS1_2uL_to_Euphorbia_rogers_latex_latex_MS1_2uL_mrgd.mzTab\n",
      "[I 200713 22:31:56 IODA_targeted_workflow:313] This is the output file path: results_targeted/Euphorbia_rogers_latex_Blank_MS1_2uL_to_Euphorbia_rogers_latex_latex_MS1_2uL_mrgd.csv\n",
      "[I 200713 22:31:56 IODA_targeted_workflow:317] ======\n",
      "[I 200713 22:31:56 IODA_targeted_workflow:318] Converting mzTab to intermediate table format ...\n",
      "[I 200713 22:31:56 IODA_targeted_workflow:73] - For sample Euphorbia_rogers_latex_Blank_MS1_2uL the sum of feature intensities is = 564588185.0\n",
      "[I 200713 22:31:56 IODA_targeted_workflow:75] - For sample Euphorbia_rogers_latex_latex_MS1_2uL the sum of feature intensities = 56267410143.0\n",
      "[I 200713 22:31:56 IODA_targeted_workflow:320] ======\n",
      "[I 200713 22:31:56 IODA_targeted_workflow:325] Assumed sample filename: Euphorbia_rogers_latex_latex_MS1_2uL\n",
      "[I 200713 22:31:56 IODA_targeted_workflow:327] Assumed blank filename: Euphorbia_rogers_latex_Blank_MS1_2uL\n",
      "[I 200713 22:31:56 IODA_targeted_workflow:328] ======\n",
      "[I 200713 22:31:56 IODA_targeted_workflow:331] User-defined parameters\n",
      "[I 200713 22:31:56 IODA_targeted_workflow:333] Ratio between sample/blank for ion filtering = 5\n",
      "[I 200713 22:31:56 IODA_targeted_workflow:335] Minimum intensity for ion filtering in sample = 100000.0\n",
      "[I 200713 22:31:56 IODA_targeted_workflow:337] Number of iterative experiment(s) = 3\n",
      "[I 200713 22:31:56 IODA_targeted_workflow:338] ======\n",
      "[I 200713 22:31:56 IODA_targeted_workflow:341] Hard coded parameters\n",
      "[I 200713 22:31:56 IODA_targeted_workflow:343] Retention time window (sec.) for ions excluded = 30\n",
      "[I 200713 22:31:56 IODA_targeted_workflow:345] Retention time window (sec.) for ions targeted = 5\n",
      "[I 200713 22:31:56 IODA_targeted_workflow:347] Retention time window (sec.) for binning target ions = 30\n",
      "[I 200713 22:31:56 IODA_targeted_workflow:348] ======\n",
      "[I 200713 22:31:56 IODA_targeted_workflow:351] Running the table processing ...\n",
      "[I 200713 22:31:56 IODA_targeted_workflow:105] Initial number of ions 1202\n",
      "[I 200713 22:31:56 IODA_targeted_workflow:106] Number of ions in the blank = 76, with int. != 0 \n",
      "[I 200713 22:31:56 IODA_targeted_workflow:353] ======\n",
      "[I 200713 22:31:56 IODA_targeted_workflow:115] Number of ions shared between blank and sample = 45, with int. != 0 \n",
      "[I 200713 22:31:56 IODA_targeted_workflow:355] ======\n",
      "[I 200713 22:31:56 IODA_targeted_workflow:123] Number of ions in the sample (shotgun) = 1171, with int.!= 0 \n",
      "[I 200713 22:31:56 IODA_targeted_workflow:357] ======\n",
      "[I 200713 22:31:56 IODA_targeted_workflow:132] Number of target ions = 1126, with a ratio of sample/blank ratio of 5\n",
      "[I 200713 22:31:56 IODA_targeted_workflow:359] ======\n",
      "[I 200713 22:31:56 IODA_targeted_workflow:140] Number of target ions = 1126, with minimum intensity = 100000.0\n",
      "[I 200713 22:31:56 IODA_targeted_workflow:361] ======\n",
      "[I 200713 22:31:56 IODA_targeted_workflow:364] Splitting the tables\n",
      "[I 200713 22:31:56 IODA_targeted_workflow:369] ======\n",
      "[I 200713 22:31:56 IODA_targeted_workflow:385] Plotting the ions ... please wait ...\n",
      "[I 200713 22:32:02 IODA_targeted_workflow:394] ======\n",
      "[I 200713 22:32:02 IODA_targeted_workflow:397] Converting tables to XCalibur format ...\n",
      "[I 200713 22:32:02 IODA_targeted_workflow:404] ======\n",
      "[I 200713 22:32:02 IODA_targeted_workflow:407] Converting tables to MaxQuant.Live format ...\n",
      "[I 200713 22:32:03 IODA_targeted_workflow:415] ======\n",
      "[I 200713 22:32:03 IODA_targeted_workflow:416] Cleaning and zipping workflow results files ...\n",
      "[I 200713 22:32:03 IODA_targeted_workflow:269] All files zipped successfully!\n",
      "[I 200713 22:32:03 IODA_targeted_workflow:475] ======\n",
      "[I 200713 22:32:03 IODA_targeted_workflow:476] END OF THE IODA-targeted-from-mzTab WORKFLOW\n",
      "[I 200713 22:32:03 IODA_targeted_workflow:477] ======\n"
     ]
    },
    {
     "name": "stdout",
     "output_type": "stream",
     "text": [
      " \n"
     ]
    }
   ],
   "source": [
    "from IODA_targeted_workflow import *\n",
    "make_targeted_list_from_mzTab('OpenMS_generated', experiment_number, min_ratio_value, min_intensity_value)"
   ]
  },
  {
   "cell_type": "markdown",
   "metadata": {},
   "source": [
    "### Step 8 - Examine the results\n",
    "\n",
    "**Visualise** : Run the cell below to show the scatter plot for the IODA-targeted workflow results. Valid targets in the reference sample are represented into experiment(s). The ion/features from the blank sample are also shown. Verify that the OpenMS parameter variables and IODA-targeted workflows are adapted to level you want to apply, and your sample(s) complexity.\n",
    "\n",
    "- Examine the IODA-targeted worflow log and the plots in order to verify that the 'min_intensity' parameter is adapted to exclusion level you want to apply, and your sample(s) complexity.\n",
    "- Note that, at this stage, it cannot be evaluated if ion detection was done optimally. This should be examinated during the generation of the mzTab file (such as with TOPPAS/OpenMS)."
   ]
  },
  {
   "cell_type": "code",
   "execution_count": null,
   "metadata": {},
   "outputs": [],
   "source": [
    "from IPython.display import Image\n",
    "Image(\"results_targeted/intermediate_files/experiment_blank_shared_TARGETED_RATIO_scatter_view.png\")\n",
    "Image(\"results_targeted/intermediate_files/experiment_blank_shared_TARGETED_INTENSITY_scatter_view.png\")"
   ]
  },
  {
   "cell_type": "markdown",
   "metadata": {},
   "source": [
    "### Step 10 - Download the results\n",
    "\n",
    "Download the IODA-targeted Workflow results ->\n",
    "[download-results/IODA_targeted_results.zip](download-results/IODA_targeted_results.zip?download=1).\n",
    "\n",
    "(Optional) - Download the OpenMS results file -> \n",
    "[download_results/IODA_OpenMS_results.zip](download_results/IODA_OpenMS_results.zip?download=1). You can open the featureXML and consensusXML files with [OpenMS/TOPPView](https://github.com/OpenMS/OpenMS/releases) to inspect the quality of feature detection and alignment.\n",
    "\n",
    "### Step 11 - Prepare your IODA experiment\n",
    "Prepare the iterative mass spectrometry acquisition. For instructions on how to load and configure an exclusion list with XCalibur or MaxQuant.Live please refer to [the following documentation](nothing)."
   ]
  },
  {
   "cell_type": "code",
   "execution_count": null,
   "metadata": {},
   "outputs": [],
   "source": []
  }
 ],
 "metadata": {
  "kernelspec": {
   "display_name": "Python [conda env:python3]",
   "language": "python",
   "name": "conda-env-python3-py"
  },
  "language_info": {
   "codemirror_mode": {
    "name": "ipython",
    "version": 3
   },
   "file_extension": ".py",
   "mimetype": "text/x-python",
   "name": "python",
   "nbconvert_exporter": "python",
   "pygments_lexer": "ipython3",
   "version": "3.7.1"
  }
 },
 "nbformat": 4,
 "nbformat_minor": 2
}
