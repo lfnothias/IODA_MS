{
 "cells": [
  {
   "cell_type": "markdown",
   "metadata": {},
   "source": [
    "# IODA notebooks for Iterative Optimised Data Acquisition Strategy\n",
    "\n",
    "**Introduction**: IODA-notebooks are a collection of Jupyter notebooks for Iterative Optimised Data Acquisition (IODA) strategy in iterative tandem mass spectrometry experiment.\n",
    "\n",
    "===============================\n",
    "\n",
    "**IODA Workflows available**:\n",
    "\n",
    "> **IODA exclusion notebooks - Creation of exclusion list**\n",
    ">\n",
    "> Creation of sample-specific exclusion lists to be used in data dependent acquisition.\n",
    ">> IODA exclusion-from-mzML file -> Launch the [IODA exclusion-from-mzML notebook](IODA_exclusion_from_mzML.ipynb).\n",
    ">>\n",
    ">> IODA exclusion-from-mzTab file -> Launch the [IODA exclusion-from-mzTab notebook](IODA_exclusion_from_mztab.ipynb).\n",
    "\n",
    "> **IODA targeted notebooks - Creation of targets inclusion list**\n",
    ">\n",
    "> Creation of target inclusion lists for IODA acquisition. \n",
    ">> IODA targets-from-mzML files -> Launch the [IODA targeted-from-mzML notebook](IODA_targeted_from_mzML.ipynb). \n",
    ">>\n",
    ">> IODA targets-from-mzTab files -> Launch the [IODA targeted-from-mzTab notebook](IODA_targeted_from_mztab.ipynb). \n",
    "\n",
    "===============================\n",
    "\n",
    "**Instrument/Software supported**: Currently, only hydrid quadrupole Orbitrap mass spectrometers are supported by IODA notebooks. The acquisition in itself can be performed using via XCalibur or [MaxQuant.Live](http://www.maxquant.live/).\n",
    "\n",
    "**Installation**: The notebooks can be loaded on the cloud using Binder, or run locally.\n",
    "\n",
    "**Documentation**: Please consult the following page: [lfnothias.github.io/ioda](lfnothias.github.io/ioda).\n",
    "\n",
    "**Citation**: Please cite the following article: [Louis Felix Nothias, Ming Wang, Wout Bittremeux, et al. In preparation](lfnothias.github.io/ioda).\n",
    "\n",
    "**Feedback**: Please contact Louis Felix Nothias at [nothias@health.ucsd.edu](mailto:nothias@health.ucsd.edu)\n"
   ]
  },
  {
   "cell_type": "markdown",
   "metadata": {},
   "source": [
    "!!! **Disclaimer**. This binder notebook is temporary. Download the results files to access the results later, or run them locally !!!\n"
   ]
  },
  {
   "cell_type": "code",
   "execution_count": null,
   "metadata": {},
   "outputs": [],
   "source": [
    "####### TO DO\n",
    " - Make a full notebook for Exclusion from mzML\n",
    "# TARGETED\n",
    " - Make a full targeted notebook from mzTab\n",
    " - Make a full targeted notebook from mzML\n",
    "\n",
    "# MAKE DOCUMENTATION\n",
    "- In page\n",
    "- Dedicated doc\n",
    "\n",
    "# Make PAPER\n",
    "- Intro\n",
    "- Demo exclusion\n",
    "- Demo targeted"
   ]
  }
 ],
 "metadata": {
  "kernelspec": {
   "display_name": "Python [conda env:python3]",
   "language": "python",
   "name": "conda-env-python3-py"
  },
  "language_info": {
   "codemirror_mode": {
    "name": "ipython",
    "version": 3
   },
   "file_extension": ".py",
   "mimetype": "text/x-python",
   "name": "python",
   "nbconvert_exporter": "python",
   "pygments_lexer": "ipython3",
   "version": "3.7.1"
  }
 },
 "nbformat": 4,
 "nbformat_minor": 2
}
