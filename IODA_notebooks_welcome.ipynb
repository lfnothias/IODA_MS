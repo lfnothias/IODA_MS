{
 "cells": [
  {
   "cell_type": "markdown",
   "metadata": {},
   "source": [
    "# Notebooks for Iterative Optimised Data Acquisition\n",
    "\n",
    "**Introduction**: IODA-notebooks are a collection of Jupyter notebooks for <span style=\"color:blue\">Iterative Optimised Data Acquisition (IODA) strategy</span> in iterative non-targeted mass spectrometry experiment. Currently, only hybrid quadrupole-Orbitrap mass spectrometers are supported (i.e. Q Exactive).\n",
    "\n",
    "**Usage**: The present notebook(s) allows you to use the different IODA workflows on the cloud thanks to Binder. **<span style=\"color:red\"> Important: This Binder enviroment is temporary</span>**. Any changes done will not be saved. Download the results files to access them and for reproducibility.\n",
    "\n",
    "**Workflows available**:\n",
    "\n",
    "> <span style=\"color:blue\">**IODA exclusion notebooks**</span>\n",
    ">\n",
    "> Creation of sample-specific exclusion lists to be used in data dependent acquisition.\n",
    ">> **IODA exclusion-<span style=\"color:orange\">from-mzML</span> file** -> [Launch the notebook](IODA_exclusion_from_mzML.ipynb).\n",
    ">>\n",
    ">> **IODA exclusion-<span style=\"color:green\">from-mzTab</span> file** -> [Launch the notebook](IODA_exclusion_from_mztab.ipynb).\n",
    "\n",
    "> <span style=\"color:red\">**IODA targeted notebooks** </span>\n",
    ">\n",
    "> Creation of target inclusion lists for IODA acquisition. \n",
    ">> **IODA targeted-<span style=\"color:orange\">from-mzML</span> files** -> [Launch the notebook](IODA_targeted_from_mzML.ipynb). \n",
    ">>\n",
    ">> **IODA targeted-<span style=\"color:green\">from-mzTab</span> files** -> [Launch the notebook](IODA_targeted_from_mztab.ipynb). \n",
    "\n",
    "**Instrument/software supported**: Currently, only hydrid quadrupole Orbitrap mass spectrometers (i.e. Q Exactive) are supported by IODA notebooks. The acquisition in itself can be performed using via XCalibur or [MaxQuant.Live](http://www.maxquant.live/). If you want to use the IODA workflow for other mass spectrometers, please contact Louis-Felix Nothias at [nothias@health.ucsd.edu](mailto:nothias@health.ucsd.edu).\n",
    "\n",
    "**Installation**: The notebooks can be run on the cloud using [Binder](https://mybinder.org/v2/gh/lfnothias/IODA_MS/master?urlpath=lab/tree/IODA_notebooks_welcome.ipynb).\n",
    "\n",
    "**GitHub repository**: The GitHub repository is at https://github.com/lfnothias/IODA_MS\n",
    "\n",
    "**Documentation**: Please consult the following page: [lfnothias.github.io/ioda](lfnothias.github.io/ioda).\n",
    "\n",
    "**Main Citations**: \n",
    "> - *IODA-notebooks*: [Louis-Félix Nothias, Ming Wang, Wout Bittremeux, et al. In preparation](lfnothias.github.io/ioda).\n",
    ">- *Binder*: [Jupyter et al. Proceedings of the 17th Python\n",
    "in Science Conference. 2018](https://doi://10.25080/Majora-4af1f417-011).\n",
    "\n",
    ">If using OpenMS processing:\n",
    ">- *mzML format*: [Martens L, Chambers M, Sturm M, et al. Mol Cell Proteomics. 2011;10(1):R110.000133.](https://dx.doi.org/10.1074%2Fmcp.R110.000133).\n",
    ">- *OpenMS*: [Röst, H., Sachsenberg, T., Aiche, S. et al. Nat Methods 13, 741–748 (2016)](https://doi.org/10.1038/nmeth.3959).\n",
    ">- *TOPPAS*: [Junker. et al, J. Proteome Res. 2012, 11, 7, 3914–3920,](https://doi.org/10.1021/pr300187f).\n",
    "\n",
    ">Other citations:\n",
    ">- *mzTab*: [Griss et al, Molecular & Cellular Proteomics, 2014, 13 (10) 2765-2775](https://doi.org/10.1074/mcp.o113.036681).\n",
    ">- *iPython*: [Pérez, Brian E. Granger, Computing in Science and Engineering, vol. 9, no. 3, pp. 21-29, 2007](https://doi:10.1109/MCSE.2007.53).\n",
    "\n",
    "**Feedback and bugs**: For feedback and bug reports please use our [GitHub repository](https://github.com/lfnothias/IODA_MS) or contact Louis-Felix Nothias at [nothias@health.ucsd.edu](mailto:nothias@health.ucsd.edu)\n"
   ]
  }
 ],
 "metadata": {
  "kernelspec": {
   "display_name": "Python 3",
   "language": "python",
   "name": "python3"
  },
  "language_info": {
   "codemirror_mode": {
    "name": "ipython",
    "version": 3
   },
   "file_extension": ".py",
   "mimetype": "text/x-python",
   "name": "python",
   "nbconvert_exporter": "python",
   "pygments_lexer": "ipython3",
   "version": "3.6.9"
  }
 },
 "nbformat": 4,
 "nbformat_minor": 4
}
