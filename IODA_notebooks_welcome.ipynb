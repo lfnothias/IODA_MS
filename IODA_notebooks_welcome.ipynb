{
 "cells": [
  {
   "cell_type": "markdown",
   "metadata": {},
   "source": [
    "# IODA notebooks for Iterative Optimised Data Acquisition Strategy\n",
    "\n",
    "**Introduction**: IODA-notebooks are a collection of Jupyter notebooks for Iterative Optimised Data Acquisition (IODA) strategy for non-targeted mass spectrometry experiment.\n",
    "\n",
    "**Workflows available**:\n",
    "- *Creation of sample-specific exclusion lists to be used in data dependent acquisition*. -> Launch the [IODA-exclusion notebook](IODA_exclusion_from_mztab.ipynb).\n",
    "- *Creation of target inclusion lists for IODA acquisition*. -> Launch the [IODA-targeted notebook](IODA_targeted_from_mztab.ipynb). \n",
    "\n",
    "**Instrument/Software supported**: Currently, only hydrid quadrupole Orbitrap mass spectrometers are supported by IODA notebooks. The acquisition in itself can be performed using via XCalibur or [MaxQuant.Live](http://www.maxquant.live/).\n",
    "\n",
    "**Installation**: The notebooks can be loaded on the cloud using Binder.\n",
    "\n",
    "**Documentation**: Please consult the following page: [lfnothias.github.io/ioda](lfnothias.github.io/ioda).\n",
    "\n",
    "**Citation**: Please cite the following article: [Louis Felix Nothias, Ming Wang, Wout Bittremeux, et al. In preparation](lfnothias.github.io/ioda).\n",
    "\n",
    "**Feedback**: Please contact Louis Felix Nothias at [nothias@health.ucsd.edu](mailto:nothias@health.ucsd.edu)"
   ]
  }
 ],
 "metadata": {
  "kernelspec": {
   "display_name": "Python [conda env:python3]",
   "language": "python",
   "name": "conda-env-python3-py"
  },
  "language_info": {
   "codemirror_mode": {
    "name": "ipython",
    "version": 3
   },
   "file_extension": ".py",
   "mimetype": "text/x-python",
   "name": "python",
   "nbconvert_exporter": "python",
   "pygments_lexer": "ipython3",
   "version": "3.7.1"
  }
 },
 "nbformat": 4,
 "nbformat_minor": 2
}
