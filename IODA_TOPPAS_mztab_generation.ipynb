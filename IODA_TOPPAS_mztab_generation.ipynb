{
 "cells": [
  {
   "cell_type": "code",
   "execution_count": 1,
   "metadata": {},
   "outputs": [],
   "source": [
    "\n",
    "\n",
    "# TODO Do this Documentation"
   ]
  },
  {
   "cell_type": "code",
   "execution_count": 5,
   "metadata": {},
   "outputs": [],
   "source": [
    "# Python Includes\n",
    "import os"
   ]
  },
  {
   "cell_type": "code",
   "execution_count": null,
   "metadata": {},
   "outputs": [],
   "source": [
    "# Setting up environment \n",
    "\n",
    "#Trying to remove X1 lock\n",
    "rm /tmp/.X1-lock || true\n",
    "\n",
    "#Running  Virtual Buffer\n",
    "Xvfb :1 &\n",
    "sleep 1\n",
    "export DISPLAY=:1"
   ]
  },
  {
   "cell_type": "code",
   "execution_count": 6,
   "metadata": {},
   "outputs": [],
   "source": [
    "TOPPAS_Pipeline = \"toppas_Exclusion_workflow.toppas\"\n",
    "TOPPAS_output_folder = \"toppas_output\"\n",
    "TOPPAS_folder = \"TOPPAS_Workflow\""
   ]
  },
  {
   "cell_type": "code",
   "execution_count": 7,
   "metadata": {
    "collapsed": true,
    "jupyter": {
     "outputs_hidden": true
    }
   },
   "outputs": [
    {
     "name": "stdout",
     "output_type": "stream",
     "text": [
      "--2020-06-29 10:42:35--  https://github.com/mwang87/IODA_MS/raw/openms-docker-binder/tests/Euphorbia/Targeted/toppas_input/Euphorbia_rogers_latex_latex_MS1_2uL.mzML\n",
      "Resolving github.com (github.com)... 140.82.113.4\n",
      "Connecting to github.com (github.com)|140.82.113.4|:443... connected.\n",
      "HTTP request sent, awaiting response... 302 Found\n",
      "Location: https://raw.githubusercontent.com/mwang87/IODA_MS/openms-docker-binder/tests/Euphorbia/Targeted/toppas_input/Euphorbia_rogers_latex_latex_MS1_2uL.mzML [following]\n",
      "--2020-06-29 10:42:35--  https://raw.githubusercontent.com/mwang87/IODA_MS/openms-docker-binder/tests/Euphorbia/Targeted/toppas_input/Euphorbia_rogers_latex_latex_MS1_2uL.mzML\n",
      "Resolving raw.githubusercontent.com (raw.githubusercontent.com)... 151.101.196.133\n",
      "Connecting to raw.githubusercontent.com (raw.githubusercontent.com)|151.101.196.133|:443... connected.\n",
      "HTTP request sent, awaiting response... 200 OK\n",
      "Length: 31524741 (30M) [text/plain]\n",
      "Saving to: 'TOPPAS_Workflow/toppas_input/Blank.mzML'\n",
      "\n",
      "TOPPAS_Workflow/top 100%[===================>]  30.06M  75.1MB/s    in 0.4s    \n",
      "\n",
      "2020-06-29 10:42:36 (75.1 MB/s) - 'TOPPAS_Workflow/toppas_input/Blank.mzML' saved [31524741/31524741]\n",
      "\n"
     ]
    }
   ],
   "source": [
    "# Downloading Data\n",
    "SOURCE_MZML_URL = \"https://raw.githubusercontent.com/lfnothias/IODA_MS/test2/tests/Euphorbia/exclusion/toppas_input/Blank.mzML\"\n",
    "Target_mzML_Filename = os.path.join(TOPPAS_folder, \"toppas_input\", \"Blank.mzML\")\n",
    "\n",
    "!wget $SOURCE_MZML_URL -O $Target_mzML_Filename"
   ]
  },
  {
   "cell_type": "code",
   "execution_count": 3,
   "metadata": {
    "collapsed": true,
    "jupyter": {
     "outputs_hidden": true
    }
   },
   "outputs": [
    {
     "name": "stdout",
     "output_type": "stream",
     "text": [
      "/bin/sh: 1: /openms-build/bin/ExecutePipeline: not found\n"
     ]
    }
   ],
   "source": [
    "!cd $TOPPAS_folder && /openms-build/bin/ExecutePipeline -in $TOPPAS_Pipeline -out_dir $TOPPAS_output_folder"
   ]
  },
  {
   "cell_type": "code",
   "execution_count": null,
   "metadata": {},
   "outputs": [],
   "source": []
  }
 ],
 "metadata": {
  "kernelspec": {
   "display_name": "Python 3",
   "language": "python",
   "name": "python3"
  },
  "language_info": {
   "codemirror_mode": {
    "name": "ipython",
    "version": 3
   },
   "file_extension": ".py",
   "mimetype": "text/x-python",
   "name": "python",
   "nbconvert_exporter": "python",
   "pygments_lexer": "ipython3",
   "version": "3.7.3"
  }
 },
 "nbformat": 4,
 "nbformat_minor": 4
}
