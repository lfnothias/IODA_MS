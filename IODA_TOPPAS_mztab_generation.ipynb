{
 "cells": [
  {
   "cell_type": "code",
   "execution_count": 1,
   "metadata": {},
   "outputs": [],
   "source": [
    "# TODO Do this"
   ]
  },
  {
   "cell_type": "code",
   "execution_count": null,
   "metadata": {},
   "outputs": [],
   "source": [
    "TOPPAS_Pipeline = \"toppas_Exclusion_workflow.toppas\"\n",
    "TOPPAS_output_folder = \"toppas_output\"\n",
    "TOPPAS_folder = \"TOPPAS_Workflow\""
   ]
  },
  {
   "cell_type": "code",
   "execution_count": null,
   "metadata": {},
   "outputs": [],
   "source": [
    "# Downloading Data\n",
    "SOURCE_MZML_URL = \"https://github.com/mwang87/IODA_MS/raw/openms-docker-binder/tests/Euphorbia/Targeted/toppas_input/Euphorbia_rogers_latex_latex_MS1_2uL.mzML\"\n",
    "Target_mzML_Filename = os.path.join(TOPPAS_folder, \"toppas_input\", \"Blank.mzML\")\n",
    "\n",
    "!wget $SOURCE_MZML_URL -O $Target_mzML_Filename"
   ]
  },
  {
   "cell_type": "code",
   "execution_count": 3,
   "metadata": {},
   "outputs": [
    {
     "name": "stdout",
     "output_type": "stream",
     "text": [
      "/bin/sh: 1: /openms-build/bin/ExecutePipeline: not found\n"
     ]
    }
   ],
   "source": [
    "!cd $TOPPAS_folder && /openms-build/bin/ExecutePipeline -in $TOPPAS_Pipeline -out_dir $TOPPAS_output_folder"
   ]
  },
  {
   "cell_type": "code",
   "execution_count": null,
   "metadata": {},
   "outputs": [],
   "source": []
  }
 ],
 "metadata": {
  "kernelspec": {
   "display_name": "Python 3",
   "language": "python",
   "name": "python3"
  },
  "language_info": {
   "codemirror_mode": {
    "name": "ipython",
    "version": 3
   },
   "file_extension": ".py",
   "mimetype": "text/x-python",
   "name": "python",
   "nbconvert_exporter": "python",
   "pygments_lexer": "ipython3",
   "version": "3.7.3"
  }
 },
 "nbformat": 4,
 "nbformat_minor": 4
}
